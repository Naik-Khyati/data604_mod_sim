{
  "cells": [
    {
      "cell_type": "markdown",
      "metadata": {
        "id": "Jm8qnCK_j_NK"
      },
      "source": [
        "# Modeling and Simulation in Python\n",
        "\n",
        "Chapter 5\n",
        "\n",
        "Copyright 2017 Allen Downey\n",
        "\n",
        "License: [Creative Commons Attribution 4.0 International](https://creativecommons.org/licenses/by/4.0)\n"
      ]
    },
    {
      "cell_type": "code",
      "source": [
        "try:\n",
        "    import pint\n",
        "except ImportError:\n",
        "    !pip install pint\n",
        "    import pint"
      ],
      "metadata": {
        "colab": {
          "base_uri": "https://localhost:8080/"
        },
        "id": "jlJN6TTMeg4i",
        "outputId": "31a123b1-a7c9-48a0-d908-060cc82e2ef1"
      },
      "execution_count": 1,
      "outputs": [
        {
          "output_type": "stream",
          "name": "stdout",
          "text": [
            "Looking in indexes: https://pypi.org/simple, https://us-python.pkg.dev/colab-wheels/public/simple/\n",
            "Collecting pint\n",
            "  Downloading Pint-0.22-py3-none-any.whl (294 kB)\n",
            "\u001b[2K     \u001b[90m━━━━━━━━━━━━━━━━━━━━━━━━━━━━━━━━━━━━━━━\u001b[0m \u001b[32m294.0/294.0 kB\u001b[0m \u001b[31m6.4 MB/s\u001b[0m eta \u001b[36m0:00:00\u001b[0m\n",
            "\u001b[?25hRequirement already satisfied: typing-extensions in /usr/local/lib/python3.10/dist-packages (from pint) (4.5.0)\n",
            "Installing collected packages: pint\n",
            "Successfully installed pint-0.22\n"
          ]
        }
      ]
    },
    {
      "cell_type": "code",
      "source": [
        "try:\n",
        "    from modsim import *\n",
        "except ImportError:\n",
        "    !pip install modsimpy\n",
        "    from modsim import *"
      ],
      "metadata": {
        "colab": {
          "base_uri": "https://localhost:8080/"
        },
        "id": "BTBdF5XDehQP",
        "outputId": "3d01b874-2f12-45e2-9130-dca4a471927c"
      },
      "execution_count": 2,
      "outputs": [
        {
          "output_type": "stream",
          "name": "stdout",
          "text": [
            "Looking in indexes: https://pypi.org/simple, https://us-python.pkg.dev/colab-wheels/public/simple/\n",
            "Collecting modsimpy\n",
            "  Downloading modsimpy-1.1.3.tar.gz (19 kB)\n",
            "  Preparing metadata (setup.py) ... \u001b[?25l\u001b[?25hdone\n",
            "Building wheels for collected packages: modsimpy\n",
            "  Building wheel for modsimpy (setup.py) ... \u001b[?25l\u001b[?25hdone\n",
            "  Created wheel for modsimpy: filename=modsimpy-1.1.3-py3-none-any.whl size=20335 sha256=f8774960d5958fb1dded437e77a12a2bc6123016add6937cfe2648a16b8d7b55\n",
            "  Stored in directory: /root/.cache/pip/wheels/3a/21/22/b652cf3a4fc674c3377fdeb77da04bba02954a4ea5abe331be\n",
            "Successfully built modsimpy\n",
            "Installing collected packages: modsimpy\n",
            "Successfully installed modsimpy-1.1.3\n"
          ]
        }
      ]
    },
    {
      "cell_type": "code",
      "execution_count": 3,
      "metadata": {
        "id": "PbvWoBnEj_NX"
      },
      "outputs": [],
      "source": [
        "# Configure Jupyter so figures appear in the notebook\n",
        "%matplotlib inline\n",
        "\n",
        "# Configure Jupyter to display the assigned value after an assignment\n",
        "%config InteractiveShell.ast_node_interactivity='last_expr_or_assign'\n",
        "\n",
        "# import functions from the modsim.py module\n",
        "from modsim import *"
      ]
    },
    {
      "cell_type": "markdown",
      "metadata": {
        "id": "1L6ASDt1j_NZ"
      },
      "source": [
        "## Reading data\n",
        "\n",
        "Pandas is a library that provides tools for reading and processing data.  `read_html` reads a web page from a file or the Internet and creates one `DataFrame` for each table on the page."
      ]
    },
    {
      "cell_type": "code",
      "execution_count": 4,
      "metadata": {
        "id": "bPwQc0ruj_Na"
      },
      "outputs": [],
      "source": [
        "from pandas import read_html"
      ]
    },
    {
      "cell_type": "markdown",
      "metadata": {
        "id": "trmvJpHcj_Na"
      },
      "source": [
        "The data directory contains a downloaded copy of https://en.wikipedia.org/wiki/World_population_estimates\n",
        "\n",
        "The arguments of `read_html` specify the file to read and how to interpret the tables in the file.  The result, `tables`, is a sequence of `DataFrame` objects; `len(tables)` reports the length of the sequence."
      ]
    },
    {
      "cell_type": "code",
      "execution_count": 5,
      "metadata": {
        "id": "x4B86T-7j_Nb",
        "colab": {
          "base_uri": "https://localhost:8080/"
        },
        "outputId": "3524b773-05bf-4546-975d-f67dc5bf0fec"
      },
      "outputs": [
        {
          "output_type": "execute_result",
          "data": {
            "text/plain": [
              "6"
            ]
          },
          "metadata": {},
          "execution_count": 5
        }
      ],
      "source": [
        "filename = 'https://raw.githubusercontent.com/Naik-Khyati/data604_mod_sim/main/asgnmnt_2/World_population_estimates.html'\n",
        "# filename = 'data/World_population_estimates.html'\n",
        "\n",
        "tables = read_html(filename, header=0, index_col=0, decimal='M')\n",
        "len(tables)"
      ]
    },
    {
      "cell_type": "markdown",
      "metadata": {
        "id": "QGt2kmzTj_Nb"
      },
      "source": [
        "We can select the `DataFrame` we want using the bracket operator.  The tables are numbered from 0, so `tables[2]` is actually the third table on the page.\n",
        "\n",
        "`head` selects the header and the first five rows."
      ]
    },
    {
      "cell_type": "code",
      "execution_count": 6,
      "metadata": {
        "scrolled": true,
        "id": "nxJ8sjisj_Nc",
        "colab": {
          "base_uri": "https://localhost:8080/",
          "height": 316
        },
        "outputId": "f4dd8887-5d4b-4900-c05a-7058b1a8f2c3"
      },
      "outputs": [
        {
          "output_type": "execute_result",
          "data": {
            "text/plain": [
              "      United States Census Bureau (2017)[29]  \\\n",
              "Year                                           \n",
              "1950                              2557628654   \n",
              "1951                              2594939877   \n",
              "1952                              2636772306   \n",
              "1953                              2682053389   \n",
              "1954                              2730228104   \n",
              "\n",
              "      Population Reference Bureau (1973–2016)[15]  \\\n",
              "Year                                                \n",
              "1950                                 2.516000e+09   \n",
              "1951                                          NaN   \n",
              "1952                                          NaN   \n",
              "1953                                          NaN   \n",
              "1954                                          NaN   \n",
              "\n",
              "      United Nations Department of Economic and Social Affairs (2015)[16]  \\\n",
              "Year                                                                        \n",
              "1950                                       2.525149e+09                     \n",
              "1951                                       2.572851e+09                     \n",
              "1952                                       2.619292e+09                     \n",
              "1953                                       2.665865e+09                     \n",
              "1954                                       2.713172e+09                     \n",
              "\n",
              "      Maddison (2008)[17]  HYDE (2007)[25]  Tanton (1994)[19]  \\\n",
              "Year                                                            \n",
              "1950         2.544000e+09     2.527960e+09       2.400000e+09   \n",
              "1951         2.571663e+09              NaN                NaN   \n",
              "1952         2.617949e+09              NaN                NaN   \n",
              "1953         2.665959e+09              NaN                NaN   \n",
              "1954         2.716927e+09              NaN                NaN   \n",
              "\n",
              "      Biraben (1980)[20]  McEvedy & Jones (1978)[21]  Thomlinson (1975)[22]  \\\n",
              "Year                                                                          \n",
              "1950        2.527000e+09                2.500000e+09           2.400000e+09   \n",
              "1951                 NaN                         NaN                    NaN   \n",
              "1952                 NaN                         NaN                    NaN   \n",
              "1953                 NaN                         NaN                    NaN   \n",
              "1954                 NaN                         NaN                    NaN   \n",
              "\n",
              "     Durand (1974)[23]  Clark (1967)[24]  \n",
              "Year                                      \n",
              "1950               NaN      2.486000e+09  \n",
              "1951               NaN               NaN  \n",
              "1952               NaN               NaN  \n",
              "1953               NaN               NaN  \n",
              "1954               NaN               NaN  "
            ],
            "text/html": [
              "\n",
              "  <div id=\"df-df2b7659-c268-4bd7-88be-79b0cc1f1df9\">\n",
              "    <div class=\"colab-df-container\">\n",
              "      <div>\n",
              "<style scoped>\n",
              "    .dataframe tbody tr th:only-of-type {\n",
              "        vertical-align: middle;\n",
              "    }\n",
              "\n",
              "    .dataframe tbody tr th {\n",
              "        vertical-align: top;\n",
              "    }\n",
              "\n",
              "    .dataframe thead th {\n",
              "        text-align: right;\n",
              "    }\n",
              "</style>\n",
              "<table border=\"1\" class=\"dataframe\">\n",
              "  <thead>\n",
              "    <tr style=\"text-align: right;\">\n",
              "      <th></th>\n",
              "      <th>United States Census Bureau (2017)[29]</th>\n",
              "      <th>Population Reference Bureau (1973–2016)[15]</th>\n",
              "      <th>United Nations Department of Economic and Social Affairs (2015)[16]</th>\n",
              "      <th>Maddison (2008)[17]</th>\n",
              "      <th>HYDE (2007)[25]</th>\n",
              "      <th>Tanton (1994)[19]</th>\n",
              "      <th>Biraben (1980)[20]</th>\n",
              "      <th>McEvedy &amp; Jones (1978)[21]</th>\n",
              "      <th>Thomlinson (1975)[22]</th>\n",
              "      <th>Durand (1974)[23]</th>\n",
              "      <th>Clark (1967)[24]</th>\n",
              "    </tr>\n",
              "    <tr>\n",
              "      <th>Year</th>\n",
              "      <th></th>\n",
              "      <th></th>\n",
              "      <th></th>\n",
              "      <th></th>\n",
              "      <th></th>\n",
              "      <th></th>\n",
              "      <th></th>\n",
              "      <th></th>\n",
              "      <th></th>\n",
              "      <th></th>\n",
              "      <th></th>\n",
              "    </tr>\n",
              "  </thead>\n",
              "  <tbody>\n",
              "    <tr>\n",
              "      <th>1950</th>\n",
              "      <td>2557628654</td>\n",
              "      <td>2.516000e+09</td>\n",
              "      <td>2.525149e+09</td>\n",
              "      <td>2.544000e+09</td>\n",
              "      <td>2.527960e+09</td>\n",
              "      <td>2.400000e+09</td>\n",
              "      <td>2.527000e+09</td>\n",
              "      <td>2.500000e+09</td>\n",
              "      <td>2.400000e+09</td>\n",
              "      <td>NaN</td>\n",
              "      <td>2.486000e+09</td>\n",
              "    </tr>\n",
              "    <tr>\n",
              "      <th>1951</th>\n",
              "      <td>2594939877</td>\n",
              "      <td>NaN</td>\n",
              "      <td>2.572851e+09</td>\n",
              "      <td>2.571663e+09</td>\n",
              "      <td>NaN</td>\n",
              "      <td>NaN</td>\n",
              "      <td>NaN</td>\n",
              "      <td>NaN</td>\n",
              "      <td>NaN</td>\n",
              "      <td>NaN</td>\n",
              "      <td>NaN</td>\n",
              "    </tr>\n",
              "    <tr>\n",
              "      <th>1952</th>\n",
              "      <td>2636772306</td>\n",
              "      <td>NaN</td>\n",
              "      <td>2.619292e+09</td>\n",
              "      <td>2.617949e+09</td>\n",
              "      <td>NaN</td>\n",
              "      <td>NaN</td>\n",
              "      <td>NaN</td>\n",
              "      <td>NaN</td>\n",
              "      <td>NaN</td>\n",
              "      <td>NaN</td>\n",
              "      <td>NaN</td>\n",
              "    </tr>\n",
              "    <tr>\n",
              "      <th>1953</th>\n",
              "      <td>2682053389</td>\n",
              "      <td>NaN</td>\n",
              "      <td>2.665865e+09</td>\n",
              "      <td>2.665959e+09</td>\n",
              "      <td>NaN</td>\n",
              "      <td>NaN</td>\n",
              "      <td>NaN</td>\n",
              "      <td>NaN</td>\n",
              "      <td>NaN</td>\n",
              "      <td>NaN</td>\n",
              "      <td>NaN</td>\n",
              "    </tr>\n",
              "    <tr>\n",
              "      <th>1954</th>\n",
              "      <td>2730228104</td>\n",
              "      <td>NaN</td>\n",
              "      <td>2.713172e+09</td>\n",
              "      <td>2.716927e+09</td>\n",
              "      <td>NaN</td>\n",
              "      <td>NaN</td>\n",
              "      <td>NaN</td>\n",
              "      <td>NaN</td>\n",
              "      <td>NaN</td>\n",
              "      <td>NaN</td>\n",
              "      <td>NaN</td>\n",
              "    </tr>\n",
              "  </tbody>\n",
              "</table>\n",
              "</div>\n",
              "      <button class=\"colab-df-convert\" onclick=\"convertToInteractive('df-df2b7659-c268-4bd7-88be-79b0cc1f1df9')\"\n",
              "              title=\"Convert this dataframe to an interactive table.\"\n",
              "              style=\"display:none;\">\n",
              "        \n",
              "  <svg xmlns=\"http://www.w3.org/2000/svg\" height=\"24px\"viewBox=\"0 0 24 24\"\n",
              "       width=\"24px\">\n",
              "    <path d=\"M0 0h24v24H0V0z\" fill=\"none\"/>\n",
              "    <path d=\"M18.56 5.44l.94 2.06.94-2.06 2.06-.94-2.06-.94-.94-2.06-.94 2.06-2.06.94zm-11 1L8.5 8.5l.94-2.06 2.06-.94-2.06-.94L8.5 2.5l-.94 2.06-2.06.94zm10 10l.94 2.06.94-2.06 2.06-.94-2.06-.94-.94-2.06-.94 2.06-2.06.94z\"/><path d=\"M17.41 7.96l-1.37-1.37c-.4-.4-.92-.59-1.43-.59-.52 0-1.04.2-1.43.59L10.3 9.45l-7.72 7.72c-.78.78-.78 2.05 0 2.83L4 21.41c.39.39.9.59 1.41.59.51 0 1.02-.2 1.41-.59l7.78-7.78 2.81-2.81c.8-.78.8-2.07 0-2.86zM5.41 20L4 18.59l7.72-7.72 1.47 1.35L5.41 20z\"/>\n",
              "  </svg>\n",
              "      </button>\n",
              "      \n",
              "  <style>\n",
              "    .colab-df-container {\n",
              "      display:flex;\n",
              "      flex-wrap:wrap;\n",
              "      gap: 12px;\n",
              "    }\n",
              "\n",
              "    .colab-df-convert {\n",
              "      background-color: #E8F0FE;\n",
              "      border: none;\n",
              "      border-radius: 50%;\n",
              "      cursor: pointer;\n",
              "      display: none;\n",
              "      fill: #1967D2;\n",
              "      height: 32px;\n",
              "      padding: 0 0 0 0;\n",
              "      width: 32px;\n",
              "    }\n",
              "\n",
              "    .colab-df-convert:hover {\n",
              "      background-color: #E2EBFA;\n",
              "      box-shadow: 0px 1px 2px rgba(60, 64, 67, 0.3), 0px 1px 3px 1px rgba(60, 64, 67, 0.15);\n",
              "      fill: #174EA6;\n",
              "    }\n",
              "\n",
              "    [theme=dark] .colab-df-convert {\n",
              "      background-color: #3B4455;\n",
              "      fill: #D2E3FC;\n",
              "    }\n",
              "\n",
              "    [theme=dark] .colab-df-convert:hover {\n",
              "      background-color: #434B5C;\n",
              "      box-shadow: 0px 1px 3px 1px rgba(0, 0, 0, 0.15);\n",
              "      filter: drop-shadow(0px 1px 2px rgba(0, 0, 0, 0.3));\n",
              "      fill: #FFFFFF;\n",
              "    }\n",
              "  </style>\n",
              "\n",
              "      <script>\n",
              "        const buttonEl =\n",
              "          document.querySelector('#df-df2b7659-c268-4bd7-88be-79b0cc1f1df9 button.colab-df-convert');\n",
              "        buttonEl.style.display =\n",
              "          google.colab.kernel.accessAllowed ? 'block' : 'none';\n",
              "\n",
              "        async function convertToInteractive(key) {\n",
              "          const element = document.querySelector('#df-df2b7659-c268-4bd7-88be-79b0cc1f1df9');\n",
              "          const dataTable =\n",
              "            await google.colab.kernel.invokeFunction('convertToInteractive',\n",
              "                                                     [key], {});\n",
              "          if (!dataTable) return;\n",
              "\n",
              "          const docLinkHtml = 'Like what you see? Visit the ' +\n",
              "            '<a target=\"_blank\" href=https://colab.research.google.com/notebooks/data_table.ipynb>data table notebook</a>'\n",
              "            + ' to learn more about interactive tables.';\n",
              "          element.innerHTML = '';\n",
              "          dataTable['output_type'] = 'display_data';\n",
              "          await google.colab.output.renderOutput(dataTable, element);\n",
              "          const docLink = document.createElement('div');\n",
              "          docLink.innerHTML = docLinkHtml;\n",
              "          element.appendChild(docLink);\n",
              "        }\n",
              "      </script>\n",
              "    </div>\n",
              "  </div>\n",
              "  "
            ]
          },
          "metadata": {},
          "execution_count": 6
        }
      ],
      "source": [
        "table2 = tables[2]\n",
        "table2.head()"
      ]
    },
    {
      "cell_type": "markdown",
      "metadata": {
        "id": "Jlom_32Sj_Nd"
      },
      "source": [
        "`tail` selects the last five rows."
      ]
    },
    {
      "cell_type": "code",
      "execution_count": 7,
      "metadata": {
        "id": "AH5rBEpOj_Nd",
        "colab": {
          "base_uri": "https://localhost:8080/",
          "height": 316
        },
        "outputId": "0da8ea12-9f78-4486-d9cb-2a9c734f11ae"
      },
      "outputs": [
        {
          "output_type": "execute_result",
          "data": {
            "text/plain": [
              "      United States Census Bureau (2017)[29]  \\\n",
              "Year                                           \n",
              "2012                              7013871313   \n",
              "2013                              7092128094   \n",
              "2014                              7169968185   \n",
              "2015                              7247892788   \n",
              "2016                              7325996709   \n",
              "\n",
              "      Population Reference Bureau (1973–2016)[15]  \\\n",
              "Year                                                \n",
              "2012                                 7.057075e+09   \n",
              "2013                                 7.136796e+09   \n",
              "2014                                 7.238184e+09   \n",
              "2015                                 7.336435e+09   \n",
              "2016                                 7.418152e+09   \n",
              "\n",
              "      United Nations Department of Economic and Social Affairs (2015)[16]  \\\n",
              "Year                                                                        \n",
              "2012                                       7.080072e+09                     \n",
              "2013                                       7.162119e+09                     \n",
              "2014                                       7.243784e+09                     \n",
              "2015                                       7.349472e+09                     \n",
              "2016                                                NaN                     \n",
              "\n",
              "      Maddison (2008)[17]  HYDE (2007)[25]  Tanton (1994)[19]  \\\n",
              "Year                                                            \n",
              "2012                  NaN              NaN                NaN   \n",
              "2013                  NaN              NaN                NaN   \n",
              "2014                  NaN              NaN                NaN   \n",
              "2015                  NaN              NaN                NaN   \n",
              "2016                  NaN              NaN                NaN   \n",
              "\n",
              "      Biraben (1980)[20]  McEvedy & Jones (1978)[21]  Thomlinson (1975)[22]  \\\n",
              "Year                                                                          \n",
              "2012                 NaN                         NaN                    NaN   \n",
              "2013                 NaN                         NaN                    NaN   \n",
              "2014                 NaN                         NaN                    NaN   \n",
              "2015                 NaN                         NaN                    NaN   \n",
              "2016                 NaN                         NaN                    NaN   \n",
              "\n",
              "     Durand (1974)[23]  Clark (1967)[24]  \n",
              "Year                                      \n",
              "2012               NaN               NaN  \n",
              "2013               NaN               NaN  \n",
              "2014               NaN               NaN  \n",
              "2015               NaN               NaN  \n",
              "2016               NaN               NaN  "
            ],
            "text/html": [
              "\n",
              "  <div id=\"df-268b8f94-64cb-4405-baaf-a57396d52330\">\n",
              "    <div class=\"colab-df-container\">\n",
              "      <div>\n",
              "<style scoped>\n",
              "    .dataframe tbody tr th:only-of-type {\n",
              "        vertical-align: middle;\n",
              "    }\n",
              "\n",
              "    .dataframe tbody tr th {\n",
              "        vertical-align: top;\n",
              "    }\n",
              "\n",
              "    .dataframe thead th {\n",
              "        text-align: right;\n",
              "    }\n",
              "</style>\n",
              "<table border=\"1\" class=\"dataframe\">\n",
              "  <thead>\n",
              "    <tr style=\"text-align: right;\">\n",
              "      <th></th>\n",
              "      <th>United States Census Bureau (2017)[29]</th>\n",
              "      <th>Population Reference Bureau (1973–2016)[15]</th>\n",
              "      <th>United Nations Department of Economic and Social Affairs (2015)[16]</th>\n",
              "      <th>Maddison (2008)[17]</th>\n",
              "      <th>HYDE (2007)[25]</th>\n",
              "      <th>Tanton (1994)[19]</th>\n",
              "      <th>Biraben (1980)[20]</th>\n",
              "      <th>McEvedy &amp; Jones (1978)[21]</th>\n",
              "      <th>Thomlinson (1975)[22]</th>\n",
              "      <th>Durand (1974)[23]</th>\n",
              "      <th>Clark (1967)[24]</th>\n",
              "    </tr>\n",
              "    <tr>\n",
              "      <th>Year</th>\n",
              "      <th></th>\n",
              "      <th></th>\n",
              "      <th></th>\n",
              "      <th></th>\n",
              "      <th></th>\n",
              "      <th></th>\n",
              "      <th></th>\n",
              "      <th></th>\n",
              "      <th></th>\n",
              "      <th></th>\n",
              "      <th></th>\n",
              "    </tr>\n",
              "  </thead>\n",
              "  <tbody>\n",
              "    <tr>\n",
              "      <th>2012</th>\n",
              "      <td>7013871313</td>\n",
              "      <td>7.057075e+09</td>\n",
              "      <td>7.080072e+09</td>\n",
              "      <td>NaN</td>\n",
              "      <td>NaN</td>\n",
              "      <td>NaN</td>\n",
              "      <td>NaN</td>\n",
              "      <td>NaN</td>\n",
              "      <td>NaN</td>\n",
              "      <td>NaN</td>\n",
              "      <td>NaN</td>\n",
              "    </tr>\n",
              "    <tr>\n",
              "      <th>2013</th>\n",
              "      <td>7092128094</td>\n",
              "      <td>7.136796e+09</td>\n",
              "      <td>7.162119e+09</td>\n",
              "      <td>NaN</td>\n",
              "      <td>NaN</td>\n",
              "      <td>NaN</td>\n",
              "      <td>NaN</td>\n",
              "      <td>NaN</td>\n",
              "      <td>NaN</td>\n",
              "      <td>NaN</td>\n",
              "      <td>NaN</td>\n",
              "    </tr>\n",
              "    <tr>\n",
              "      <th>2014</th>\n",
              "      <td>7169968185</td>\n",
              "      <td>7.238184e+09</td>\n",
              "      <td>7.243784e+09</td>\n",
              "      <td>NaN</td>\n",
              "      <td>NaN</td>\n",
              "      <td>NaN</td>\n",
              "      <td>NaN</td>\n",
              "      <td>NaN</td>\n",
              "      <td>NaN</td>\n",
              "      <td>NaN</td>\n",
              "      <td>NaN</td>\n",
              "    </tr>\n",
              "    <tr>\n",
              "      <th>2015</th>\n",
              "      <td>7247892788</td>\n",
              "      <td>7.336435e+09</td>\n",
              "      <td>7.349472e+09</td>\n",
              "      <td>NaN</td>\n",
              "      <td>NaN</td>\n",
              "      <td>NaN</td>\n",
              "      <td>NaN</td>\n",
              "      <td>NaN</td>\n",
              "      <td>NaN</td>\n",
              "      <td>NaN</td>\n",
              "      <td>NaN</td>\n",
              "    </tr>\n",
              "    <tr>\n",
              "      <th>2016</th>\n",
              "      <td>7325996709</td>\n",
              "      <td>7.418152e+09</td>\n",
              "      <td>NaN</td>\n",
              "      <td>NaN</td>\n",
              "      <td>NaN</td>\n",
              "      <td>NaN</td>\n",
              "      <td>NaN</td>\n",
              "      <td>NaN</td>\n",
              "      <td>NaN</td>\n",
              "      <td>NaN</td>\n",
              "      <td>NaN</td>\n",
              "    </tr>\n",
              "  </tbody>\n",
              "</table>\n",
              "</div>\n",
              "      <button class=\"colab-df-convert\" onclick=\"convertToInteractive('df-268b8f94-64cb-4405-baaf-a57396d52330')\"\n",
              "              title=\"Convert this dataframe to an interactive table.\"\n",
              "              style=\"display:none;\">\n",
              "        \n",
              "  <svg xmlns=\"http://www.w3.org/2000/svg\" height=\"24px\"viewBox=\"0 0 24 24\"\n",
              "       width=\"24px\">\n",
              "    <path d=\"M0 0h24v24H0V0z\" fill=\"none\"/>\n",
              "    <path d=\"M18.56 5.44l.94 2.06.94-2.06 2.06-.94-2.06-.94-.94-2.06-.94 2.06-2.06.94zm-11 1L8.5 8.5l.94-2.06 2.06-.94-2.06-.94L8.5 2.5l-.94 2.06-2.06.94zm10 10l.94 2.06.94-2.06 2.06-.94-2.06-.94-.94-2.06-.94 2.06-2.06.94z\"/><path d=\"M17.41 7.96l-1.37-1.37c-.4-.4-.92-.59-1.43-.59-.52 0-1.04.2-1.43.59L10.3 9.45l-7.72 7.72c-.78.78-.78 2.05 0 2.83L4 21.41c.39.39.9.59 1.41.59.51 0 1.02-.2 1.41-.59l7.78-7.78 2.81-2.81c.8-.78.8-2.07 0-2.86zM5.41 20L4 18.59l7.72-7.72 1.47 1.35L5.41 20z\"/>\n",
              "  </svg>\n",
              "      </button>\n",
              "      \n",
              "  <style>\n",
              "    .colab-df-container {\n",
              "      display:flex;\n",
              "      flex-wrap:wrap;\n",
              "      gap: 12px;\n",
              "    }\n",
              "\n",
              "    .colab-df-convert {\n",
              "      background-color: #E8F0FE;\n",
              "      border: none;\n",
              "      border-radius: 50%;\n",
              "      cursor: pointer;\n",
              "      display: none;\n",
              "      fill: #1967D2;\n",
              "      height: 32px;\n",
              "      padding: 0 0 0 0;\n",
              "      width: 32px;\n",
              "    }\n",
              "\n",
              "    .colab-df-convert:hover {\n",
              "      background-color: #E2EBFA;\n",
              "      box-shadow: 0px 1px 2px rgba(60, 64, 67, 0.3), 0px 1px 3px 1px rgba(60, 64, 67, 0.15);\n",
              "      fill: #174EA6;\n",
              "    }\n",
              "\n",
              "    [theme=dark] .colab-df-convert {\n",
              "      background-color: #3B4455;\n",
              "      fill: #D2E3FC;\n",
              "    }\n",
              "\n",
              "    [theme=dark] .colab-df-convert:hover {\n",
              "      background-color: #434B5C;\n",
              "      box-shadow: 0px 1px 3px 1px rgba(0, 0, 0, 0.15);\n",
              "      filter: drop-shadow(0px 1px 2px rgba(0, 0, 0, 0.3));\n",
              "      fill: #FFFFFF;\n",
              "    }\n",
              "  </style>\n",
              "\n",
              "      <script>\n",
              "        const buttonEl =\n",
              "          document.querySelector('#df-268b8f94-64cb-4405-baaf-a57396d52330 button.colab-df-convert');\n",
              "        buttonEl.style.display =\n",
              "          google.colab.kernel.accessAllowed ? 'block' : 'none';\n",
              "\n",
              "        async function convertToInteractive(key) {\n",
              "          const element = document.querySelector('#df-268b8f94-64cb-4405-baaf-a57396d52330');\n",
              "          const dataTable =\n",
              "            await google.colab.kernel.invokeFunction('convertToInteractive',\n",
              "                                                     [key], {});\n",
              "          if (!dataTable) return;\n",
              "\n",
              "          const docLinkHtml = 'Like what you see? Visit the ' +\n",
              "            '<a target=\"_blank\" href=https://colab.research.google.com/notebooks/data_table.ipynb>data table notebook</a>'\n",
              "            + ' to learn more about interactive tables.';\n",
              "          element.innerHTML = '';\n",
              "          dataTable['output_type'] = 'display_data';\n",
              "          await google.colab.output.renderOutput(dataTable, element);\n",
              "          const docLink = document.createElement('div');\n",
              "          docLink.innerHTML = docLinkHtml;\n",
              "          element.appendChild(docLink);\n",
              "        }\n",
              "      </script>\n",
              "    </div>\n",
              "  </div>\n",
              "  "
            ]
          },
          "metadata": {},
          "execution_count": 7
        }
      ],
      "source": [
        "table2.tail()"
      ]
    },
    {
      "cell_type": "markdown",
      "metadata": {
        "id": "mtQMHM-zj_Ne"
      },
      "source": [
        "Long column names are awkard to work with, but we can replace them with abbreviated names."
      ]
    },
    {
      "cell_type": "code",
      "execution_count": 8,
      "metadata": {
        "id": "KhYoDowAj_Ne"
      },
      "outputs": [],
      "source": [
        "table2.columns = ['census', 'prb', 'un', 'maddison', \n",
        "                  'hyde', 'tanton', 'biraben', 'mj', \n",
        "                  'thomlinson', 'durand', 'clark']"
      ]
    },
    {
      "cell_type": "markdown",
      "metadata": {
        "id": "reDnEL4dj_Nf"
      },
      "source": [
        "Here's what the DataFrame looks like now.  "
      ]
    },
    {
      "cell_type": "code",
      "execution_count": 9,
      "metadata": {
        "id": "UbzykZoFj_Nf",
        "colab": {
          "base_uri": "https://localhost:8080/",
          "height": 237
        },
        "outputId": "efc347e1-386d-4764-e690-a2b0e2d2102a"
      },
      "outputs": [
        {
          "output_type": "execute_result",
          "data": {
            "text/plain": [
              "          census           prb            un      maddison          hyde  \\\n",
              "Year                                                                       \n",
              "1950  2557628654  2.516000e+09  2.525149e+09  2.544000e+09  2.527960e+09   \n",
              "1951  2594939877           NaN  2.572851e+09  2.571663e+09           NaN   \n",
              "1952  2636772306           NaN  2.619292e+09  2.617949e+09           NaN   \n",
              "1953  2682053389           NaN  2.665865e+09  2.665959e+09           NaN   \n",
              "1954  2730228104           NaN  2.713172e+09  2.716927e+09           NaN   \n",
              "\n",
              "            tanton       biraben            mj    thomlinson durand  \\\n",
              "Year                                                                  \n",
              "1950  2.400000e+09  2.527000e+09  2.500000e+09  2.400000e+09    NaN   \n",
              "1951           NaN           NaN           NaN           NaN    NaN   \n",
              "1952           NaN           NaN           NaN           NaN    NaN   \n",
              "1953           NaN           NaN           NaN           NaN    NaN   \n",
              "1954           NaN           NaN           NaN           NaN    NaN   \n",
              "\n",
              "             clark  \n",
              "Year                \n",
              "1950  2.486000e+09  \n",
              "1951           NaN  \n",
              "1952           NaN  \n",
              "1953           NaN  \n",
              "1954           NaN  "
            ],
            "text/html": [
              "\n",
              "  <div id=\"df-ecb3cdb0-eb9c-40ec-91f2-9b898fee9108\">\n",
              "    <div class=\"colab-df-container\">\n",
              "      <div>\n",
              "<style scoped>\n",
              "    .dataframe tbody tr th:only-of-type {\n",
              "        vertical-align: middle;\n",
              "    }\n",
              "\n",
              "    .dataframe tbody tr th {\n",
              "        vertical-align: top;\n",
              "    }\n",
              "\n",
              "    .dataframe thead th {\n",
              "        text-align: right;\n",
              "    }\n",
              "</style>\n",
              "<table border=\"1\" class=\"dataframe\">\n",
              "  <thead>\n",
              "    <tr style=\"text-align: right;\">\n",
              "      <th></th>\n",
              "      <th>census</th>\n",
              "      <th>prb</th>\n",
              "      <th>un</th>\n",
              "      <th>maddison</th>\n",
              "      <th>hyde</th>\n",
              "      <th>tanton</th>\n",
              "      <th>biraben</th>\n",
              "      <th>mj</th>\n",
              "      <th>thomlinson</th>\n",
              "      <th>durand</th>\n",
              "      <th>clark</th>\n",
              "    </tr>\n",
              "    <tr>\n",
              "      <th>Year</th>\n",
              "      <th></th>\n",
              "      <th></th>\n",
              "      <th></th>\n",
              "      <th></th>\n",
              "      <th></th>\n",
              "      <th></th>\n",
              "      <th></th>\n",
              "      <th></th>\n",
              "      <th></th>\n",
              "      <th></th>\n",
              "      <th></th>\n",
              "    </tr>\n",
              "  </thead>\n",
              "  <tbody>\n",
              "    <tr>\n",
              "      <th>1950</th>\n",
              "      <td>2557628654</td>\n",
              "      <td>2.516000e+09</td>\n",
              "      <td>2.525149e+09</td>\n",
              "      <td>2.544000e+09</td>\n",
              "      <td>2.527960e+09</td>\n",
              "      <td>2.400000e+09</td>\n",
              "      <td>2.527000e+09</td>\n",
              "      <td>2.500000e+09</td>\n",
              "      <td>2.400000e+09</td>\n",
              "      <td>NaN</td>\n",
              "      <td>2.486000e+09</td>\n",
              "    </tr>\n",
              "    <tr>\n",
              "      <th>1951</th>\n",
              "      <td>2594939877</td>\n",
              "      <td>NaN</td>\n",
              "      <td>2.572851e+09</td>\n",
              "      <td>2.571663e+09</td>\n",
              "      <td>NaN</td>\n",
              "      <td>NaN</td>\n",
              "      <td>NaN</td>\n",
              "      <td>NaN</td>\n",
              "      <td>NaN</td>\n",
              "      <td>NaN</td>\n",
              "      <td>NaN</td>\n",
              "    </tr>\n",
              "    <tr>\n",
              "      <th>1952</th>\n",
              "      <td>2636772306</td>\n",
              "      <td>NaN</td>\n",
              "      <td>2.619292e+09</td>\n",
              "      <td>2.617949e+09</td>\n",
              "      <td>NaN</td>\n",
              "      <td>NaN</td>\n",
              "      <td>NaN</td>\n",
              "      <td>NaN</td>\n",
              "      <td>NaN</td>\n",
              "      <td>NaN</td>\n",
              "      <td>NaN</td>\n",
              "    </tr>\n",
              "    <tr>\n",
              "      <th>1953</th>\n",
              "      <td>2682053389</td>\n",
              "      <td>NaN</td>\n",
              "      <td>2.665865e+09</td>\n",
              "      <td>2.665959e+09</td>\n",
              "      <td>NaN</td>\n",
              "      <td>NaN</td>\n",
              "      <td>NaN</td>\n",
              "      <td>NaN</td>\n",
              "      <td>NaN</td>\n",
              "      <td>NaN</td>\n",
              "      <td>NaN</td>\n",
              "    </tr>\n",
              "    <tr>\n",
              "      <th>1954</th>\n",
              "      <td>2730228104</td>\n",
              "      <td>NaN</td>\n",
              "      <td>2.713172e+09</td>\n",
              "      <td>2.716927e+09</td>\n",
              "      <td>NaN</td>\n",
              "      <td>NaN</td>\n",
              "      <td>NaN</td>\n",
              "      <td>NaN</td>\n",
              "      <td>NaN</td>\n",
              "      <td>NaN</td>\n",
              "      <td>NaN</td>\n",
              "    </tr>\n",
              "  </tbody>\n",
              "</table>\n",
              "</div>\n",
              "      <button class=\"colab-df-convert\" onclick=\"convertToInteractive('df-ecb3cdb0-eb9c-40ec-91f2-9b898fee9108')\"\n",
              "              title=\"Convert this dataframe to an interactive table.\"\n",
              "              style=\"display:none;\">\n",
              "        \n",
              "  <svg xmlns=\"http://www.w3.org/2000/svg\" height=\"24px\"viewBox=\"0 0 24 24\"\n",
              "       width=\"24px\">\n",
              "    <path d=\"M0 0h24v24H0V0z\" fill=\"none\"/>\n",
              "    <path d=\"M18.56 5.44l.94 2.06.94-2.06 2.06-.94-2.06-.94-.94-2.06-.94 2.06-2.06.94zm-11 1L8.5 8.5l.94-2.06 2.06-.94-2.06-.94L8.5 2.5l-.94 2.06-2.06.94zm10 10l.94 2.06.94-2.06 2.06-.94-2.06-.94-.94-2.06-.94 2.06-2.06.94z\"/><path d=\"M17.41 7.96l-1.37-1.37c-.4-.4-.92-.59-1.43-.59-.52 0-1.04.2-1.43.59L10.3 9.45l-7.72 7.72c-.78.78-.78 2.05 0 2.83L4 21.41c.39.39.9.59 1.41.59.51 0 1.02-.2 1.41-.59l7.78-7.78 2.81-2.81c.8-.78.8-2.07 0-2.86zM5.41 20L4 18.59l7.72-7.72 1.47 1.35L5.41 20z\"/>\n",
              "  </svg>\n",
              "      </button>\n",
              "      \n",
              "  <style>\n",
              "    .colab-df-container {\n",
              "      display:flex;\n",
              "      flex-wrap:wrap;\n",
              "      gap: 12px;\n",
              "    }\n",
              "\n",
              "    .colab-df-convert {\n",
              "      background-color: #E8F0FE;\n",
              "      border: none;\n",
              "      border-radius: 50%;\n",
              "      cursor: pointer;\n",
              "      display: none;\n",
              "      fill: #1967D2;\n",
              "      height: 32px;\n",
              "      padding: 0 0 0 0;\n",
              "      width: 32px;\n",
              "    }\n",
              "\n",
              "    .colab-df-convert:hover {\n",
              "      background-color: #E2EBFA;\n",
              "      box-shadow: 0px 1px 2px rgba(60, 64, 67, 0.3), 0px 1px 3px 1px rgba(60, 64, 67, 0.15);\n",
              "      fill: #174EA6;\n",
              "    }\n",
              "\n",
              "    [theme=dark] .colab-df-convert {\n",
              "      background-color: #3B4455;\n",
              "      fill: #D2E3FC;\n",
              "    }\n",
              "\n",
              "    [theme=dark] .colab-df-convert:hover {\n",
              "      background-color: #434B5C;\n",
              "      box-shadow: 0px 1px 3px 1px rgba(0, 0, 0, 0.15);\n",
              "      filter: drop-shadow(0px 1px 2px rgba(0, 0, 0, 0.3));\n",
              "      fill: #FFFFFF;\n",
              "    }\n",
              "  </style>\n",
              "\n",
              "      <script>\n",
              "        const buttonEl =\n",
              "          document.querySelector('#df-ecb3cdb0-eb9c-40ec-91f2-9b898fee9108 button.colab-df-convert');\n",
              "        buttonEl.style.display =\n",
              "          google.colab.kernel.accessAllowed ? 'block' : 'none';\n",
              "\n",
              "        async function convertToInteractive(key) {\n",
              "          const element = document.querySelector('#df-ecb3cdb0-eb9c-40ec-91f2-9b898fee9108');\n",
              "          const dataTable =\n",
              "            await google.colab.kernel.invokeFunction('convertToInteractive',\n",
              "                                                     [key], {});\n",
              "          if (!dataTable) return;\n",
              "\n",
              "          const docLinkHtml = 'Like what you see? Visit the ' +\n",
              "            '<a target=\"_blank\" href=https://colab.research.google.com/notebooks/data_table.ipynb>data table notebook</a>'\n",
              "            + ' to learn more about interactive tables.';\n",
              "          element.innerHTML = '';\n",
              "          dataTable['output_type'] = 'display_data';\n",
              "          await google.colab.output.renderOutput(dataTable, element);\n",
              "          const docLink = document.createElement('div');\n",
              "          docLink.innerHTML = docLinkHtml;\n",
              "          element.appendChild(docLink);\n",
              "        }\n",
              "      </script>\n",
              "    </div>\n",
              "  </div>\n",
              "  "
            ]
          },
          "metadata": {},
          "execution_count": 9
        }
      ],
      "source": [
        "table2.head()"
      ]
    },
    {
      "cell_type": "markdown",
      "metadata": {
        "id": "g1yV5PxPj_Ng"
      },
      "source": [
        "The first column, which is labeled `Year`, is special.  It is the **index** for this `DataFrame`, which means it contains the labels for the rows.\n",
        "\n",
        "Some of the values use scientific notation; for example, `2.544000e+09` is shorthand for $2.544 \\cdot 10^9$ or 2.544 billion.\n",
        "\n",
        "`NaN` is a special value that indicates missing data."
      ]
    },
    {
      "cell_type": "markdown",
      "metadata": {
        "id": "jUCepxDhj_Ng"
      },
      "source": [
        "### Series\n",
        "\n",
        "We can use dot notation to select a column from a `DataFrame`.  The result is a `Series`, which is like a `DataFrame` with a single column."
      ]
    },
    {
      "cell_type": "code",
      "execution_count": 10,
      "metadata": {
        "id": "aax-RVOnj_Ng",
        "colab": {
          "base_uri": "https://localhost:8080/"
        },
        "outputId": "604bc22b-2087-4ea3-cca1-53c869a7992c"
      },
      "outputs": [
        {
          "output_type": "execute_result",
          "data": {
            "text/plain": [
              "Year\n",
              "1950    2557628654\n",
              "1951    2594939877\n",
              "1952    2636772306\n",
              "1953    2682053389\n",
              "1954    2730228104\n",
              "Name: census, dtype: int64"
            ]
          },
          "metadata": {},
          "execution_count": 10
        }
      ],
      "source": [
        "census = table2.census\n",
        "census.head()"
      ]
    },
    {
      "cell_type": "code",
      "execution_count": 11,
      "metadata": {
        "id": "F6BgAu0jj_Nh",
        "colab": {
          "base_uri": "https://localhost:8080/"
        },
        "outputId": "ba743ab5-f653-467c-cb4f-d372c540a9ab"
      },
      "outputs": [
        {
          "output_type": "execute_result",
          "data": {
            "text/plain": [
              "Year\n",
              "2012    7013871313\n",
              "2013    7092128094\n",
              "2014    7169968185\n",
              "2015    7247892788\n",
              "2016    7325996709\n",
              "Name: census, dtype: int64"
            ]
          },
          "metadata": {},
          "execution_count": 11
        }
      ],
      "source": [
        "census.tail()"
      ]
    },
    {
      "cell_type": "markdown",
      "metadata": {
        "id": "iWWJlG9Oj_Nh"
      },
      "source": [
        "Like a `DataFrame`, a `Series` contains an index, which labels the rows.\n",
        "\n",
        "`1e9` is scientific notation for $1 \\cdot 10^9$ or 1 billion."
      ]
    },
    {
      "cell_type": "markdown",
      "metadata": {
        "id": "YlUneu-xj_Nh"
      },
      "source": [
        "From here on, we will work in units of billions."
      ]
    },
    {
      "cell_type": "code",
      "execution_count": 12,
      "metadata": {
        "id": "Eg-uJ4Qxj_Ni",
        "colab": {
          "base_uri": "https://localhost:8080/"
        },
        "outputId": "9af739d7-cb4f-4e67-8f9d-973bb5d7fba0"
      },
      "outputs": [
        {
          "output_type": "execute_result",
          "data": {
            "text/plain": [
              "Year\n",
              "1950    2.525149\n",
              "1951    2.572851\n",
              "1952    2.619292\n",
              "1953    2.665865\n",
              "1954    2.713172\n",
              "Name: un, dtype: float64"
            ]
          },
          "metadata": {},
          "execution_count": 12
        }
      ],
      "source": [
        "un = table2.un / 1e9\n",
        "un.head()"
      ]
    },
    {
      "cell_type": "code",
      "execution_count": 13,
      "metadata": {
        "id": "LB6Xri38j_Ni",
        "colab": {
          "base_uri": "https://localhost:8080/"
        },
        "outputId": "ae84470c-8c03-4218-9d81-65afdde89172"
      },
      "outputs": [
        {
          "output_type": "execute_result",
          "data": {
            "text/plain": [
              "Year\n",
              "1950    2.557629\n",
              "1951    2.594940\n",
              "1952    2.636772\n",
              "1953    2.682053\n",
              "1954    2.730228\n",
              "Name: census, dtype: float64"
            ]
          },
          "metadata": {},
          "execution_count": 13
        }
      ],
      "source": [
        "census = table2.census / 1e9\n",
        "census.head()"
      ]
    },
    {
      "cell_type": "markdown",
      "metadata": {
        "id": "2GgcpFJbj_Ni"
      },
      "source": [
        "Here's what these estimates look like."
      ]
    },
    {
      "cell_type": "code",
      "execution_count": 14,
      "metadata": {
        "scrolled": false,
        "id": "fJJofx4Nj_Nj",
        "colab": {
          "base_uri": "https://localhost:8080/",
          "height": 473
        },
        "outputId": "d921a384-135a-4c00-954b-cfed346d98e1"
      },
      "outputs": [
        {
          "output_type": "display_data",
          "data": {
            "text/plain": [
              "<Figure size 640x480 with 1 Axes>"
            ],
            "image/png": "[encoded data removed]"
          },
          "metadata": {}
        }
      ],
      "source": [
        "plot(census, ':', label='US Census')\n",
        "plot(un, '--', label='UN DESA')\n",
        "    \n",
        "decorate(xlabel='Year',\n",
        "         ylabel='World population (billion)')\n",
        "\n",
        "# savefig('figs/chap05-fig01.pdf')"
      ]
    },
    {
      "cell_type": "markdown",
      "metadata": {
        "id": "AM0fDngNj_Nj"
      },
      "source": [
        "The following expression computes the elementwise differences between the two series, then divides through by the UN value to produce [relative errors](https://en.wikipedia.org/wiki/Approximation_error), then finds the largest element.\n",
        "\n",
        "So the largest relative error between the estimates is about 1.3%."
      ]
    },
    {
      "cell_type": "code",
      "execution_count": 15,
      "metadata": {
        "id": "PjCvoZPhj_Nj",
        "colab": {
          "base_uri": "https://localhost:8080/"
        },
        "outputId": "92ea15e0-e367-4649-e2e6-95efe8b1ac5d"
      },
      "outputs": [
        {
          "output_type": "execute_result",
          "data": {
            "text/plain": [
              "1.3821293828998855"
            ]
          },
          "metadata": {},
          "execution_count": 15
        }
      ],
      "source": [
        "max(abs(census - un) / un) * 100"
      ]
    },
    {
      "cell_type": "markdown",
      "metadata": {
        "id": "O31YQviKj_Nj"
      },
      "source": [
        "**Exercise:** Break down that expression into smaller steps and display the intermediate results, to make sure you understand how it works.\n",
        "\n",
        "1.  Compute the elementwise differences, `census - un`\n",
        "2.  Compute the absolute differences, `abs(census - un)`\n",
        "3.  Compute the relative differences, `abs(census - un) / un`\n",
        "4.  Compute the percent differences, `abs(census - un) / un * 100`\n"
      ]
    },
    {
      "cell_type": "code",
      "execution_count": 16,
      "metadata": {
        "scrolled": true,
        "id": "WdinGFzLj_Nk",
        "colab": {
          "base_uri": "https://localhost:8080/"
        },
        "outputId": "e27d6fdc-8e37-4e4a-d019-d09057bbdcdb"
      },
      "outputs": [
        {
          "output_type": "stream",
          "name": "stdout",
          "text": [
            "Elementwise Differences:\n",
            "Year\n",
            "1950    0.032480\n",
            "1951    0.022089\n",
            "1952    0.017480\n",
            "1953    0.016188\n",
            "1954    0.017056\n",
            "dtype: float64\n",
            "\n",
            "Absolute Differences:\n",
            "Year\n",
            "1950    0.032480\n",
            "1951    0.022089\n",
            "1952    0.017480\n",
            "1953    0.016188\n",
            "1954    0.017056\n",
            "dtype: float64\n",
            "\n",
            "Relative Differences:\n",
            "Year\n",
            "1950    0.012862\n",
            "1951    0.008585\n",
            "1952    0.006674\n",
            "1953    0.006072\n",
            "1954    0.006286\n",
            "dtype: float64\n",
            "\n",
            "Percent Differences:\n",
            "Year\n",
            "1950    1.286247\n",
            "1951    0.858540\n",
            "1952    0.667365\n",
            "1953    0.607232\n",
            "1954    0.628640\n",
            "dtype: float64\n"
          ]
        }
      ],
      "source": [
        "# Compute the elementwise differences\n",
        "differences = census - un\n",
        "print(\"Elementwise Differences:\")\n",
        "print(differences.head())\n",
        "\n",
        "# Compute the absolute differences\n",
        "absolute_diff = abs(census - un)\n",
        "print(\"\\nAbsolute Differences:\")\n",
        "print(absolute_diff.head())\n",
        "\n",
        "# Compute the relative differences\n",
        "relative_diff = abs(census - un) / un\n",
        "print(\"\\nRelative Differences:\")\n",
        "print(relative_diff.head())\n",
        "\n",
        "# Compute the percent differences\n",
        "percent_diff = abs(census - un) / un * 100\n",
        "print(\"\\nPercent Differences:\")\n",
        "print(percent_diff.head())"
      ]
    },
    {
      "cell_type": "markdown",
      "metadata": {
        "id": "IX_MbQWyj_Nl"
      },
      "source": [
        "`max` and `abs` are built-in functions provided by Python, but NumPy also provides version that are a little more general.  When you import `modsim`, you get the NumPy versions of these functions."
      ]
    },
    {
      "cell_type": "markdown",
      "metadata": {
        "id": "3dIKPcsdj_Nl"
      },
      "source": [
        "### Constant growth"
      ]
    },
    {
      "cell_type": "markdown",
      "metadata": {
        "id": "fyuZNqdFj_Nl"
      },
      "source": [
        "We can select a value from a `Series` using bracket notation.  Here's the first element:"
      ]
    },
    {
      "cell_type": "code",
      "execution_count": 17,
      "metadata": {
        "id": "jr8KD-v5j_Nl",
        "colab": {
          "base_uri": "https://localhost:8080/"
        },
        "outputId": "b40282d1-2fc3-40f8-8d49-6bda55347b9c"
      },
      "outputs": [
        {
          "output_type": "execute_result",
          "data": {
            "text/plain": [
              "2.557628654"
            ]
          },
          "metadata": {},
          "execution_count": 17
        }
      ],
      "source": [
        "census[1950]"
      ]
    },
    {
      "cell_type": "markdown",
      "metadata": {
        "id": "hH3qvDpoj_Nl"
      },
      "source": [
        "And the last value."
      ]
    },
    {
      "cell_type": "code",
      "execution_count": 18,
      "metadata": {
        "id": "8LTT2HDwj_Nl",
        "colab": {
          "base_uri": "https://localhost:8080/"
        },
        "outputId": "60d57828-4b9b-400b-bbb9-210813fd4554"
      },
      "outputs": [
        {
          "output_type": "execute_result",
          "data": {
            "text/plain": [
              "7.325996709"
            ]
          },
          "metadata": {},
          "execution_count": 18
        }
      ],
      "source": [
        "census[2016]"
      ]
    },
    {
      "cell_type": "markdown",
      "metadata": {
        "id": "fCdeNoc7j_Nm"
      },
      "source": [
        "But rather than \"hard code\" those dates, we can get the first and last labels from the `Series`:"
      ]
    },
    {
      "cell_type": "code",
      "execution_count": 19,
      "metadata": {
        "id": "gq6WTAIzj_Nm",
        "colab": {
          "base_uri": "https://localhost:8080/"
        },
        "outputId": "a9bc93a2-59ae-4f81-a4ed-6bac2df19700"
      },
      "outputs": [
        {
          "output_type": "execute_result",
          "data": {
            "text/plain": [
              "1950"
            ]
          },
          "metadata": {},
          "execution_count": 19
        }
      ],
      "source": [
        "t_0 = get_first_label(census)"
      ]
    },
    {
      "cell_type": "code",
      "execution_count": 20,
      "metadata": {
        "id": "OpkZL04fj_Nx",
        "colab": {
          "base_uri": "https://localhost:8080/"
        },
        "outputId": "a2e380b1-8d66-4194-ab18-55b8359e8a12"
      },
      "outputs": [
        {
          "output_type": "execute_result",
          "data": {
            "text/plain": [
              "2016"
            ]
          },
          "metadata": {},
          "execution_count": 20
        }
      ],
      "source": [
        "t_end = get_last_label(census)"
      ]
    },
    {
      "cell_type": "code",
      "execution_count": 21,
      "metadata": {
        "id": "9zTdj8Adj_Nx",
        "colab": {
          "base_uri": "https://localhost:8080/"
        },
        "outputId": "7d023bbb-897b-43f1-ce7d-d747b11ce40b"
      },
      "outputs": [
        {
          "output_type": "execute_result",
          "data": {
            "text/plain": [
              "66"
            ]
          },
          "metadata": {},
          "execution_count": 21
        }
      ],
      "source": [
        "elapsed_time = t_end - t_0"
      ]
    },
    {
      "cell_type": "markdown",
      "metadata": {
        "id": "YWiN_hH4j_Ny"
      },
      "source": [
        "And we can get the first and last values:"
      ]
    },
    {
      "cell_type": "code",
      "execution_count": 22,
      "metadata": {
        "id": "-WUXohv0j_Ny",
        "colab": {
          "base_uri": "https://localhost:8080/"
        },
        "outputId": "90e1eee1-80ce-46dc-92af-fdf678751ac6"
      },
      "outputs": [
        {
          "output_type": "execute_result",
          "data": {
            "text/plain": [
              "2.557628654"
            ]
          },
          "metadata": {},
          "execution_count": 22
        }
      ],
      "source": [
        "p_0 = get_first_value(census)"
      ]
    },
    {
      "cell_type": "code",
      "execution_count": 23,
      "metadata": {
        "id": "P7BHJGBOj_Ny",
        "colab": {
          "base_uri": "https://localhost:8080/"
        },
        "outputId": "1432eb0b-f463-4b9b-8d06-faf8dbece57f"
      },
      "outputs": [
        {
          "output_type": "execute_result",
          "data": {
            "text/plain": [
              "7.325996709"
            ]
          },
          "metadata": {},
          "execution_count": 23
        }
      ],
      "source": [
        "p_end = get_last_value(census)"
      ]
    },
    {
      "cell_type": "markdown",
      "metadata": {
        "id": "-van9Tgfj_Nz"
      },
      "source": [
        "Then we can compute the average annual growth in billions of people per year."
      ]
    },
    {
      "cell_type": "code",
      "execution_count": 24,
      "metadata": {
        "id": "utF5Dvsgj_Nz",
        "colab": {
          "base_uri": "https://localhost:8080/"
        },
        "outputId": "2babb786-b360-48e9-a182-a72587d90e5c"
      },
      "outputs": [
        {
          "output_type": "execute_result",
          "data": {
            "text/plain": [
              "4.768368055"
            ]
          },
          "metadata": {},
          "execution_count": 24
        }
      ],
      "source": [
        "total_growth = p_end - p_0"
      ]
    },
    {
      "cell_type": "code",
      "execution_count": 25,
      "metadata": {
        "id": "fqv_Bkxvj_Nz",
        "colab": {
          "base_uri": "https://localhost:8080/"
        },
        "outputId": "f904a468-b718-4e27-e3bd-a989b3b8b888"
      },
      "outputs": [
        {
          "output_type": "execute_result",
          "data": {
            "text/plain": [
              "0.07224800083333333"
            ]
          },
          "metadata": {},
          "execution_count": 25
        }
      ],
      "source": [
        "annual_growth = total_growth / elapsed_time"
      ]
    },
    {
      "cell_type": "markdown",
      "metadata": {
        "id": "bwfLZyv-j_Nz"
      },
      "source": [
        "### TimeSeries"
      ]
    },
    {
      "cell_type": "markdown",
      "metadata": {
        "id": "ErgdhEW1j_N0"
      },
      "source": [
        "Now let's create a `TimeSeries` to contain values generated by a linear growth model."
      ]
    },
    {
      "cell_type": "code",
      "execution_count": 26,
      "metadata": {
        "id": "cnsCfbGAj_N0",
        "colab": {
          "base_uri": "https://localhost:8080/",
          "height": 49
        },
        "outputId": "9209d125-2143-44e2-fb0c-26f6948ccbf6"
      },
      "outputs": [
        {
          "output_type": "execute_result",
          "data": {
            "text/plain": [
              "TimeSeries([], dtype: float64)"
            ],
            "text/html": [
              "<div>\n",
              "<style scoped>\n",
              "    .dataframe tbody tr th:only-of-type {\n",
              "        vertical-align: middle;\n",
              "    }\n",
              "\n",
              "    .dataframe tbody tr th {\n",
              "        vertical-align: top;\n",
              "    }\n",
              "\n",
              "    .dataframe thead th {\n",
              "        text-align: right;\n",
              "    }\n",
              "</style>\n",
              "<table border=\"1\" class=\"dataframe\">\n",
              "  <thead>\n",
              "    <tr style=\"text-align: right;\">\n",
              "      <th></th>\n",
              "      <th>values</th>\n",
              "    </tr>\n",
              "  </thead>\n",
              "  <tbody>\n",
              "  </tbody>\n",
              "</table>\n",
              "</div>"
            ]
          },
          "metadata": {},
          "execution_count": 26
        }
      ],
      "source": [
        "results = TimeSeries()"
      ]
    },
    {
      "cell_type": "markdown",
      "metadata": {
        "id": "d05rpeRrj_N0"
      },
      "source": [
        "Initially the `TimeSeries` is empty, but we can initialize it so the starting value, in 1950, is the 1950 population estimated by the US Census."
      ]
    },
    {
      "cell_type": "code",
      "execution_count": 27,
      "metadata": {
        "id": "BCeV8Gfcj_N0",
        "colab": {
          "base_uri": "https://localhost:8080/",
          "height": 81
        },
        "outputId": "455970c5-5c8d-4394-d488-f35de92718a4"
      },
      "outputs": [
        {
          "output_type": "execute_result",
          "data": {
            "text/plain": [
              "1950    2.557629\n",
              "dtype: float64"
            ],
            "text/html": [
              "<div>\n",
              "<style scoped>\n",
              "    .dataframe tbody tr th:only-of-type {\n",
              "        vertical-align: middle;\n",
              "    }\n",
              "\n",
              "    .dataframe tbody tr th {\n",
              "        vertical-align: top;\n",
              "    }\n",
              "\n",
              "    .dataframe thead th {\n",
              "        text-align: right;\n",
              "    }\n",
              "</style>\n",
              "<table border=\"1\" class=\"dataframe\">\n",
              "  <thead>\n",
              "    <tr style=\"text-align: right;\">\n",
              "      <th></th>\n",
              "      <th>values</th>\n",
              "    </tr>\n",
              "  </thead>\n",
              "  <tbody>\n",
              "    <tr>\n",
              "      <th>1950</th>\n",
              "      <td>2.557629</td>\n",
              "    </tr>\n",
              "  </tbody>\n",
              "</table>\n",
              "</div>"
            ]
          },
          "metadata": {},
          "execution_count": 27
        }
      ],
      "source": [
        "results[t_0] = census[t_0]\n",
        "results"
      ]
    },
    {
      "cell_type": "markdown",
      "metadata": {
        "id": "dV9DVCDjj_N0"
      },
      "source": [
        "After that, the population in the model grows by a constant amount each year."
      ]
    },
    {
      "cell_type": "code",
      "execution_count": 28,
      "metadata": {
        "id": "SiiTfc1Mj_N1"
      },
      "outputs": [],
      "source": [
        "for t in linrange(t_0, t_end):\n",
        "    results[t+1] = results[t] + annual_growth"
      ]
    },
    {
      "cell_type": "markdown",
      "metadata": {
        "id": "SUSvfq6oj_N1"
      },
      "source": [
        "Here's what the results looks like, compared to the actual data."
      ]
    },
    {
      "cell_type": "code",
      "execution_count": 29,
      "metadata": {
        "id": "XrzVte9Ej_N1",
        "colab": {
          "base_uri": "https://localhost:8080/",
          "height": 473
        },
        "outputId": "bafe9ab8-35fe-42e2-bed3-376469042160"
      },
      "outputs": [
        {
          "output_type": "display_data",
          "data": {
            "text/plain": [
              "<Figure size 640x480 with 1 Axes>"
            ],
            "image/png": "[encoded data removed]"
          },
          "metadata": {}
        }
      ],
      "source": [
        "plot(census, ':', label='US Census')\n",
        "plot(un, '--', label='UN DESA')\n",
        "plot(results, color='gray', label='model')\n",
        "\n",
        "decorate(xlabel='Year', \n",
        "         ylabel='World population (billion)',\n",
        "         title='Constant growth')\n",
        "\n",
        "# savefig('figs/chap05-fig02.pdf')"
      ]
    },
    {
      "cell_type": "markdown",
      "metadata": {
        "id": "J2E92YF9j_N1"
      },
      "source": [
        "The model fits the data pretty well after 1990, but not so well before."
      ]
    },
    {
      "cell_type": "markdown",
      "metadata": {
        "id": "GB-z1Tn7j_N1"
      },
      "source": [
        "### Exercises\n",
        "\n",
        "**Optional Exercise:**  Try fitting the model using data from 1970 to the present, and see if that does a better job.\n",
        "\n",
        "Hint: \n",
        "\n",
        "1. Copy the code from above and make a few changes.  Test your code after each small change.\n",
        "\n",
        "2. Make sure your `TimeSeries` starts in 1950, even though the estimated annual growth is based on later data.\n",
        "\n",
        "3. You might want to add a constant to the starting value to match the data better."
      ]
    },
    {
      "cell_type": "code",
      "execution_count": 30,
      "metadata": {
        "id": "SE_fEmwzj_N2",
        "colab": {
          "base_uri": "https://localhost:8080/",
          "height": 473
        },
        "outputId": "3fb478de-47eb-4389-af9e-35186e595fa0"
      },
      "outputs": [
        {
          "output_type": "display_data",
          "data": {
            "text/plain": [
              "<Figure size 640x480 with 1 Axes>"
            ],
            "image/png": "[encoded data removed]"
          },
          "metadata": {}
        }
      ],
      "source": [
        "def est_annual_growth(t_0, t_end): #function calculates Average annual growth over given period.\n",
        "          \n",
        "    elapsed_time = t_end - t_0\n",
        "    p_0 = census[t_0]\n",
        "    p_end = census[t_end]\n",
        "    total_growth = p_end - p_0\n",
        "    annual_growth = total_growth / elapsed_time\n",
        "    return annual_growth\n",
        "    \n",
        "# Calculate annual growth using data from 1970 to the end\n",
        "t_0 = 1970\n",
        "t_end = get_last_label(census)\n",
        "# estimated annual growth is based on later data (1970).\n",
        "annual_growth = est_annual_growth(t_0, t_end) \n",
        "\n",
        "#Make sure your TimeSeries starts in 1950\n",
        "t_0 = get_first_label(census)\n",
        "t_end = get_last_label(census)\n",
        "p_0 = get_first_value(census)*0.84\n",
        "\n",
        "results = TimeSeries()\n",
        "results[t_0] = p_0\n",
        "results\n",
        "\n",
        "for t in linrange(t_0, t_end):\n",
        "    results[t+1] = results[t] + annual_growth\n",
        "\n",
        "plot(census, ':', label='US Census')\n",
        "plot(un, '--', label='UN DESA')\n",
        "plot(results, color='gray', label='model')\n",
        "\n",
        "decorate(xlabel='Year', \n",
        "         ylabel='World population (billion)',\n",
        "         title='Constant growth')"
      ]
    },
    {
      "cell_type": "code",
      "execution_count": 31,
      "metadata": {
        "id": "WDPFq9vyj_N2",
        "colab": {
          "base_uri": "https://localhost:8080/"
        },
        "outputId": "9e20fce5-cef5-4bfd-f77e-bf2a6f80aca3"
      },
      "outputs": [
        {
          "output_type": "execute_result",
          "data": {
            "text/plain": [
              "Year\n",
              "1960    3.043002\n",
              "1961    3.083967\n",
              "1962    3.140093\n",
              "1963    3.209828\n",
              "1964    3.281201\n",
              "1965    3.350426\n",
              "1966    3.420678\n",
              "1967    3.490334\n",
              "1968    3.562314\n",
              "1969    3.637159\n",
              "1970    3.712698\n",
              "Name: census, dtype: float64"
            ]
          },
          "metadata": {},
          "execution_count": 31
        }
      ],
      "source": [
        "census.loc[1960:1970]"
      ]
    },
    {
      "cell_type": "code",
      "execution_count": 31,
      "metadata": {
        "id": "ntvh3s_Bj_N2"
      },
      "outputs": [],
      "source": []
    }
  ],
  "metadata": {
    "kernelspec": {
      "display_name": "Python 3",
      "language": "python",
      "name": "python3"
    },
    "language_info": {
      "codemirror_mode": {
        "name": "ipython",
        "version": 3
      },
      "file_extension": ".py",
      "mimetype": "text/x-python",
      "name": "python",
      "nbconvert_exporter": "python",
      "pygments_lexer": "ipython3",
      "version": "3.7.3"
    },
    "colab": {
      "provenance": []
    }
  },
  "nbformat": 4,
  "nbformat_minor": 0
}