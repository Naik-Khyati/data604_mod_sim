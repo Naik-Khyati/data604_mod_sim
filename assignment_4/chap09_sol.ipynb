{
  "cells": [
    {
      "cell_type": "markdown",
      "metadata": {
        "id": "-QDVyQlMaHFT"
      },
      "source": [
        "# Modeling and Simulation in Python\n",
        "\n",
        "Chapter 9\n",
        "\n",
        "Copyright 2017 Allen Downey\n",
        "\n",
        "License: [Creative Commons Attribution 4.0 International](https://creativecommons.org/licenses/by/4.0)\n"
      ]
    },
    {
      "cell_type": "code",
      "source": [
        "try:\n",
        "    import pint\n",
        "except ImportError:\n",
        "    !pip install pint\n",
        "    import pint"
      ],
      "metadata": {
        "colab": {
          "base_uri": "https://localhost:8080/"
        },
        "id": "nLRel9IYaI7z",
        "outputId": "888f8280-b1b0-46c9-f678-db8e0c35f16b"
      },
      "execution_count": 1,
      "outputs": [
        {
          "output_type": "stream",
          "name": "stdout",
          "text": [
            "Looking in indexes: https://pypi.org/simple, https://us-python.pkg.dev/colab-wheels/public/simple/\n",
            "Collecting pint\n",
            "  Downloading Pint-0.22-py3-none-any.whl (294 kB)\n",
            "\u001b[2K     \u001b[90m━━━━━━━━━━━━━━━━━━━━━━━━━━━━━━━━━━━━━━━\u001b[0m \u001b[32m294.0/294.0 kB\u001b[0m \u001b[31m7.0 MB/s\u001b[0m eta \u001b[36m0:00:00\u001b[0m\n",
            "\u001b[?25hRequirement already satisfied: typing-extensions in /usr/local/lib/python3.10/dist-packages (from pint) (4.6.3)\n",
            "Installing collected packages: pint\n",
            "Successfully installed pint-0.22\n"
          ]
        }
      ]
    },
    {
      "cell_type": "code",
      "source": [
        "try:\n",
        "    from modsim import *\n",
        "except ImportError:\n",
        "    !pip install modsimpy\n",
        "    from modsim import *"
      ],
      "metadata": {
        "colab": {
          "base_uri": "https://localhost:8080/"
        },
        "id": "D4pleNUCaJUn",
        "outputId": "d732a7d3-1948-4324-b71c-203bacf81c19"
      },
      "execution_count": 2,
      "outputs": [
        {
          "output_type": "stream",
          "name": "stdout",
          "text": [
            "Looking in indexes: https://pypi.org/simple, https://us-python.pkg.dev/colab-wheels/public/simple/\n",
            "Collecting modsimpy\n",
            "  Downloading modsimpy-1.1.3.tar.gz (19 kB)\n",
            "  Preparing metadata (setup.py) ... \u001b[?25l\u001b[?25hdone\n",
            "Building wheels for collected packages: modsimpy\n",
            "  Building wheel for modsimpy (setup.py) ... \u001b[?25l\u001b[?25hdone\n",
            "  Created wheel for modsimpy: filename=modsimpy-1.1.3-py3-none-any.whl size=20335 sha256=c48a6f33615a2c431fefe84d8601248f4b934cf587404ade62445de5d566298c\n",
            "  Stored in directory: /root/.cache/pip/wheels/3a/21/22/b652cf3a4fc674c3377fdeb77da04bba02954a4ea5abe331be\n",
            "Successfully built modsimpy\n",
            "Installing collected packages: modsimpy\n",
            "Successfully installed modsimpy-1.1.3\n"
          ]
        }
      ]
    },
    {
      "cell_type": "code",
      "execution_count": 3,
      "metadata": {
        "id": "iJBCWr-gaHFc"
      },
      "outputs": [],
      "source": [
        "# Configure Jupyter to display the assigned value after an assignment\n",
        "%config InteractiveShell.ast_node_interactivity='last_expr_or_assign'\n",
        "\n",
        "# import everything from SymPy.\n",
        "from sympy import *\n",
        "\n",
        "# Set up Jupyter notebook to display math.\n",
        "init_printing()"
      ]
    },
    {
      "cell_type": "markdown",
      "metadata": {
        "id": "T5EmZ2pjaHFg"
      },
      "source": [
        "The following displays SymPy expressions and provides the option of showing results in LaTeX format."
      ]
    },
    {
      "cell_type": "code",
      "execution_count": 4,
      "metadata": {
        "id": "nME4lzcWaHFh"
      },
      "outputs": [],
      "source": [
        "from sympy.printing import latex\n",
        "\n",
        "def show(expr, show_latex=False):\n",
        "    \"\"\"Display a SymPy expression.\n",
        "\n",
        "    expr: SymPy expression\n",
        "    show_latex: boolean\n",
        "    \"\"\"\n",
        "    if show_latex:\n",
        "        print(latex(expr))\n",
        "    return expr"
      ]
    },
    {
      "cell_type": "markdown",
      "metadata": {
        "id": "o296T0QAaHFi"
      },
      "source": [
        "### Analysis with SymPy"
      ]
    },
    {
      "cell_type": "markdown",
      "metadata": {
        "id": "BDzRnnQIaHFj"
      },
      "source": [
        "Create a symbol for time."
      ]
    },
    {
      "cell_type": "code",
      "execution_count": 5,
      "metadata": {
        "colab": {
          "base_uri": "https://localhost:8080/",
          "height": 38
        },
        "id": "1vEyomF_aHFk",
        "outputId": "68d04f98-d84f-4a45-ca11-0e47e2628507"
      },
      "outputs": [
        {
          "output_type": "execute_result",
          "data": {
            "text/plain": [
              "t"
            ],
            "text/latex": "$\\displaystyle t$"
          },
          "metadata": {},
          "execution_count": 5
        }
      ],
      "source": [
        "t = symbols('t')"
      ]
    },
    {
      "cell_type": "markdown",
      "metadata": {
        "id": "r-6mwOsYaHFl"
      },
      "source": [
        "If you combine symbols and numbers, you get symbolic expressions."
      ]
    },
    {
      "cell_type": "code",
      "execution_count": 6,
      "metadata": {
        "colab": {
          "base_uri": "https://localhost:8080/",
          "height": 38
        },
        "id": "nIbiflR7aHFn",
        "outputId": "f75322e0-719b-4b46-8d5c-e0e20ebf8a0c"
      },
      "outputs": [
        {
          "output_type": "execute_result",
          "data": {
            "text/plain": [
              "t + 1"
            ],
            "text/latex": "$\\displaystyle t + 1$"
          },
          "metadata": {},
          "execution_count": 6
        }
      ],
      "source": [
        "expr = t + 1"
      ]
    },
    {
      "cell_type": "markdown",
      "metadata": {
        "id": "G63KCBz8aHFo"
      },
      "source": [
        "The result is an `Add` object, which just represents the sum without trying to compute it."
      ]
    },
    {
      "cell_type": "code",
      "execution_count": 7,
      "metadata": {
        "colab": {
          "base_uri": "https://localhost:8080/"
        },
        "id": "NnwftmE1aHFp",
        "outputId": "6fb6ab02-3196-418d-9980-2d798d45bb50"
      },
      "outputs": [
        {
          "output_type": "execute_result",
          "data": {
            "text/plain": [
              "sympy.core.add.Add"
            ]
          },
          "metadata": {},
          "execution_count": 7
        }
      ],
      "source": [
        "type(expr)"
      ]
    },
    {
      "cell_type": "markdown",
      "metadata": {
        "id": "2EYWWCaaaHFp"
      },
      "source": [
        "`subs` can be used to replace a symbol with a number, which allows the addition to proceed."
      ]
    },
    {
      "cell_type": "code",
      "execution_count": 8,
      "metadata": {
        "colab": {
          "base_uri": "https://localhost:8080/",
          "height": 37
        },
        "id": "3OpTq0rYaHFq",
        "outputId": "04ad1ed6-21ac-46af-eac4-83ed788572f9"
      },
      "outputs": [
        {
          "output_type": "execute_result",
          "data": {
            "text/plain": [
              "3"
            ],
            "text/latex": "$\\displaystyle 3$"
          },
          "metadata": {},
          "execution_count": 8
        }
      ],
      "source": [
        "expr.subs(t, 2)"
      ]
    },
    {
      "cell_type": "markdown",
      "metadata": {
        "id": "gdyoxRIdaHFq"
      },
      "source": [
        "`f` is a special class of symbol that represents a function."
      ]
    },
    {
      "cell_type": "code",
      "execution_count": 9,
      "metadata": {
        "colab": {
          "base_uri": "https://localhost:8080/"
        },
        "id": "bl9XUZjJaHFq",
        "outputId": "48563e1a-f32a-40ad-fa7e-f6a2884e6314"
      },
      "outputs": [
        {
          "output_type": "execute_result",
          "data": {
            "text/plain": [
              "f"
            ]
          },
          "metadata": {},
          "execution_count": 9
        }
      ],
      "source": [
        "f = Function('f')"
      ]
    },
    {
      "cell_type": "markdown",
      "metadata": {
        "id": "griWB1MfaHFq"
      },
      "source": [
        "The type of `f` is `UndefinedFunction`"
      ]
    },
    {
      "cell_type": "code",
      "execution_count": 10,
      "metadata": {
        "colab": {
          "base_uri": "https://localhost:8080/"
        },
        "id": "S2s6tvdjaHFr",
        "outputId": "2ba801a4-592c-44c6-b4b5-611b0dbc3a4e"
      },
      "outputs": [
        {
          "output_type": "execute_result",
          "data": {
            "text/plain": [
              "sympy.core.function.UndefinedFunction"
            ]
          },
          "metadata": {},
          "execution_count": 10
        }
      ],
      "source": [
        "type(f)"
      ]
    },
    {
      "cell_type": "markdown",
      "metadata": {
        "id": "jV_QBSADaHFr"
      },
      "source": [
        "SymPy understands that `f(t)` means `f` evaluated at `t`, but it doesn't try to evaluate it yet."
      ]
    },
    {
      "cell_type": "code",
      "execution_count": 11,
      "metadata": {
        "colab": {
          "base_uri": "https://localhost:8080/",
          "height": 38
        },
        "id": "Ol7kZe03aHFs",
        "outputId": "019eb45f-2474-4a61-eb0a-2f101509bf1c"
      },
      "outputs": [
        {
          "output_type": "execute_result",
          "data": {
            "text/plain": [
              "f(t)"
            ],
            "text/latex": "$\\displaystyle f{\\left(t \\right)}$"
          },
          "metadata": {},
          "execution_count": 11
        }
      ],
      "source": [
        "f(t)"
      ]
    },
    {
      "cell_type": "markdown",
      "metadata": {
        "id": "59G38rG-aHFs"
      },
      "source": [
        "`diff` returns a `Derivative` object that represents the time derivative of `f`"
      ]
    },
    {
      "cell_type": "code",
      "execution_count": 12,
      "metadata": {
        "colab": {
          "base_uri": "https://localhost:8080/",
          "height": 52
        },
        "id": "_sjNE2BDaHFs",
        "outputId": "3de40419-18d9-49a5-ea22-d666b0eda427"
      },
      "outputs": [
        {
          "output_type": "execute_result",
          "data": {
            "text/plain": [
              "d       \n",
              "──(f(t))\n",
              "dt      "
            ],
            "text/latex": "$\\displaystyle \\frac{d}{d t} f{\\left(t \\right)}$"
          },
          "metadata": {},
          "execution_count": 12
        }
      ],
      "source": [
        "dfdt = diff(f(t), t)"
      ]
    },
    {
      "cell_type": "code",
      "execution_count": 13,
      "metadata": {
        "colab": {
          "base_uri": "https://localhost:8080/"
        },
        "id": "rteJ7OBRaHFs",
        "outputId": "515bed37-c612-4469-a93c-72e9a9f82845"
      },
      "outputs": [
        {
          "output_type": "execute_result",
          "data": {
            "text/plain": [
              "sympy.core.function.Derivative"
            ]
          },
          "metadata": {},
          "execution_count": 13
        }
      ],
      "source": [
        "type(dfdt)"
      ]
    },
    {
      "cell_type": "markdown",
      "metadata": {
        "id": "y3gkcpSiaHFt"
      },
      "source": [
        "We need a symbol for `alpha`"
      ]
    },
    {
      "cell_type": "code",
      "execution_count": 14,
      "metadata": {
        "colab": {
          "base_uri": "https://localhost:8080/",
          "height": 38
        },
        "id": "GDnQdjZ5aHFt",
        "outputId": "c7318194-0068-4e27-ae50-b030469159b5"
      },
      "outputs": [
        {
          "output_type": "execute_result",
          "data": {
            "text/plain": [
              "α"
            ],
            "text/latex": "$\\displaystyle \\alpha$"
          },
          "metadata": {},
          "execution_count": 14
        }
      ],
      "source": [
        "alpha = symbols('alpha')"
      ]
    },
    {
      "cell_type": "markdown",
      "metadata": {
        "id": "mHX0bFISaHFt"
      },
      "source": [
        "Now we can write the differential equation for proportional growth."
      ]
    },
    {
      "cell_type": "code",
      "execution_count": 15,
      "metadata": {
        "colab": {
          "base_uri": "https://localhost:8080/",
          "height": 52
        },
        "id": "mpHODpkDaHFt",
        "outputId": "fc5c0429-b0b9-411a-ed21-6f9e4e29a891"
      },
      "outputs": [
        {
          "output_type": "execute_result",
          "data": {
            "text/plain": [
              "d                \n",
              "──(f(t)) = α⋅f(t)\n",
              "dt               "
            ],
            "text/latex": "$\\displaystyle \\frac{d}{d t} f{\\left(t \\right)} = \\alpha f{\\left(t \\right)}$"
          },
          "metadata": {},
          "execution_count": 15
        }
      ],
      "source": [
        "eq1 = Eq(dfdt, alpha*f(t))"
      ]
    },
    {
      "cell_type": "markdown",
      "metadata": {
        "id": "c9LzAwquaHFt"
      },
      "source": [
        "And use `dsolve` to solve it.  The result is the general solution."
      ]
    },
    {
      "cell_type": "code",
      "execution_count": 16,
      "metadata": {
        "colab": {
          "base_uri": "https://localhost:8080/",
          "height": 38
        },
        "id": "_2QDgX3EaHFu",
        "outputId": "5431a55d-343d-4a8d-c017-6f142322a54a"
      },
      "outputs": [
        {
          "output_type": "execute_result",
          "data": {
            "text/plain": [
              "           α⋅t\n",
              "f(t) = C₁⋅ℯ   "
            ],
            "text/latex": "$\\displaystyle f{\\left(t \\right)} = C_{1} e^{\\alpha t}$"
          },
          "metadata": {},
          "execution_count": 16
        }
      ],
      "source": [
        "solution_eq = dsolve(eq1)"
      ]
    },
    {
      "cell_type": "markdown",
      "metadata": {
        "id": "SkHTiIJEaHFu"
      },
      "source": [
        "We can tell it's a general solution because it contains an unspecified constant, `C1`.\n",
        "\n",
        "In this example, finding the particular solution is easy: we just replace `C1` with `p_0`"
      ]
    },
    {
      "cell_type": "code",
      "execution_count": 17,
      "metadata": {
        "id": "0vjFDhDGaHFu"
      },
      "outputs": [],
      "source": [
        "C1, p_0 = symbols('C1 p_0')"
      ]
    },
    {
      "cell_type": "code",
      "execution_count": 18,
      "metadata": {
        "colab": {
          "base_uri": "https://localhost:8080/",
          "height": 38
        },
        "id": "RgzRfHnFaHFu",
        "outputId": "dd3a354c-4d26-43f4-c5cc-f9b0e08cd0e5"
      },
      "outputs": [
        {
          "output_type": "execute_result",
          "data": {
            "text/plain": [
              "           α⋅t\n",
              "f(t) = p₀⋅ℯ   "
            ],
            "text/latex": "$\\displaystyle f{\\left(t \\right)} = p_{0} e^{\\alpha t}$"
          },
          "metadata": {},
          "execution_count": 18
        }
      ],
      "source": [
        "particular = solution_eq.subs(C1, p_0)"
      ]
    },
    {
      "cell_type": "markdown",
      "metadata": {
        "id": "xPYstByBaHFu"
      },
      "source": [
        "In the next example, we have to work a little harder to find the particular solution."
      ]
    },
    {
      "cell_type": "markdown",
      "metadata": {
        "id": "oKsDUan1aHFu"
      },
      "source": [
        "### Solving the quadratic growth equation\n",
        "\n",
        "We'll use the (r, K) parameterization, so we'll need two more symbols:"
      ]
    },
    {
      "cell_type": "code",
      "execution_count": 19,
      "metadata": {
        "id": "-nLDxrcNaHFv"
      },
      "outputs": [],
      "source": [
        "r, K = symbols('r K')"
      ]
    },
    {
      "cell_type": "markdown",
      "metadata": {
        "id": "jxFTFe6OaHFv"
      },
      "source": [
        "Now we can write the differential equation."
      ]
    },
    {
      "cell_type": "code",
      "execution_count": 20,
      "metadata": {
        "colab": {
          "base_uri": "https://localhost:8080/",
          "height": 58
        },
        "id": "GZx5TrW7aHFv",
        "outputId": "01f0d7f8-d0b0-4536-8c2e-74da8d88e3cd"
      },
      "outputs": [
        {
          "output_type": "execute_result",
          "data": {
            "text/plain": [
              "d            ⎛    f(t)⎞     \n",
              "──(f(t)) = r⋅⎜1 - ────⎟⋅f(t)\n",
              "dt           ⎝     K  ⎠     "
            ],
            "text/latex": "$\\displaystyle \\frac{d}{d t} f{\\left(t \\right)} = r \\left(1 - \\frac{f{\\left(t \\right)}}{K}\\right) f{\\left(t \\right)}$"
          },
          "metadata": {},
          "execution_count": 20
        }
      ],
      "source": [
        "eq2 = Eq(diff(f(t), t), r * f(t) * (1 - f(t)/K))"
      ]
    },
    {
      "cell_type": "markdown",
      "metadata": {
        "id": "uxQtiEb0aHFv"
      },
      "source": [
        "And solve it."
      ]
    },
    {
      "cell_type": "code",
      "execution_count": 21,
      "metadata": {
        "colab": {
          "base_uri": "https://localhost:8080/",
          "height": 56
        },
        "id": "dCvWmjifaHFv",
        "outputId": "05bc5b89-ddac-4ba5-eb1b-9a9a8a31969e"
      },
      "outputs": [
        {
          "output_type": "execute_result",
          "data": {
            "text/plain": [
              "           C₁⋅K + r⋅t \n",
              "        K⋅ℯ           \n",
              "f(t) = ───────────────\n",
              "        C₁⋅K + r⋅t    \n",
              "       ℯ           - 1"
            ],
            "text/latex": "$\\displaystyle f{\\left(t \\right)} = \\frac{K e^{C_{1} K + r t}}{e^{C_{1} K + r t} - 1}$"
          },
          "metadata": {},
          "execution_count": 21
        }
      ],
      "source": [
        "solution_eq = dsolve(eq2)"
      ]
    },
    {
      "cell_type": "markdown",
      "metadata": {
        "id": "7gYdc8xKaHFv"
      },
      "source": [
        "The result, `solution_eq`, contains `rhs`, which is the right-hand side of the solution."
      ]
    },
    {
      "cell_type": "code",
      "execution_count": 22,
      "metadata": {
        "colab": {
          "base_uri": "https://localhost:8080/",
          "height": 56
        },
        "id": "UyKh5-3QaHF1",
        "outputId": "ee48d6c4-62bc-4260-c7ad-fad955b0c418"
      },
      "outputs": [
        {
          "output_type": "execute_result",
          "data": {
            "text/plain": [
              "    C₁⋅K + r⋅t \n",
              " K⋅ℯ           \n",
              "───────────────\n",
              " C₁⋅K + r⋅t    \n",
              "ℯ           - 1"
            ],
            "text/latex": "$\\displaystyle \\frac{K e^{C_{1} K + r t}}{e^{C_{1} K + r t} - 1}$"
          },
          "metadata": {},
          "execution_count": 22
        }
      ],
      "source": [
        "general = solution_eq.rhs"
      ]
    },
    {
      "cell_type": "markdown",
      "metadata": {
        "id": "aSYFkedQaHF1"
      },
      "source": [
        "We can evaluate the right-hand side at $t=0$"
      ]
    },
    {
      "cell_type": "code",
      "execution_count": 23,
      "metadata": {
        "colab": {
          "base_uri": "https://localhost:8080/",
          "height": 56
        },
        "id": "G33DO7NFaHF1",
        "outputId": "7f7fd6c4-ee00-4720-8b46-7022d34c4d00"
      },
      "outputs": [
        {
          "output_type": "execute_result",
          "data": {
            "text/plain": [
              "    C₁⋅K \n",
              " K⋅ℯ     \n",
              "─────────\n",
              " C₁⋅K    \n",
              "ℯ     - 1"
            ],
            "text/latex": "$\\displaystyle \\frac{K e^{C_{1} K}}{e^{C_{1} K} - 1}$"
          },
          "metadata": {},
          "execution_count": 23
        }
      ],
      "source": [
        "at_0 = general.subs(t, 0)"
      ]
    },
    {
      "cell_type": "markdown",
      "metadata": {
        "id": "7FGCjxusaHF1"
      },
      "source": [
        "Now we want to find the value of `C1` that makes `f(0) = p_0`.\n",
        "\n",
        "So we'll create the equation `at_0 = p_0` and solve for `C1`.  Because this is just an algebraic identity, not a differential equation, we use `solve`, not `dsolve`.\n",
        "\n",
        "The result from `solve` is a list of solutions.  In this case, [we have reason to expect only one solution](https://en.wikipedia.org/wiki/Picard%E2%80%93Lindel%C3%B6f_theorem), but we still get a list, so we have to use the bracket operator, `[0]`, to select the first one."
      ]
    },
    {
      "cell_type": "code",
      "execution_count": 24,
      "metadata": {
        "colab": {
          "base_uri": "https://localhost:8080/"
        },
        "id": "6opoJuLbaHF2",
        "outputId": "6fc60ff1-6c81-4cc5-fe97-157006a2e0a7"
      },
      "outputs": [
        {
          "output_type": "execute_result",
          "data": {
            "text/plain": [
              "(list, 1)"
            ]
          },
          "metadata": {},
          "execution_count": 24
        }
      ],
      "source": [
        "solutions = solve(Eq(at_0, p_0), C1)\n",
        "type(solutions), len(solutions)"
      ]
    },
    {
      "cell_type": "code",
      "execution_count": 25,
      "metadata": {
        "colab": {
          "base_uri": "https://localhost:8080/",
          "height": 66
        },
        "id": "CxjFnBqnaHF2",
        "outputId": "5d632556-6c44-47bc-c07d-3c22714de78f"
      },
      "outputs": [
        {
          "output_type": "execute_result",
          "data": {
            "text/plain": [
              "   ⎛ -p₀  ⎞\n",
              "log⎜──────⎟\n",
              "   ⎝K - p₀⎠\n",
              "───────────\n",
              "     K     "
            ],
            "text/latex": "$\\displaystyle \\frac{\\log{\\left(- \\frac{p_{0}}{K - p_{0}} \\right)}}{K}$"
          },
          "metadata": {},
          "execution_count": 25
        }
      ],
      "source": [
        "value_of_C1 = solutions[0]"
      ]
    },
    {
      "cell_type": "markdown",
      "metadata": {
        "id": "MxNUqFXLaHF2"
      },
      "source": [
        "Now in the general solution, we want to replace `C1` with the value of `C1` we just figured out."
      ]
    },
    {
      "cell_type": "code",
      "execution_count": 26,
      "metadata": {
        "colab": {
          "base_uri": "https://localhost:8080/",
          "height": 71
        },
        "id": "KmKzmBZhaHF2",
        "outputId": "f719ac33-cb68-4484-8121-389345048904"
      },
      "outputs": [
        {
          "output_type": "execute_result",
          "data": {
            "text/plain": [
              "             r⋅t        \n",
              "      -K⋅p₀⋅ℯ           \n",
              "────────────────────────\n",
              "         ⎛      r⋅t    ⎞\n",
              "         ⎜  p₀⋅ℯ       ⎟\n",
              "(K - p₀)⋅⎜- ─────── - 1⎟\n",
              "         ⎝   K - p₀    ⎠"
            ],
            "text/latex": "$\\displaystyle - \\frac{K p_{0} e^{r t}}{\\left(K - p_{0}\\right) \\left(- \\frac{p_{0} e^{r t}}{K - p_{0}} - 1\\right)}$"
          },
          "metadata": {},
          "execution_count": 26
        }
      ],
      "source": [
        "particular = general.subs(C1, value_of_C1)"
      ]
    },
    {
      "cell_type": "markdown",
      "metadata": {
        "id": "OCXDHxkTaHF3"
      },
      "source": [
        "The result is complicated, but SymPy provides a method that tries to simplify it."
      ]
    },
    {
      "cell_type": "code",
      "execution_count": 27,
      "metadata": {
        "colab": {
          "base_uri": "https://localhost:8080/",
          "height": 57
        },
        "id": "olcksz06aHF3",
        "outputId": "6314a1b5-b199-4691-a67d-2ac2f69de4de"
      },
      "outputs": [
        {
          "output_type": "execute_result",
          "data": {
            "text/plain": [
              "         r⋅t    \n",
              "   K⋅p₀⋅ℯ       \n",
              "────────────────\n",
              "        r⋅t     \n",
              "K + p₀⋅ℯ    - p₀"
            ],
            "text/latex": "$\\displaystyle \\frac{K p_{0} e^{r t}}{K + p_{0} e^{r t} - p_{0}}$"
          },
          "metadata": {},
          "execution_count": 27
        }
      ],
      "source": [
        "particular = simplify(particular)"
      ]
    },
    {
      "cell_type": "markdown",
      "metadata": {
        "id": "o-VQBDORaHF3"
      },
      "source": [
        "Often simplicity is in the eye of the beholder, but that's about as simple as this expression gets.\n",
        "\n",
        "Just to double-check, we can evaluate it at `t=0` and confirm that we get `p_0`"
      ]
    },
    {
      "cell_type": "code",
      "execution_count": 28,
      "metadata": {
        "colab": {
          "base_uri": "https://localhost:8080/",
          "height": 38
        },
        "id": "4emZ874laHF3",
        "outputId": "2a5df4e3-9dcc-4b36-b162-b3d73918fcf2"
      },
      "outputs": [
        {
          "output_type": "execute_result",
          "data": {
            "text/plain": [
              "p₀"
            ],
            "text/latex": "$\\displaystyle p_{0}$"
          },
          "metadata": {},
          "execution_count": 28
        }
      ],
      "source": [
        "particular.subs(t, 0)"
      ]
    },
    {
      "cell_type": "markdown",
      "metadata": {
        "id": "_dguouXkaHF3"
      },
      "source": [
        "This solution is called the [logistic function](https://en.wikipedia.org/wiki/Population_growth#Logistic_equation).\n",
        "\n",
        "In some places you'll see it written in a different form:\n",
        "\n",
        "$f(t) = \\frac{K}{1 + A e^{-rt}}$\n",
        "\n",
        "where $A = (K - p_0) / p_0$.\n",
        "\n",
        "We can use SymPy to confirm that these two forms are equivalent.  First we represent the alternative version of the logistic function:"
      ]
    },
    {
      "cell_type": "code",
      "execution_count": 29,
      "metadata": {
        "colab": {
          "base_uri": "https://localhost:8080/",
          "height": 55
        },
        "id": "eZ6Za7oCaHF4",
        "outputId": "f423de8a-0f39-4f09-8560-f17df5e44982"
      },
      "outputs": [
        {
          "output_type": "execute_result",
          "data": {
            "text/plain": [
              "K - p₀\n",
              "──────\n",
              "  p₀  "
            ],
            "text/latex": "$\\displaystyle \\frac{K - p_{0}}{p_{0}}$"
          },
          "metadata": {},
          "execution_count": 29
        }
      ],
      "source": [
        "A = (K - p_0) / p_0"
      ]
    },
    {
      "cell_type": "code",
      "execution_count": 30,
      "metadata": {
        "colab": {
          "base_uri": "https://localhost:8080/",
          "height": 63
        },
        "id": "mkuZAGPraHF4",
        "outputId": "99ed3789-5a34-4d33-adc5-4aed7d744a2a"
      },
      "outputs": [
        {
          "output_type": "execute_result",
          "data": {
            "text/plain": [
              "        K         \n",
              "──────────────────\n",
              "              -r⋅t\n",
              "    (K - p₀)⋅ℯ    \n",
              "1 + ──────────────\n",
              "          p₀      "
            ],
            "text/latex": "$\\displaystyle \\frac{K}{1 + \\frac{\\left(K - p_{0}\\right) e^{- r t}}{p_{0}}}$"
          },
          "metadata": {},
          "execution_count": 30
        }
      ],
      "source": [
        "logistic = K / (1 + A * exp(-r*t))"
      ]
    },
    {
      "cell_type": "markdown",
      "metadata": {
        "id": "3B_10nkpaHF5"
      },
      "source": [
        "To see whether two expressions are equivalent, we can check whether their difference simplifies to 0."
      ]
    },
    {
      "cell_type": "code",
      "execution_count": 31,
      "metadata": {
        "scrolled": true,
        "colab": {
          "base_uri": "https://localhost:8080/",
          "height": 37
        },
        "id": "dDZRS-fOaHF5",
        "outputId": "fe80afa0-a3ef-4d6b-cb6d-fed9082ee5d9"
      },
      "outputs": [
        {
          "output_type": "execute_result",
          "data": {
            "text/plain": [
              "0"
            ],
            "text/latex": "$\\displaystyle 0$"
          },
          "metadata": {},
          "execution_count": 31
        }
      ],
      "source": [
        "simplify(particular - logistic)"
      ]
    },
    {
      "cell_type": "markdown",
      "metadata": {
        "id": "5e2n0xAfaHF5"
      },
      "source": [
        "This test only works one way: if SymPy says the difference reduces to 0, the expressions are definitely equivalent (and not just numerically close).\n",
        "\n",
        "But if SymPy can't find a way to simplify the result to 0, that doesn't necessarily mean there isn't one.  Testing whether two expressions are equivalent is a surprisingly hard problem; in fact, there is no algorithm that can solve it in general."
      ]
    },
    {
      "cell_type": "markdown",
      "metadata": {
        "id": "FCPcuExWaHF6"
      },
      "source": [
        "### Exercises\n",
        "\n",
        "**Exercise:** Solve the quadratic growth equation using the alternative parameterization\n",
        "\n",
        "$\\frac{df(t)}{dt} = \\alpha f(t) + \\beta f^2(t) $"
      ]
    },
    {
      "cell_type": "code",
      "execution_count": 32,
      "metadata": {
        "id": "JfoWCqJNaHF6"
      },
      "outputs": [],
      "source": [
        "alpha, beta = symbols('alpha beta')"
      ]
    },
    {
      "cell_type": "code",
      "execution_count": 33,
      "metadata": {
        "colab": {
          "base_uri": "https://localhost:8080/",
          "height": 52
        },
        "id": "CV4AWYVCaHF7",
        "outputId": "42490697-1ffc-4e11-d9f3-ac1bd8648b5a"
      },
      "outputs": [
        {
          "output_type": "execute_result",
          "data": {
            "text/plain": [
              "d                      2   \n",
              "──(f(t)) = α⋅f(t) + β⋅f (t)\n",
              "dt                         "
            ],
            "text/latex": "$\\displaystyle \\frac{d}{d t} f{\\left(t \\right)} = \\alpha f{\\left(t \\right)} + \\beta f^{2}{\\left(t \\right)}$"
          },
          "metadata": {},
          "execution_count": 33
        }
      ],
      "source": [
        "eq3 = Eq(diff(f(t), t), alpha*f(t) + beta*f(t)**2)"
      ]
    },
    {
      "cell_type": "code",
      "execution_count": 34,
      "metadata": {
        "colab": {
          "base_uri": "https://localhost:8080/",
          "height": 62
        },
        "id": "CbdlEEAraHF8",
        "outputId": "d2847068-f975-4993-c25e-43ceef617d6a"
      },
      "outputs": [
        {
          "output_type": "execute_result",
          "data": {
            "text/plain": [
              "             α⋅(C₁ + t)   \n",
              "          α⋅ℯ             \n",
              "f(t) = ───────────────────\n",
              "         ⎛     α⋅(C₁ + t)⎞\n",
              "       β⋅⎝1 - ℯ          ⎠"
            ],
            "text/latex": "$\\displaystyle f{\\left(t \\right)} = \\frac{\\alpha e^{\\alpha \\left(C_{1} + t\\right)}}{\\beta \\left(1 - e^{\\alpha \\left(C_{1} + t\\right)}\\right)}$"
          },
          "metadata": {},
          "execution_count": 34
        }
      ],
      "source": [
        "solution_eq = dsolve(eq3)"
      ]
    },
    {
      "cell_type": "code",
      "execution_count": 35,
      "metadata": {
        "colab": {
          "base_uri": "https://localhost:8080/",
          "height": 62
        },
        "id": "qba51MnMaHF8",
        "outputId": "0e2c3d77-664e-4a28-b376-4e3cd79ccae1"
      },
      "outputs": [
        {
          "output_type": "execute_result",
          "data": {
            "text/plain": [
              "      α⋅(C₁ + t)   \n",
              "   α⋅ℯ             \n",
              "───────────────────\n",
              "  ⎛     α⋅(C₁ + t)⎞\n",
              "β⋅⎝1 - ℯ          ⎠"
            ],
            "text/latex": "$\\displaystyle \\frac{\\alpha e^{\\alpha \\left(C_{1} + t\\right)}}{\\beta \\left(1 - e^{\\alpha \\left(C_{1} + t\\right)}\\right)}$"
          },
          "metadata": {},
          "execution_count": 35
        }
      ],
      "source": [
        "general = solution_eq.rhs"
      ]
    },
    {
      "cell_type": "code",
      "execution_count": 36,
      "metadata": {
        "colab": {
          "base_uri": "https://localhost:8080/",
          "height": 59
        },
        "id": "b1NL3oB_aHF9",
        "outputId": "72d15a40-b02e-4783-9b1c-ab8ea9dd559f"
      },
      "outputs": [
        {
          "output_type": "execute_result",
          "data": {
            "text/plain": [
              "      C₁⋅α   \n",
              "   α⋅ℯ       \n",
              "─────────────\n",
              "  ⎛     C₁⋅α⎞\n",
              "β⋅⎝1 - ℯ    ⎠"
            ],
            "text/latex": "$\\displaystyle \\frac{\\alpha e^{C_{1} \\alpha}}{\\beta \\left(1 - e^{C_{1} \\alpha}\\right)}$"
          },
          "metadata": {},
          "execution_count": 36
        }
      ],
      "source": [
        "at_0 = general.subs(t, 0)"
      ]
    },
    {
      "cell_type": "code",
      "execution_count": 37,
      "metadata": {
        "colab": {
          "base_uri": "https://localhost:8080/"
        },
        "id": "cS99V0jHaHF9",
        "outputId": "bb5a4e7e-e5e0-4d11-ca17-87352c828846"
      },
      "outputs": [
        {
          "output_type": "execute_result",
          "data": {
            "text/plain": [
              "(list, 1)"
            ]
          },
          "metadata": {},
          "execution_count": 37
        }
      ],
      "source": [
        "solutions = solve(Eq(at_0, p_0), C1)\n",
        "type(solutions), len(solutions)"
      ]
    },
    {
      "cell_type": "code",
      "execution_count": 38,
      "metadata": {
        "colab": {
          "base_uri": "https://localhost:8080/",
          "height": 66
        },
        "id": "wydTB30vaHF9",
        "outputId": "f797c0a1-2ae1-4fa0-8246-814aab4b197e"
      },
      "outputs": [
        {
          "output_type": "execute_result",
          "data": {
            "text/plain": [
              "   ⎛  β⋅p₀  ⎞\n",
              "log⎜────────⎟\n",
              "   ⎝α + β⋅p₀⎠\n",
              "─────────────\n",
              "      α      "
            ],
            "text/latex": "$\\displaystyle \\frac{\\log{\\left(\\frac{\\beta p_{0}}{\\alpha + \\beta p_{0}} \\right)}}{\\alpha}$"
          },
          "metadata": {},
          "execution_count": 38
        }
      ],
      "source": [
        "value_of_C1 = solutions[0]"
      ]
    },
    {
      "cell_type": "code",
      "source": [
        "particular = general.subs(C1, value_of_C1)"
      ],
      "metadata": {
        "colab": {
          "base_uri": "https://localhost:8080/",
          "height": 143
        },
        "id": "R6fUOdHY7ygV",
        "outputId": "8967438b-a437-4040-dfc6-f8ba4d6e8988"
      },
      "execution_count": 39,
      "outputs": [
        {
          "output_type": "execute_result",
          "data": {
            "text/plain": [
              "        ⎛       ⎛  β⋅p₀  ⎞⎞   \n",
              "        ⎜    log⎜────────⎟⎟   \n",
              "        ⎜       ⎝α + β⋅p₀⎠⎟   \n",
              "      α⋅⎜t + ─────────────⎟   \n",
              "        ⎝          α      ⎠   \n",
              "   α⋅ℯ                        \n",
              "──────────────────────────────\n",
              "  ⎛       ⎛       ⎛  β⋅p₀  ⎞⎞⎞\n",
              "  ⎜       ⎜    log⎜────────⎟⎟⎟\n",
              "  ⎜       ⎜       ⎝α + β⋅p₀⎠⎟⎟\n",
              "  ⎜     α⋅⎜t + ─────────────⎟⎟\n",
              "  ⎜       ⎝          α      ⎠⎟\n",
              "β⋅⎝1 - ℯ                     ⎠"
            ],
            "text/latex": "$\\displaystyle \\frac{\\alpha e^{\\alpha \\left(t + \\frac{\\log{\\left(\\frac{\\beta p_{0}}{\\alpha + \\beta p_{0}} \\right)}}{\\alpha}\\right)}}{\\beta \\left(1 - e^{\\alpha \\left(t + \\frac{\\log{\\left(\\frac{\\beta p_{0}}{\\alpha + \\beta p_{0}} \\right)}}{\\alpha}\\right)}\\right)}$"
          },
          "metadata": {},
          "execution_count": 39
        }
      ]
    },
    {
      "cell_type": "code",
      "source": [
        "particular = simplify(particular)"
      ],
      "metadata": {
        "colab": {
          "base_uri": "https://localhost:8080/",
          "height": 57
        },
        "id": "PnSX_vJg77Hr",
        "outputId": "bafd4f0a-eba5-4ae8-92fa-9987ab7454b1"
      },
      "execution_count": 40,
      "outputs": [
        {
          "output_type": "execute_result",
          "data": {
            "text/plain": [
              "           α⋅t      \n",
              "     α⋅p₀⋅ℯ         \n",
              "────────────────────\n",
              "          α⋅t       \n",
              "α - β⋅p₀⋅ℯ    + β⋅p₀"
            ],
            "text/latex": "$\\displaystyle \\frac{\\alpha p_{0} e^{\\alpha t}}{\\alpha - \\beta p_{0} e^{\\alpha t} + \\beta p_{0}}$"
          },
          "metadata": {},
          "execution_count": 40
        }
      ]
    },
    {
      "cell_type": "code",
      "source": [
        "particular.subs(t, 0)"
      ],
      "metadata": {
        "colab": {
          "base_uri": "https://localhost:8080/",
          "height": 38
        },
        "id": "IMyzIF2e8BIx",
        "outputId": "8d9ba1e6-42c5-49e9-98c4-ff4eecc553c4"
      },
      "execution_count": 41,
      "outputs": [
        {
          "output_type": "execute_result",
          "data": {
            "text/plain": [
              "p₀"
            ],
            "text/latex": "$\\displaystyle p_{0}$"
          },
          "metadata": {},
          "execution_count": 41
        }
      ]
    },
    {
      "cell_type": "markdown",
      "metadata": {
        "id": "Wd2Iyt0GaHF9"
      },
      "source": [
        "**Exercise:**  Use [WolframAlpha](https://www.wolframalpha.com/) to solve the quadratic growth model, using either or both forms of parameterization:\n",
        "\n",
        "    df(t) / dt = alpha f(t) + beta f(t)^2\n",
        "\n",
        "or\n",
        "\n",
        "    df(t) / dt = r f(t) (1 - f(t)/K)\n",
        "\n",
        "Find the general solution and also the particular solution where `f(0) = p_0`."
      ]
    },
    {
      "cell_type": "code",
      "execution_count": 42,
      "metadata": {
        "colab": {
          "base_uri": "https://localhost:8080/",
          "height": 865
        },
        "id": "Z92GitrEaHF9",
        "outputId": "6be15f58-5f5b-4458-855f-92ecadbe6a15"
      },
      "outputs": [
        {
          "output_type": "execute_result",
          "data": {
            "text/html": [
              "<img src=\"https://raw.githubusercontent.com/Naik-Khyati/data604_mod_sim/main/assignment_4/wolfrom_solution.JPG\"/>"
            ],
            "text/plain": [
              "<IPython.core.display.Image object>"
            ]
          },
          "metadata": {},
          "execution_count": 42
        }
      ],
      "source": [
        "from IPython.display import Image\n",
        "\n",
        "# Specify the URL of the image\n",
        "image_url = 'https://raw.githubusercontent.com/Naik-Khyati/data604_mod_sim/main/assignment_4/wolfrom_solution.JPG'\n",
        "\n",
        "# Display the image from the URL\n",
        "Image(url=image_url)"
      ]
    }
  ],
  "metadata": {
    "kernelspec": {
      "display_name": "Python 3",
      "language": "python",
      "name": "python3"
    },
    "language_info": {
      "codemirror_mode": {
        "name": "ipython",
        "version": 3
      },
      "file_extension": ".py",
      "mimetype": "text/x-python",
      "name": "python",
      "nbconvert_exporter": "python",
      "pygments_lexer": "ipython3",
      "version": "3.7.3"
    },
    "colab": {
      "provenance": []
    }
  },
  "nbformat": 4,
  "nbformat_minor": 0
}