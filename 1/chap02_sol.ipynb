{
  "cells": [
    {
      "cell_type": "markdown",
      "metadata": {
        "id": "pg_-OZDsZ1Hx"
      },
      "source": [
        "# Modeling and Simulation in Python\n",
        "\n",
        "Chapter 2\n",
        "\n",
        "Copyright 2017 Allen Downey\n",
        "\n",
        "License: [Creative Commons Attribution 4.0 International](https://creativecommons.org/licenses/by/4.0)"
      ]
    },
    {
      "cell_type": "code",
      "source": [
        "try:\n",
        "    import pint\n",
        "except ImportError:\n",
        "    !pip install pint\n",
        "    import pint"
      ],
      "metadata": {
        "id": "0R8R6-vBiHn6"
      },
      "execution_count": 1,
      "outputs": []
    },
    {
      "cell_type": "code",
      "source": [
        "try:\n",
        "    from modsim import *\n",
        "except ImportError:\n",
        "    !pip install modsimpy\n",
        "    from modsim import *"
      ],
      "metadata": {
        "id": "uPWQsngliY00"
      },
      "execution_count": 2,
      "outputs": []
    },
    {
      "cell_type": "code",
      "execution_count": 3,
      "metadata": {
        "id": "HkH8-nB-Z1IB"
      },
      "outputs": [],
      "source": [
        "# Configure Jupyter so figures appear in the notebook\n",
        "%matplotlib inline\n",
        "\n",
        "# Configure Jupyter to display the assigned value after an assignment\n",
        "%config InteractiveShell.ast_node_interactivity='last_expr_or_assign'\n",
        "\n",
        "# import functions from the modsim library\n",
        "from modsim import *\n",
        "\n",
        "# set the random number generator\n",
        "np.random.seed(7)\n",
        "\n",
        "# If this cell runs successfully, it produces no output."
      ]
    },
    {
      "cell_type": "markdown",
      "metadata": {
        "id": "26V7PEPaZ1ID"
      },
      "source": [
        "## Modeling a bikeshare system"
      ]
    },
    {
      "cell_type": "markdown",
      "metadata": {
        "id": "NPtz4jY8Z1IE"
      },
      "source": [
        "We'll start with a `State` object that represents the number of bikes at each station.\n",
        "\n",
        "When you display a `State` object, it lists the state variables and their values:"
      ]
    },
    {
      "cell_type": "code",
      "execution_count": 4,
      "metadata": {
        "colab": {
          "base_uri": "https://localhost:8080/",
          "height": 112
        },
        "id": "OGzBpS3sZ1IE",
        "outputId": "99180b46-9543-4e02-ae13-382de8240970"
      },
      "outputs": [
        {
          "output_type": "execute_result",
          "data": {
            "text/plain": [
              "olin         10\n",
              "wellesley     2\n",
              "dtype: int64"
            ],
            "text/html": [
              "<div>\n",
              "<style scoped>\n",
              "    .dataframe tbody tr th:only-of-type {\n",
              "        vertical-align: middle;\n",
              "    }\n",
              "\n",
              "    .dataframe tbody tr th {\n",
              "        vertical-align: top;\n",
              "    }\n",
              "\n",
              "    .dataframe thead th {\n",
              "        text-align: right;\n",
              "    }\n",
              "</style>\n",
              "<table border=\"1\" class=\"dataframe\">\n",
              "  <thead>\n",
              "    <tr style=\"text-align: right;\">\n",
              "      <th></th>\n",
              "      <th>values</th>\n",
              "    </tr>\n",
              "  </thead>\n",
              "  <tbody>\n",
              "    <tr>\n",
              "      <th>olin</th>\n",
              "      <td>10</td>\n",
              "    </tr>\n",
              "    <tr>\n",
              "      <th>wellesley</th>\n",
              "      <td>2</td>\n",
              "    </tr>\n",
              "  </tbody>\n",
              "</table>\n",
              "</div>"
            ]
          },
          "metadata": {},
          "execution_count": 4
        }
      ],
      "source": [
        "bikeshare = State(olin=10, wellesley=2)"
      ]
    },
    {
      "cell_type": "markdown",
      "metadata": {
        "id": "pQfj_qXrZ1IF"
      },
      "source": [
        "We can access the state variables using dot notation."
      ]
    },
    {
      "cell_type": "code",
      "execution_count": 5,
      "metadata": {
        "colab": {
          "base_uri": "https://localhost:8080/"
        },
        "id": "IoO1ip1CZ1IF",
        "outputId": "dcaa617a-9030-421a-801b-1f2bc4d9fea3"
      },
      "outputs": [
        {
          "output_type": "execute_result",
          "data": {
            "text/plain": [
              "10"
            ]
          },
          "metadata": {},
          "execution_count": 5
        }
      ],
      "source": [
        "bikeshare.olin"
      ]
    },
    {
      "cell_type": "code",
      "execution_count": 6,
      "metadata": {
        "scrolled": true,
        "colab": {
          "base_uri": "https://localhost:8080/"
        },
        "id": "K363PWn9Z1IG",
        "outputId": "11f34555-025b-47dd-a749-e38006bdb4a1"
      },
      "outputs": [
        {
          "output_type": "execute_result",
          "data": {
            "text/plain": [
              "2"
            ]
          },
          "metadata": {},
          "execution_count": 6
        }
      ],
      "source": [
        "bikeshare.wellesley"
      ]
    },
    {
      "cell_type": "code",
      "source": [
        "# bikeshare.wellesle"
      ],
      "metadata": {
        "id": "8e1iBwkujD9F"
      },
      "execution_count": 7,
      "outputs": []
    },
    {
      "cell_type": "markdown",
      "metadata": {
        "id": "62HGrZOpZ1IG"
      },
      "source": [
        "**Exercise:** What happens if you spell the name of a state variable wrong?  Edit the previous cell, change the spelling of `wellesley`, and run the cell again.\n",
        "\n",
        "The error message uses the word \"attribute\", which is another name for what we are calling a state variable. "
      ]
    },
    {
      "cell_type": "markdown",
      "source": [
        "It gives a error message as 'State' object has no attribute 'wellesle'"
      ],
      "metadata": {
        "id": "0RYjcsbMjWgc"
      }
    },
    {
      "cell_type": "markdown",
      "metadata": {
        "id": "3RDl-w9nZ1IH"
      },
      "source": [
        "**Exercise:** Add a third attribute called `babson` with initial value 0, and display the state of `bikeshare` again."
      ]
    },
    {
      "cell_type": "code",
      "source": [
        "bikeshare = State(olin=10, wellesley=2, babson=0)\n",
        "print(bikeshare)"
      ],
      "metadata": {
        "colab": {
          "base_uri": "https://localhost:8080/"
        },
        "id": "nCEM1A2JjgrR",
        "outputId": "6d1be386-a54b-459e-d710-efd1d301d33c"
      },
      "execution_count": 8,
      "outputs": [
        {
          "output_type": "stream",
          "name": "stdout",
          "text": [
            "olin         10\n",
            "wellesley     2\n",
            "babson        0\n",
            "dtype: int64\n"
          ]
        }
      ]
    },
    {
      "cell_type": "markdown",
      "metadata": {
        "id": "Dp38dj9GZ1IH"
      },
      "source": [
        "## Updating\n",
        "\n",
        "We can use the update operators `+=` and `-=` to change state variables."
      ]
    },
    {
      "cell_type": "code",
      "execution_count": 9,
      "metadata": {
        "id": "hBB05r5SZ1IH"
      },
      "outputs": [],
      "source": [
        "bikeshare.olin -= 1"
      ]
    },
    {
      "cell_type": "markdown",
      "metadata": {
        "id": "tjj5TLVwZ1IH"
      },
      "source": [
        "If we display `bikeshare`, we should see the change."
      ]
    },
    {
      "cell_type": "code",
      "execution_count": 10,
      "metadata": {
        "colab": {
          "base_uri": "https://localhost:8080/",
          "height": 143
        },
        "id": "Necsm506Z1II",
        "outputId": "dd699485-40d1-45cc-eb55-218ca5d34ef6"
      },
      "outputs": [
        {
          "output_type": "execute_result",
          "data": {
            "text/plain": [
              "olin         9\n",
              "wellesley    2\n",
              "babson       0\n",
              "dtype: int64"
            ],
            "text/html": [
              "<div>\n",
              "<style scoped>\n",
              "    .dataframe tbody tr th:only-of-type {\n",
              "        vertical-align: middle;\n",
              "    }\n",
              "\n",
              "    .dataframe tbody tr th {\n",
              "        vertical-align: top;\n",
              "    }\n",
              "\n",
              "    .dataframe thead th {\n",
              "        text-align: right;\n",
              "    }\n",
              "</style>\n",
              "<table border=\"1\" class=\"dataframe\">\n",
              "  <thead>\n",
              "    <tr style=\"text-align: right;\">\n",
              "      <th></th>\n",
              "      <th>values</th>\n",
              "    </tr>\n",
              "  </thead>\n",
              "  <tbody>\n",
              "    <tr>\n",
              "      <th>olin</th>\n",
              "      <td>9</td>\n",
              "    </tr>\n",
              "    <tr>\n",
              "      <th>wellesley</th>\n",
              "      <td>2</td>\n",
              "    </tr>\n",
              "    <tr>\n",
              "      <th>babson</th>\n",
              "      <td>0</td>\n",
              "    </tr>\n",
              "  </tbody>\n",
              "</table>\n",
              "</div>"
            ]
          },
          "metadata": {},
          "execution_count": 10
        }
      ],
      "source": [
        "bikeshare"
      ]
    },
    {
      "cell_type": "markdown",
      "metadata": {
        "id": "tyLt_HlEZ1II"
      },
      "source": [
        "Of course, if we subtract a bike from `olin`, we should add it to `wellesley`."
      ]
    },
    {
      "cell_type": "code",
      "execution_count": 11,
      "metadata": {
        "colab": {
          "base_uri": "https://localhost:8080/",
          "height": 143
        },
        "id": "UieSHHyOZ1IJ",
        "outputId": "95eae82c-ac78-405a-9d21-fbbf920eca39"
      },
      "outputs": [
        {
          "output_type": "execute_result",
          "data": {
            "text/plain": [
              "olin         9\n",
              "wellesley    3\n",
              "babson       0\n",
              "dtype: int64"
            ],
            "text/html": [
              "<div>\n",
              "<style scoped>\n",
              "    .dataframe tbody tr th:only-of-type {\n",
              "        vertical-align: middle;\n",
              "    }\n",
              "\n",
              "    .dataframe tbody tr th {\n",
              "        vertical-align: top;\n",
              "    }\n",
              "\n",
              "    .dataframe thead th {\n",
              "        text-align: right;\n",
              "    }\n",
              "</style>\n",
              "<table border=\"1\" class=\"dataframe\">\n",
              "  <thead>\n",
              "    <tr style=\"text-align: right;\">\n",
              "      <th></th>\n",
              "      <th>values</th>\n",
              "    </tr>\n",
              "  </thead>\n",
              "  <tbody>\n",
              "    <tr>\n",
              "      <th>olin</th>\n",
              "      <td>9</td>\n",
              "    </tr>\n",
              "    <tr>\n",
              "      <th>wellesley</th>\n",
              "      <td>3</td>\n",
              "    </tr>\n",
              "    <tr>\n",
              "      <th>babson</th>\n",
              "      <td>0</td>\n",
              "    </tr>\n",
              "  </tbody>\n",
              "</table>\n",
              "</div>"
            ]
          },
          "metadata": {},
          "execution_count": 11
        }
      ],
      "source": [
        "bikeshare.wellesley += 1\n",
        "bikeshare"
      ]
    },
    {
      "cell_type": "markdown",
      "metadata": {
        "id": "H6Am6pfbZ1IJ"
      },
      "source": [
        "## Functions\n",
        "\n",
        "We can take the code we've written so far and encapsulate it in a function."
      ]
    },
    {
      "cell_type": "code",
      "execution_count": 12,
      "metadata": {
        "id": "XvFziOE5Z1IJ"
      },
      "outputs": [],
      "source": [
        "def bike_to_wellesley():\n",
        "    bikeshare.olin -= 1\n",
        "    bikeshare.wellesley += 1"
      ]
    },
    {
      "cell_type": "markdown",
      "metadata": {
        "id": "JfE5eIWIZ1IJ"
      },
      "source": [
        "When you define a function, it doesn't run the statements inside the function, yet.  When you call the function, it runs the statements inside."
      ]
    },
    {
      "cell_type": "code",
      "execution_count": 13,
      "metadata": {
        "colab": {
          "base_uri": "https://localhost:8080/",
          "height": 143
        },
        "id": "--wPspOnZ1IK",
        "outputId": "c3ad1b3f-ba48-4e6c-eb22-3ce235d8953e"
      },
      "outputs": [
        {
          "output_type": "execute_result",
          "data": {
            "text/plain": [
              "olin         8\n",
              "wellesley    4\n",
              "babson       0\n",
              "dtype: int64"
            ],
            "text/html": [
              "<div>\n",
              "<style scoped>\n",
              "    .dataframe tbody tr th:only-of-type {\n",
              "        vertical-align: middle;\n",
              "    }\n",
              "\n",
              "    .dataframe tbody tr th {\n",
              "        vertical-align: top;\n",
              "    }\n",
              "\n",
              "    .dataframe thead th {\n",
              "        text-align: right;\n",
              "    }\n",
              "</style>\n",
              "<table border=\"1\" class=\"dataframe\">\n",
              "  <thead>\n",
              "    <tr style=\"text-align: right;\">\n",
              "      <th></th>\n",
              "      <th>values</th>\n",
              "    </tr>\n",
              "  </thead>\n",
              "  <tbody>\n",
              "    <tr>\n",
              "      <th>olin</th>\n",
              "      <td>8</td>\n",
              "    </tr>\n",
              "    <tr>\n",
              "      <th>wellesley</th>\n",
              "      <td>4</td>\n",
              "    </tr>\n",
              "    <tr>\n",
              "      <th>babson</th>\n",
              "      <td>0</td>\n",
              "    </tr>\n",
              "  </tbody>\n",
              "</table>\n",
              "</div>"
            ]
          },
          "metadata": {},
          "execution_count": 13
        }
      ],
      "source": [
        "bike_to_wellesley()\n",
        "bikeshare"
      ]
    },
    {
      "cell_type": "markdown",
      "metadata": {
        "id": "P1_1BHzgZ1IK"
      },
      "source": [
        "\n",
        "One common error is to omit the parentheses, which has the effect of looking up the function, but not calling it."
      ]
    },
    {
      "cell_type": "code",
      "execution_count": 14,
      "metadata": {
        "colab": {
          "base_uri": "https://localhost:8080/"
        },
        "id": "DrqqyyKFZ1IK",
        "outputId": "b95d4b94-0247-4bde-a4d0-36b8267021b9"
      },
      "outputs": [
        {
          "output_type": "execute_result",
          "data": {
            "text/plain": [
              "<function __main__.bike_to_wellesley()>"
            ]
          },
          "metadata": {},
          "execution_count": 14
        }
      ],
      "source": [
        "bike_to_wellesley"
      ]
    },
    {
      "cell_type": "markdown",
      "metadata": {
        "id": "dncKzfxPZ1IL"
      },
      "source": [
        "The output indicates that `bike_to_wellesley` is a function defined in a \"namespace\" called `__main__`, but you don't have to understand what that means."
      ]
    },
    {
      "cell_type": "markdown",
      "metadata": {
        "id": "wO-PksDLZ1IL"
      },
      "source": [
        "**Exercise:** Define a function called `bike_to_olin` that moves a bike from Wellesley to Olin.  Call the new function and display `bikeshare`  to confirm that it works."
      ]
    },
    {
      "cell_type": "code",
      "execution_count": 15,
      "metadata": {
        "colab": {
          "base_uri": "https://localhost:8080/"
        },
        "id": "JDUbyuPSZ1IN",
        "outputId": "880167ca-4b80-4c53-ef47-e4075f4ff7f3"
      },
      "outputs": [
        {
          "output_type": "stream",
          "name": "stdout",
          "text": [
            "Bike moved from Wellesley to Olin.\n",
            "olin         9\n",
            "wellesley    3\n",
            "babson       0\n",
            "dtype: int64\n"
          ]
        }
      ],
      "source": [
        "def bike_to_olin():\n",
        "    global bikeshare\n",
        "    if bikeshare.wellesley > 0:\n",
        "        bikeshare.wellesley -= 1\n",
        "        bikeshare.olin += 1\n",
        "        print(\"Bike moved from Wellesley to Olin.\")\n",
        "    else:\n",
        "        print(\"No bikes available at Wellesley.\")\n",
        "\n",
        "# Call the function\n",
        "bike_to_olin()\n",
        "\n",
        "# Display the updated bikeshare state\n",
        "print(bikeshare)"
      ]
    },
    {
      "cell_type": "markdown",
      "metadata": {
        "id": "imFKnLADZ1IO"
      },
      "source": [
        "## Conditionals"
      ]
    },
    {
      "cell_type": "markdown",
      "metadata": {
        "id": "FICci6lXZ1IO"
      },
      "source": [
        "`modsim.py` provides `flip`, which takes a probability and returns either `True` or `False`, which are special values defined by Python.\n",
        "\n",
        "The Python function `help` looks up a function and displays its documentation."
      ]
    },
    {
      "cell_type": "code",
      "execution_count": 16,
      "metadata": {
        "colab": {
          "base_uri": "https://localhost:8080/"
        },
        "id": "RjWCu4fXZ1IP",
        "outputId": "490ced4a-b9ab-402c-f1fb-7ed0cee3cf24"
      },
      "outputs": [
        {
          "output_type": "stream",
          "name": "stdout",
          "text": [
            "Help on function flip in module modsim.modsim:\n",
            "\n",
            "flip(p=0.5)\n",
            "    Flips a coin with the given probability.\n",
            "    \n",
            "    p: float 0-1\n",
            "    \n",
            "    returns: boolean (True or False)\n",
            "\n"
          ]
        }
      ],
      "source": [
        "help(flip)"
      ]
    },
    {
      "cell_type": "markdown",
      "metadata": {
        "id": "8uUf87AFZ1IP"
      },
      "source": [
        "In the following example, the probability is 0.7 or 70%.  If you run this cell several times, you should get `True` about 70% of the time and `False` about 30%."
      ]
    },
    {
      "cell_type": "code",
      "execution_count": 17,
      "metadata": {
        "colab": {
          "base_uri": "https://localhost:8080/"
        },
        "id": "qZNPuy1TZ1IQ",
        "outputId": "ad78d82c-dd20-4c3f-9681-63e80f5f5312"
      },
      "outputs": [
        {
          "output_type": "execute_result",
          "data": {
            "text/plain": [
              "True"
            ]
          },
          "metadata": {},
          "execution_count": 17
        }
      ],
      "source": [
        "flip(0.7)"
      ]
    },
    {
      "cell_type": "markdown",
      "metadata": {
        "id": "9xHVshSHZ1IQ"
      },
      "source": [
        "In the following example, we use `flip` as part of an if statement.  If the result from `flip` is `True`, we print `heads`; otherwise we do nothing."
      ]
    },
    {
      "cell_type": "code",
      "execution_count": 18,
      "metadata": {
        "id": "qRhLR_f2Z1IQ"
      },
      "outputs": [],
      "source": [
        "if flip(0.7):\n",
        "    print('heads')"
      ]
    },
    {
      "cell_type": "markdown",
      "metadata": {
        "id": "yacA1FZNZ1IQ"
      },
      "source": [
        "With an else clause, we can print heads or tails depending on whether `flip` returns `True` or `False`."
      ]
    },
    {
      "cell_type": "code",
      "execution_count": 19,
      "metadata": {
        "colab": {
          "base_uri": "https://localhost:8080/"
        },
        "id": "flKK6D7fZ1IR",
        "outputId": "05acc37a-c4b2-45ff-dd72-e84786010af8"
      },
      "outputs": [
        {
          "output_type": "stream",
          "name": "stdout",
          "text": [
            "heads\n"
          ]
        }
      ],
      "source": [
        "if flip(0.7):\n",
        "    print('heads')\n",
        "else:\n",
        "    print('tails')"
      ]
    },
    {
      "cell_type": "markdown",
      "metadata": {
        "id": "QjSyTRhaZ1IR"
      },
      "source": [
        "## Step\n",
        "\n",
        "Now let's get back to the bikeshare state.  Again let's start with a new `State` object."
      ]
    },
    {
      "cell_type": "code",
      "execution_count": 20,
      "metadata": {
        "colab": {
          "base_uri": "https://localhost:8080/",
          "height": 112
        },
        "id": "O_2uBo5_Z1IR",
        "outputId": "b8f3295b-07b3-4eac-a74a-038abe33a000"
      },
      "outputs": [
        {
          "output_type": "execute_result",
          "data": {
            "text/plain": [
              "olin         10\n",
              "wellesley     2\n",
              "dtype: int64"
            ],
            "text/html": [
              "<div>\n",
              "<style scoped>\n",
              "    .dataframe tbody tr th:only-of-type {\n",
              "        vertical-align: middle;\n",
              "    }\n",
              "\n",
              "    .dataframe tbody tr th {\n",
              "        vertical-align: top;\n",
              "    }\n",
              "\n",
              "    .dataframe thead th {\n",
              "        text-align: right;\n",
              "    }\n",
              "</style>\n",
              "<table border=\"1\" class=\"dataframe\">\n",
              "  <thead>\n",
              "    <tr style=\"text-align: right;\">\n",
              "      <th></th>\n",
              "      <th>values</th>\n",
              "    </tr>\n",
              "  </thead>\n",
              "  <tbody>\n",
              "    <tr>\n",
              "      <th>olin</th>\n",
              "      <td>10</td>\n",
              "    </tr>\n",
              "    <tr>\n",
              "      <th>wellesley</th>\n",
              "      <td>2</td>\n",
              "    </tr>\n",
              "  </tbody>\n",
              "</table>\n",
              "</div>"
            ]
          },
          "metadata": {},
          "execution_count": 20
        }
      ],
      "source": [
        "bikeshare = State(olin=10, wellesley=2)"
      ]
    },
    {
      "cell_type": "markdown",
      "metadata": {
        "id": "kDY7gFrkZ1IR"
      },
      "source": [
        "Suppose that in any given minute, there is a 50% chance that a student picks up a bike at Olin and rides to Wellesley.  We can simulate that like this."
      ]
    },
    {
      "cell_type": "code",
      "execution_count": 21,
      "metadata": {
        "colab": {
          "base_uri": "https://localhost:8080/",
          "height": 112
        },
        "id": "QWCMi9r_Z1IS",
        "outputId": "23b59836-6518-446f-8726-ce6c5954da60"
      },
      "outputs": [
        {
          "output_type": "execute_result",
          "data": {
            "text/plain": [
              "olin         10\n",
              "wellesley     2\n",
              "dtype: int64"
            ],
            "text/html": [
              "<div>\n",
              "<style scoped>\n",
              "    .dataframe tbody tr th:only-of-type {\n",
              "        vertical-align: middle;\n",
              "    }\n",
              "\n",
              "    .dataframe tbody tr th {\n",
              "        vertical-align: top;\n",
              "    }\n",
              "\n",
              "    .dataframe thead th {\n",
              "        text-align: right;\n",
              "    }\n",
              "</style>\n",
              "<table border=\"1\" class=\"dataframe\">\n",
              "  <thead>\n",
              "    <tr style=\"text-align: right;\">\n",
              "      <th></th>\n",
              "      <th>values</th>\n",
              "    </tr>\n",
              "  </thead>\n",
              "  <tbody>\n",
              "    <tr>\n",
              "      <th>olin</th>\n",
              "      <td>10</td>\n",
              "    </tr>\n",
              "    <tr>\n",
              "      <th>wellesley</th>\n",
              "      <td>2</td>\n",
              "    </tr>\n",
              "  </tbody>\n",
              "</table>\n",
              "</div>"
            ]
          },
          "metadata": {},
          "execution_count": 21
        }
      ],
      "source": [
        "if flip(0.5):\n",
        "    bike_to_wellesley()\n",
        "    print('Moving a bike to Wellesley')\n",
        "\n",
        "bikeshare"
      ]
    },
    {
      "cell_type": "markdown",
      "metadata": {
        "id": "fGhj6P7TZ1Ig"
      },
      "source": [
        "And maybe at the same time, there is also a 40% chance that a student at Wellesley rides to Olin."
      ]
    },
    {
      "cell_type": "code",
      "execution_count": 22,
      "metadata": {
        "colab": {
          "base_uri": "https://localhost:8080/",
          "height": 112
        },
        "id": "0d3XHN4eZ1Ih",
        "outputId": "d9ca5c99-ffb1-40dc-c25d-f4c46276579c"
      },
      "outputs": [
        {
          "output_type": "execute_result",
          "data": {
            "text/plain": [
              "olin         10\n",
              "wellesley     2\n",
              "dtype: int64"
            ],
            "text/html": [
              "<div>\n",
              "<style scoped>\n",
              "    .dataframe tbody tr th:only-of-type {\n",
              "        vertical-align: middle;\n",
              "    }\n",
              "\n",
              "    .dataframe tbody tr th {\n",
              "        vertical-align: top;\n",
              "    }\n",
              "\n",
              "    .dataframe thead th {\n",
              "        text-align: right;\n",
              "    }\n",
              "</style>\n",
              "<table border=\"1\" class=\"dataframe\">\n",
              "  <thead>\n",
              "    <tr style=\"text-align: right;\">\n",
              "      <th></th>\n",
              "      <th>values</th>\n",
              "    </tr>\n",
              "  </thead>\n",
              "  <tbody>\n",
              "    <tr>\n",
              "      <th>olin</th>\n",
              "      <td>10</td>\n",
              "    </tr>\n",
              "    <tr>\n",
              "      <th>wellesley</th>\n",
              "      <td>2</td>\n",
              "    </tr>\n",
              "  </tbody>\n",
              "</table>\n",
              "</div>"
            ]
          },
          "metadata": {},
          "execution_count": 22
        }
      ],
      "source": [
        "if flip(0.4):\n",
        "    bike_to_olin()\n",
        "    print('Moving a bike to Olin')\n",
        "\n",
        "bikeshare"
      ]
    },
    {
      "cell_type": "markdown",
      "metadata": {
        "id": "HAIqgCF2Z1Ih"
      },
      "source": [
        "We can wrap that code in a function called `step` that simulates one time step.  In any given minute, a student might ride from Olin to Wellesley, from Wellesley to Olin, or both, or neither, depending on the results of `flip`."
      ]
    },
    {
      "cell_type": "code",
      "execution_count": 23,
      "metadata": {
        "id": "JVXU5eEkZ1Ii"
      },
      "outputs": [],
      "source": [
        "def step():\n",
        "    if flip(0.5):\n",
        "        bike_to_wellesley()\n",
        "        print('Moving a bike to Wellesley')\n",
        "        \n",
        "    if flip(0.4):\n",
        "        bike_to_olin()\n",
        "        print('Moving a bike to Olin')"
      ]
    },
    {
      "cell_type": "markdown",
      "metadata": {
        "id": "imBpNLggZ1Ii"
      },
      "source": [
        "Since this function takes no parameters, we call it like this:"
      ]
    },
    {
      "cell_type": "code",
      "execution_count": 24,
      "metadata": {
        "colab": {
          "base_uri": "https://localhost:8080/",
          "height": 112
        },
        "id": "DHp5OfSdZ1Ij",
        "outputId": "27ce76f0-1906-4b7c-fd03-4e8553b81301"
      },
      "outputs": [
        {
          "output_type": "execute_result",
          "data": {
            "text/plain": [
              "olin         10\n",
              "wellesley     2\n",
              "dtype: int64"
            ],
            "text/html": [
              "<div>\n",
              "<style scoped>\n",
              "    .dataframe tbody tr th:only-of-type {\n",
              "        vertical-align: middle;\n",
              "    }\n",
              "\n",
              "    .dataframe tbody tr th {\n",
              "        vertical-align: top;\n",
              "    }\n",
              "\n",
              "    .dataframe thead th {\n",
              "        text-align: right;\n",
              "    }\n",
              "</style>\n",
              "<table border=\"1\" class=\"dataframe\">\n",
              "  <thead>\n",
              "    <tr style=\"text-align: right;\">\n",
              "      <th></th>\n",
              "      <th>values</th>\n",
              "    </tr>\n",
              "  </thead>\n",
              "  <tbody>\n",
              "    <tr>\n",
              "      <th>olin</th>\n",
              "      <td>10</td>\n",
              "    </tr>\n",
              "    <tr>\n",
              "      <th>wellesley</th>\n",
              "      <td>2</td>\n",
              "    </tr>\n",
              "  </tbody>\n",
              "</table>\n",
              "</div>"
            ]
          },
          "metadata": {},
          "execution_count": 24
        }
      ],
      "source": [
        "step()\n",
        "bikeshare"
      ]
    },
    {
      "cell_type": "markdown",
      "metadata": {
        "id": "B_Tg9AvBZ1Ik"
      },
      "source": [
        "## Parameters\n",
        "\n",
        "As defined in the previous section, `step` is not as useful as it could be, because the probabilities `0.5` and `0.4` are \"hard coded\".\n",
        "\n",
        "It would be better to generalize this function so it takes the probabilities `p1` and `p2` as parameters:"
      ]
    },
    {
      "cell_type": "code",
      "execution_count": 25,
      "metadata": {
        "id": "CIpPvodiZ1Im"
      },
      "outputs": [],
      "source": [
        "def step(p1, p2):\n",
        "    if flip(p1):\n",
        "        bike_to_wellesley()\n",
        "        print('Moving a bike to Wellesley')\n",
        "        \n",
        "    if flip(p2):\n",
        "        bike_to_olin()\n",
        "        print('Moving a bike to Olin')"
      ]
    },
    {
      "cell_type": "markdown",
      "metadata": {
        "id": "akPiR7sIZ1Im"
      },
      "source": [
        "Now we can call it like this:"
      ]
    },
    {
      "cell_type": "code",
      "execution_count": 26,
      "metadata": {
        "colab": {
          "base_uri": "https://localhost:8080/",
          "height": 164
        },
        "id": "-zYqcZG5Z1In",
        "outputId": "4a0b8040-1e43-4df1-f0b3-1b08fa4de50a"
      },
      "outputs": [
        {
          "output_type": "stream",
          "name": "stdout",
          "text": [
            "Moving a bike to Wellesley\n",
            "Bike moved from Wellesley to Olin.\n",
            "Moving a bike to Olin\n"
          ]
        },
        {
          "output_type": "execute_result",
          "data": {
            "text/plain": [
              "olin         10\n",
              "wellesley     2\n",
              "dtype: int64"
            ],
            "text/html": [
              "<div>\n",
              "<style scoped>\n",
              "    .dataframe tbody tr th:only-of-type {\n",
              "        vertical-align: middle;\n",
              "    }\n",
              "\n",
              "    .dataframe tbody tr th {\n",
              "        vertical-align: top;\n",
              "    }\n",
              "\n",
              "    .dataframe thead th {\n",
              "        text-align: right;\n",
              "    }\n",
              "</style>\n",
              "<table border=\"1\" class=\"dataframe\">\n",
              "  <thead>\n",
              "    <tr style=\"text-align: right;\">\n",
              "      <th></th>\n",
              "      <th>values</th>\n",
              "    </tr>\n",
              "  </thead>\n",
              "  <tbody>\n",
              "    <tr>\n",
              "      <th>olin</th>\n",
              "      <td>10</td>\n",
              "    </tr>\n",
              "    <tr>\n",
              "      <th>wellesley</th>\n",
              "      <td>2</td>\n",
              "    </tr>\n",
              "  </tbody>\n",
              "</table>\n",
              "</div>"
            ]
          },
          "metadata": {},
          "execution_count": 26
        }
      ],
      "source": [
        "step(0.5, 0.4)\n",
        "bikeshare"
      ]
    },
    {
      "cell_type": "markdown",
      "metadata": {
        "id": "g36U10Z_Z1Io"
      },
      "source": [
        "**Exercise:** At the beginning of `step`, add a print statement that displays the values of `p1` and `p2`.  Call it again with values `0.3`, and `0.2`, and confirm that the values of the parameters are what you expect. "
      ]
    },
    {
      "cell_type": "code",
      "execution_count": 27,
      "metadata": {
        "colab": {
          "base_uri": "https://localhost:8080/"
        },
        "id": "w46S2o5UZ1Io",
        "outputId": "470f5b87-29dc-4ccc-8f4a-e80c57f4a43d"
      },
      "outputs": [
        {
          "output_type": "stream",
          "name": "stdout",
          "text": [
            "p1: 0.3, p2: 0.2\n"
          ]
        }
      ],
      "source": [
        "def step(p1, p2):\n",
        "    print(f\"p1: {p1}, p2: {p2}\")  # Print the values of p1 and p2\n",
        "\n",
        "    if flip(p1):\n",
        "        bike_to_wellesley()\n",
        "        print('Moving a bike to Wellesley')\n",
        "        \n",
        "    if flip(p2):\n",
        "        bike_to_olin()\n",
        "        print('Moving a bike to Olin')\n",
        "\n",
        "# Call step with values 0.3 and 0.2\n",
        "step(0.3, 0.2)\n"
      ]
    },
    {
      "cell_type": "markdown",
      "metadata": {
        "id": "f_39mIrQZ1Ip"
      },
      "source": [
        "## For loop"
      ]
    },
    {
      "cell_type": "markdown",
      "metadata": {
        "id": "wMu5wTeSZ1Iq"
      },
      "source": [
        "Before we go on, I'll redefine `step` without the print statements."
      ]
    },
    {
      "cell_type": "code",
      "execution_count": 28,
      "metadata": {
        "id": "cMI2FPtgZ1Iq"
      },
      "outputs": [],
      "source": [
        "def step(p1, p2):\n",
        "    if flip(p1):\n",
        "        bike_to_wellesley()\n",
        "    \n",
        "    if flip(p2):\n",
        "        bike_to_olin()"
      ]
    },
    {
      "cell_type": "markdown",
      "metadata": {
        "id": "7A9UOd7TZ1Ir"
      },
      "source": [
        "And let's start again with a new `State` object:"
      ]
    },
    {
      "cell_type": "code",
      "execution_count": 29,
      "metadata": {
        "colab": {
          "base_uri": "https://localhost:8080/",
          "height": 112
        },
        "id": "FclJJ-hCZ1Is",
        "outputId": "94ffb90d-1fe3-40d0-a6fe-3bf721b561ee"
      },
      "outputs": [
        {
          "output_type": "execute_result",
          "data": {
            "text/plain": [
              "olin         10\n",
              "wellesley     2\n",
              "dtype: int64"
            ],
            "text/html": [
              "<div>\n",
              "<style scoped>\n",
              "    .dataframe tbody tr th:only-of-type {\n",
              "        vertical-align: middle;\n",
              "    }\n",
              "\n",
              "    .dataframe tbody tr th {\n",
              "        vertical-align: top;\n",
              "    }\n",
              "\n",
              "    .dataframe thead th {\n",
              "        text-align: right;\n",
              "    }\n",
              "</style>\n",
              "<table border=\"1\" class=\"dataframe\">\n",
              "  <thead>\n",
              "    <tr style=\"text-align: right;\">\n",
              "      <th></th>\n",
              "      <th>values</th>\n",
              "    </tr>\n",
              "  </thead>\n",
              "  <tbody>\n",
              "    <tr>\n",
              "      <th>olin</th>\n",
              "      <td>10</td>\n",
              "    </tr>\n",
              "    <tr>\n",
              "      <th>wellesley</th>\n",
              "      <td>2</td>\n",
              "    </tr>\n",
              "  </tbody>\n",
              "</table>\n",
              "</div>"
            ]
          },
          "metadata": {},
          "execution_count": 29
        }
      ],
      "source": [
        "bikeshare = State(olin=10, wellesley=2)"
      ]
    },
    {
      "cell_type": "markdown",
      "metadata": {
        "id": "4Nn1pHjQZ1Iu"
      },
      "source": [
        "We can use a `for` loop to move 4 bikes from Olin to Wellesley."
      ]
    },
    {
      "cell_type": "code",
      "execution_count": 30,
      "metadata": {
        "colab": {
          "base_uri": "https://localhost:8080/",
          "height": 112
        },
        "id": "iAdXt2NpZ1Iw",
        "outputId": "d0f476fc-7dbf-41b5-b614-ec6ab8723615"
      },
      "outputs": [
        {
          "output_type": "execute_result",
          "data": {
            "text/plain": [
              "olin         6\n",
              "wellesley    6\n",
              "dtype: int64"
            ],
            "text/html": [
              "<div>\n",
              "<style scoped>\n",
              "    .dataframe tbody tr th:only-of-type {\n",
              "        vertical-align: middle;\n",
              "    }\n",
              "\n",
              "    .dataframe tbody tr th {\n",
              "        vertical-align: top;\n",
              "    }\n",
              "\n",
              "    .dataframe thead th {\n",
              "        text-align: right;\n",
              "    }\n",
              "</style>\n",
              "<table border=\"1\" class=\"dataframe\">\n",
              "  <thead>\n",
              "    <tr style=\"text-align: right;\">\n",
              "      <th></th>\n",
              "      <th>values</th>\n",
              "    </tr>\n",
              "  </thead>\n",
              "  <tbody>\n",
              "    <tr>\n",
              "      <th>olin</th>\n",
              "      <td>6</td>\n",
              "    </tr>\n",
              "    <tr>\n",
              "      <th>wellesley</th>\n",
              "      <td>6</td>\n",
              "    </tr>\n",
              "  </tbody>\n",
              "</table>\n",
              "</div>"
            ]
          },
          "metadata": {},
          "execution_count": 30
        }
      ],
      "source": [
        "for i in range(4):\n",
        "    bike_to_wellesley()\n",
        "    \n",
        "bikeshare"
      ]
    },
    {
      "cell_type": "markdown",
      "metadata": {
        "id": "SySNUGSAZ1Iw"
      },
      "source": [
        "Or we can simulate 4 random time steps."
      ]
    },
    {
      "cell_type": "code",
      "execution_count": 31,
      "metadata": {
        "colab": {
          "base_uri": "https://localhost:8080/",
          "height": 112
        },
        "id": "BEL8iK9gZ1Ix",
        "outputId": "f1ccb1d1-dbd3-478c-956b-884a5e152bfb"
      },
      "outputs": [
        {
          "output_type": "execute_result",
          "data": {
            "text/plain": [
              "olin         5\n",
              "wellesley    7\n",
              "dtype: int64"
            ],
            "text/html": [
              "<div>\n",
              "<style scoped>\n",
              "    .dataframe tbody tr th:only-of-type {\n",
              "        vertical-align: middle;\n",
              "    }\n",
              "\n",
              "    .dataframe tbody tr th {\n",
              "        vertical-align: top;\n",
              "    }\n",
              "\n",
              "    .dataframe thead th {\n",
              "        text-align: right;\n",
              "    }\n",
              "</style>\n",
              "<table border=\"1\" class=\"dataframe\">\n",
              "  <thead>\n",
              "    <tr style=\"text-align: right;\">\n",
              "      <th></th>\n",
              "      <th>values</th>\n",
              "    </tr>\n",
              "  </thead>\n",
              "  <tbody>\n",
              "    <tr>\n",
              "      <th>olin</th>\n",
              "      <td>5</td>\n",
              "    </tr>\n",
              "    <tr>\n",
              "      <th>wellesley</th>\n",
              "      <td>7</td>\n",
              "    </tr>\n",
              "  </tbody>\n",
              "</table>\n",
              "</div>"
            ]
          },
          "metadata": {},
          "execution_count": 31
        }
      ],
      "source": [
        "for i in range(4):\n",
        "    step(0.3, 0.2)\n",
        "    \n",
        "bikeshare"
      ]
    },
    {
      "cell_type": "markdown",
      "metadata": {
        "id": "Cav0elKwZ1Ix"
      },
      "source": [
        "If each step corresponds to a minute, we can simulate an entire hour like this."
      ]
    },
    {
      "cell_type": "code",
      "execution_count": 32,
      "metadata": {
        "colab": {
          "base_uri": "https://localhost:8080/",
          "height": 320
        },
        "id": "q3RvA0d9Z1Iy",
        "outputId": "e057c9c7-7303-42ca-94cd-858fe2ad6c4b"
      },
      "outputs": [
        {
          "output_type": "stream",
          "name": "stdout",
          "text": [
            "Bike moved from Wellesley to Olin.\n",
            "Bike moved from Wellesley to Olin.\n",
            "Bike moved from Wellesley to Olin.\n",
            "Bike moved from Wellesley to Olin.\n",
            "Bike moved from Wellesley to Olin.\n",
            "Bike moved from Wellesley to Olin.\n",
            "Bike moved from Wellesley to Olin.\n",
            "Bike moved from Wellesley to Olin.\n",
            "Bike moved from Wellesley to Olin.\n",
            "Bike moved from Wellesley to Olin.\n",
            "Bike moved from Wellesley to Olin.\n",
            "Bike moved from Wellesley to Olin.\n"
          ]
        },
        {
          "output_type": "execute_result",
          "data": {
            "text/plain": [
              "olin         4\n",
              "wellesley    8\n",
              "dtype: int64"
            ],
            "text/html": [
              "<div>\n",
              "<style scoped>\n",
              "    .dataframe tbody tr th:only-of-type {\n",
              "        vertical-align: middle;\n",
              "    }\n",
              "\n",
              "    .dataframe tbody tr th {\n",
              "        vertical-align: top;\n",
              "    }\n",
              "\n",
              "    .dataframe thead th {\n",
              "        text-align: right;\n",
              "    }\n",
              "</style>\n",
              "<table border=\"1\" class=\"dataframe\">\n",
              "  <thead>\n",
              "    <tr style=\"text-align: right;\">\n",
              "      <th></th>\n",
              "      <th>values</th>\n",
              "    </tr>\n",
              "  </thead>\n",
              "  <tbody>\n",
              "    <tr>\n",
              "      <th>olin</th>\n",
              "      <td>4</td>\n",
              "    </tr>\n",
              "    <tr>\n",
              "      <th>wellesley</th>\n",
              "      <td>8</td>\n",
              "    </tr>\n",
              "  </tbody>\n",
              "</table>\n",
              "</div>"
            ]
          },
          "metadata": {},
          "execution_count": 32
        }
      ],
      "source": [
        "for i in range(60):\n",
        "    step(0.3, 0.2)\n",
        "\n",
        "bikeshare"
      ]
    },
    {
      "cell_type": "markdown",
      "metadata": {
        "id": "DZPSM-GPZ1Iy"
      },
      "source": [
        "After 60 minutes, you might see that the number of bike at Olin is negative.  We'll fix that problem in the next notebook.\n",
        "\n",
        "But first, we want to plot the results."
      ]
    },
    {
      "cell_type": "markdown",
      "metadata": {
        "id": "hI-rHgT-Z1Iz"
      },
      "source": [
        "## TimeSeries\n",
        "\n",
        "`modsim.py` provides an object called a `TimeSeries` that can contain a sequence of values changing over time.\n",
        "\n",
        "We can create a new, empty `TimeSeries` like this:"
      ]
    },
    {
      "cell_type": "code",
      "execution_count": 33,
      "metadata": {
        "colab": {
          "base_uri": "https://localhost:8080/",
          "height": 49
        },
        "id": "WuGbkBCIZ1Iz",
        "outputId": "c10c5199-599d-488d-f64f-e4242f407dae"
      },
      "outputs": [
        {
          "output_type": "execute_result",
          "data": {
            "text/plain": [
              "TimeSeries([], dtype: float64)"
            ],
            "text/html": [
              "<div>\n",
              "<style scoped>\n",
              "    .dataframe tbody tr th:only-of-type {\n",
              "        vertical-align: middle;\n",
              "    }\n",
              "\n",
              "    .dataframe tbody tr th {\n",
              "        vertical-align: top;\n",
              "    }\n",
              "\n",
              "    .dataframe thead th {\n",
              "        text-align: right;\n",
              "    }\n",
              "</style>\n",
              "<table border=\"1\" class=\"dataframe\">\n",
              "  <thead>\n",
              "    <tr style=\"text-align: right;\">\n",
              "      <th></th>\n",
              "      <th>values</th>\n",
              "    </tr>\n",
              "  </thead>\n",
              "  <tbody>\n",
              "  </tbody>\n",
              "</table>\n",
              "</div>"
            ]
          },
          "metadata": {},
          "execution_count": 33
        }
      ],
      "source": [
        "results = TimeSeries()"
      ]
    },
    {
      "cell_type": "markdown",
      "metadata": {
        "id": "5NTC8ICiZ1Iz"
      },
      "source": [
        "And we can add a value to the `TimeSeries` like this:"
      ]
    },
    {
      "cell_type": "code",
      "execution_count": 34,
      "metadata": {
        "colab": {
          "base_uri": "https://localhost:8080/",
          "height": 80
        },
        "id": "ze7aXfPOZ1I0",
        "outputId": "d0d03da4-7ea8-447e-a086-212c2c637df5"
      },
      "outputs": [
        {
          "output_type": "execute_result",
          "data": {
            "text/plain": [
              "0    4\n",
              "dtype: int64"
            ],
            "text/html": [
              "<div>\n",
              "<style scoped>\n",
              "    .dataframe tbody tr th:only-of-type {\n",
              "        vertical-align: middle;\n",
              "    }\n",
              "\n",
              "    .dataframe tbody tr th {\n",
              "        vertical-align: top;\n",
              "    }\n",
              "\n",
              "    .dataframe thead th {\n",
              "        text-align: right;\n",
              "    }\n",
              "</style>\n",
              "<table border=\"1\" class=\"dataframe\">\n",
              "  <thead>\n",
              "    <tr style=\"text-align: right;\">\n",
              "      <th></th>\n",
              "      <th>values</th>\n",
              "    </tr>\n",
              "  </thead>\n",
              "  <tbody>\n",
              "    <tr>\n",
              "      <th>0</th>\n",
              "      <td>4</td>\n",
              "    </tr>\n",
              "  </tbody>\n",
              "</table>\n",
              "</div>"
            ]
          },
          "metadata": {},
          "execution_count": 34
        }
      ],
      "source": [
        "results[0] = bikeshare.olin\n",
        "results"
      ]
    },
    {
      "cell_type": "markdown",
      "metadata": {
        "id": "_FjKUzrVZ1I1"
      },
      "source": [
        "The `0` in brackets is an `index` that indicates that this value is associated with time step 0.\n",
        "\n",
        "Now we'll use a for loop to save the results of the simulation.  I'll start one more time with a new `State` object."
      ]
    },
    {
      "cell_type": "code",
      "execution_count": 35,
      "metadata": {
        "colab": {
          "base_uri": "https://localhost:8080/",
          "height": 112
        },
        "id": "mCZfJqAkZ1I1",
        "outputId": "143547ae-7dbf-41a5-ff2c-dd22a8998751"
      },
      "outputs": [
        {
          "output_type": "execute_result",
          "data": {
            "text/plain": [
              "olin         10\n",
              "wellesley     2\n",
              "dtype: int64"
            ],
            "text/html": [
              "<div>\n",
              "<style scoped>\n",
              "    .dataframe tbody tr th:only-of-type {\n",
              "        vertical-align: middle;\n",
              "    }\n",
              "\n",
              "    .dataframe tbody tr th {\n",
              "        vertical-align: top;\n",
              "    }\n",
              "\n",
              "    .dataframe thead th {\n",
              "        text-align: right;\n",
              "    }\n",
              "</style>\n",
              "<table border=\"1\" class=\"dataframe\">\n",
              "  <thead>\n",
              "    <tr style=\"text-align: right;\">\n",
              "      <th></th>\n",
              "      <th>values</th>\n",
              "    </tr>\n",
              "  </thead>\n",
              "  <tbody>\n",
              "    <tr>\n",
              "      <th>olin</th>\n",
              "      <td>10</td>\n",
              "    </tr>\n",
              "    <tr>\n",
              "      <th>wellesley</th>\n",
              "      <td>2</td>\n",
              "    </tr>\n",
              "  </tbody>\n",
              "</table>\n",
              "</div>"
            ]
          },
          "metadata": {},
          "execution_count": 35
        }
      ],
      "source": [
        "bikeshare = State(olin=10, wellesley=2)"
      ]
    },
    {
      "cell_type": "markdown",
      "metadata": {
        "id": "Wx9a0B9sZ1I1"
      },
      "source": [
        "Here's a for loop that runs 10 steps and stores the results."
      ]
    },
    {
      "cell_type": "code",
      "execution_count": 36,
      "metadata": {
        "colab": {
          "base_uri": "https://localhost:8080/"
        },
        "id": "f-XIjdMgZ1I2",
        "outputId": "3e285497-0671-405e-b900-2dea4190de69"
      },
      "outputs": [
        {
          "output_type": "stream",
          "name": "stdout",
          "text": [
            "Bike moved from Wellesley to Olin.\n",
            "Bike moved from Wellesley to Olin.\n",
            "Bike moved from Wellesley to Olin.\n",
            "Bike moved from Wellesley to Olin.\n",
            "Bike moved from Wellesley to Olin.\n"
          ]
        }
      ],
      "source": [
        "for i in range(10):\n",
        "    step(0.3, 0.2)\n",
        "    results[i] = bikeshare.olin"
      ]
    },
    {
      "cell_type": "markdown",
      "metadata": {
        "id": "MucEG-TnZ1I2"
      },
      "source": [
        "Now we can display the results."
      ]
    },
    {
      "cell_type": "code",
      "execution_count": 37,
      "metadata": {
        "colab": {
          "base_uri": "https://localhost:8080/",
          "height": 363
        },
        "id": "N2x3QCk8Z1I2",
        "outputId": "7beee1d0-ce0b-4efa-bdff-cc8e43e204dd"
      },
      "outputs": [
        {
          "output_type": "execute_result",
          "data": {
            "text/plain": [
              "0    10\n",
              "1    10\n",
              "2     9\n",
              "3     9\n",
              "4    10\n",
              "5    10\n",
              "6    10\n",
              "7    11\n",
              "8    11\n",
              "9    11\n",
              "dtype: int64"
            ],
            "text/html": [
              "<div>\n",
              "<style scoped>\n",
              "    .dataframe tbody tr th:only-of-type {\n",
              "        vertical-align: middle;\n",
              "    }\n",
              "\n",
              "    .dataframe tbody tr th {\n",
              "        vertical-align: top;\n",
              "    }\n",
              "\n",
              "    .dataframe thead th {\n",
              "        text-align: right;\n",
              "    }\n",
              "</style>\n",
              "<table border=\"1\" class=\"dataframe\">\n",
              "  <thead>\n",
              "    <tr style=\"text-align: right;\">\n",
              "      <th></th>\n",
              "      <th>values</th>\n",
              "    </tr>\n",
              "  </thead>\n",
              "  <tbody>\n",
              "    <tr>\n",
              "      <th>0</th>\n",
              "      <td>10</td>\n",
              "    </tr>\n",
              "    <tr>\n",
              "      <th>1</th>\n",
              "      <td>10</td>\n",
              "    </tr>\n",
              "    <tr>\n",
              "      <th>2</th>\n",
              "      <td>9</td>\n",
              "    </tr>\n",
              "    <tr>\n",
              "      <th>3</th>\n",
              "      <td>9</td>\n",
              "    </tr>\n",
              "    <tr>\n",
              "      <th>4</th>\n",
              "      <td>10</td>\n",
              "    </tr>\n",
              "    <tr>\n",
              "      <th>5</th>\n",
              "      <td>10</td>\n",
              "    </tr>\n",
              "    <tr>\n",
              "      <th>6</th>\n",
              "      <td>10</td>\n",
              "    </tr>\n",
              "    <tr>\n",
              "      <th>7</th>\n",
              "      <td>11</td>\n",
              "    </tr>\n",
              "    <tr>\n",
              "      <th>8</th>\n",
              "      <td>11</td>\n",
              "    </tr>\n",
              "    <tr>\n",
              "      <th>9</th>\n",
              "      <td>11</td>\n",
              "    </tr>\n",
              "  </tbody>\n",
              "</table>\n",
              "</div>"
            ]
          },
          "metadata": {},
          "execution_count": 37
        }
      ],
      "source": [
        "results"
      ]
    },
    {
      "cell_type": "markdown",
      "metadata": {
        "id": "caxSEUAbZ1I3"
      },
      "source": [
        "A `TimeSeries` is a specialized version of a Pandas `Series`, so we can use any of the functions provided by `Series`, including several that compute summary statistics:"
      ]
    },
    {
      "cell_type": "code",
      "execution_count": 38,
      "metadata": {
        "colab": {
          "base_uri": "https://localhost:8080/"
        },
        "id": "LRyvyrCbZ1I3",
        "outputId": "6f4576a5-f0a5-4ba7-f0e6-05a48f2a00b8"
      },
      "outputs": [
        {
          "output_type": "execute_result",
          "data": {
            "text/plain": [
              "10.1"
            ]
          },
          "metadata": {},
          "execution_count": 38
        }
      ],
      "source": [
        "results.mean()"
      ]
    },
    {
      "cell_type": "code",
      "execution_count": 39,
      "metadata": {
        "colab": {
          "base_uri": "https://localhost:8080/"
        },
        "id": "0y39j4EXZ1I3",
        "outputId": "50855304-4e82-40c6-8622-f4ce9452906c"
      },
      "outputs": [
        {
          "output_type": "execute_result",
          "data": {
            "text/plain": [
              "count    10.000000\n",
              "mean     10.100000\n",
              "std       0.737865\n",
              "min       9.000000\n",
              "25%      10.000000\n",
              "50%      10.000000\n",
              "75%      10.750000\n",
              "max      11.000000\n",
              "dtype: float64"
            ]
          },
          "metadata": {},
          "execution_count": 39
        }
      ],
      "source": [
        "results.describe()"
      ]
    },
    {
      "cell_type": "markdown",
      "metadata": {
        "id": "feSlDCjyZ1I4"
      },
      "source": [
        "You can read the documentation of `Series` [here](https://pandas.pydata.org/pandas-docs/stable/generated/pandas.Series.html)."
      ]
    },
    {
      "cell_type": "markdown",
      "metadata": {
        "id": "Pe5V42SgZ1I4"
      },
      "source": [
        "## Plotting\n",
        "\n",
        "We can also plot the results like this."
      ]
    },
    {
      "cell_type": "code",
      "execution_count": 40,
      "metadata": {
        "colab": {
          "base_uri": "https://localhost:8080/",
          "height": 473
        },
        "id": "4p2g3nRDZ1I4",
        "outputId": "cbb0c2a9-9c13-4743-b0cb-0ef6344979d0"
      },
      "outputs": [
        {
          "output_type": "display_data",
          "data": {
            "text/plain": [
              "<Figure size 640x480 with 1 Axes>"
            ],
            "image/png": "[encoded data removed]"
          },
          "metadata": {}
        }
      ],
      "source": [
        "plot(results, label='Olin')\n",
        "\n",
        "decorate(title='Olin-Wellesley Bikeshare',\n",
        "         xlabel='Time step (min)', \n",
        "         ylabel='Number of bikes')\n",
        "\n",
        "#savefig('figs/chap02-fig01.pdf')"
      ]
    },
    {
      "cell_type": "markdown",
      "metadata": {
        "id": "ULC6hfNIZ1I5"
      },
      "source": [
        "`decorate`, which is defined in the `modsim` library, adds a title and labels the axes."
      ]
    },
    {
      "cell_type": "code",
      "execution_count": 41,
      "metadata": {
        "colab": {
          "base_uri": "https://localhost:8080/"
        },
        "id": "t4nJ3fQlZ1I5",
        "outputId": "6953b435-d561-49f9-de53-81cb39ce740c"
      },
      "outputs": [
        {
          "output_type": "stream",
          "name": "stdout",
          "text": [
            "Help on function decorate in module modsim.modsim:\n",
            "\n",
            "decorate(**options)\n",
            "    Decorate the current axes.\n",
            "    \n",
            "    Call decorate with keyword arguments like\n",
            "    \n",
            "    decorate(title='Title',\n",
            "             xlabel='x',\n",
            "             ylabel='y')\n",
            "    \n",
            "    The keyword arguments can be any of the axis properties\n",
            "    \n",
            "    https://matplotlib.org/api/axes_api.html\n",
            "    \n",
            "    In addition, you can use `legend=False` to suppress the legend.\n",
            "    \n",
            "    And you can use `loc` to indicate the location of the legend\n",
            "    (the default value is 'best')\n",
            "\n"
          ]
        }
      ],
      "source": [
        "help(decorate)"
      ]
    },
    {
      "cell_type": "markdown",
      "metadata": {
        "id": "npQlB_vWZ1I6"
      },
      "source": [
        "`savefig()` saves a figure in a file."
      ]
    },
    {
      "cell_type": "code",
      "execution_count": 42,
      "metadata": {
        "colab": {
          "base_uri": "https://localhost:8080/"
        },
        "id": "JjNG-cvWZ1I6",
        "outputId": "6f46348e-eb4f-4490-f1b1-4c6669a0d5ed"
      },
      "outputs": [
        {
          "output_type": "stream",
          "name": "stdout",
          "text": [
            "Help on function savefig in module modsim.modsim:\n",
            "\n",
            "savefig(filename, **options)\n",
            "    Save the current figure.\n",
            "    \n",
            "    Keyword arguments are passed along to plt.savefig\n",
            "    \n",
            "    https://matplotlib.org/api/_as_gen/matplotlib.pyplot.savefig.html\n",
            "    \n",
            "    filename: string\n",
            "\n"
          ]
        }
      ],
      "source": [
        "help(savefig)"
      ]
    },
    {
      "cell_type": "markdown",
      "metadata": {
        "id": "DsKJ9qImZ1I6"
      },
      "source": [
        "The suffix of the filename indicates the format you want.  This example saves the current figure in a PDF file."
      ]
    },
    {
      "cell_type": "markdown",
      "metadata": {
        "id": "AmqhQelvZ1I7"
      },
      "source": [
        "**Exercise:** Wrap the code from this section in a function named `run_simulation` that takes three parameters, named `p1`, `p2`, and `num_steps`.\n",
        "\n",
        "It should:\n",
        "\n",
        "1. Create a `TimeSeries` object to hold the results.\n",
        "2. Use a for loop to run `step` the number of times specified by `num_steps`, passing along the specified values of `p1` and `p2`.\n",
        "3. After each step, it should save the number of bikes at Olin in the `TimeSeries`.\n",
        "4. After the for loop, it should plot the results and\n",
        "5. Decorate the axes.\n",
        "\n",
        "To test your function:\n",
        "\n",
        "1. Create a `State` object with the initial state of the system.\n",
        "2. Call `run_simulation` with appropriate parameters.\n",
        "3. Save the resulting figure.\n",
        "\n",
        "Optional:\n",
        "\n",
        "1. Extend your solution so it creates two `TimeSeries` objects, keeps track of the number of bikes at Olin *and* at Wellesley, and plots both series at the end."
      ]
    },
    {
      "cell_type": "code",
      "execution_count": 43,
      "metadata": {
        "colab": {
          "base_uri": "https://localhost:8080/",
          "height": 577
        },
        "id": "ZZA3NS6aZ1I7",
        "outputId": "3ba9489e-9c59-4a90-9457-8c3af301b4f5"
      },
      "outputs": [
        {
          "output_type": "stream",
          "name": "stdout",
          "text": [
            "Bike moved from Wellesley to Olin.\n",
            "Bike moved from Wellesley to Olin.\n",
            "Bike moved from Wellesley to Olin.\n",
            "Bike moved from Wellesley to Olin.\n",
            "Bike moved from Wellesley to Olin.\n",
            "Bike moved from Wellesley to Olin.\n"
          ]
        },
        {
          "output_type": "display_data",
          "data": {
            "text/plain": [
              "<Figure size 640x480 with 1 Axes>"
            ],
            "image/png": "[encoded data removed]"
          },
          "metadata": {}
        }
      ],
      "source": [
        "def run_simulation(p1, p2, num_steps):\n",
        "    olin = TimeSeries()\n",
        "    wellesley = TimeSeries()\n",
        "    \n",
        "    for i in range(num_steps):\n",
        "        step(p1, p2)\n",
        "        olin[i] = bikeshare.olin\n",
        "        wellesley[i] = bikeshare.wellesley    \n",
        "\n",
        "    plot(olin, label='Olin')\n",
        "    plot(wellesley, label='Wellesley')\n",
        "    decorate(title='Bike Distribution over Time',\n",
        "          xlabel='Number of Steps', \n",
        "             ylabel='Number of Bikes')\n",
        "    \n",
        "# Example usage\n",
        "bikeshare = State(olin=10, wellesley=2, babson=0)\n",
        "run_simulation(0.3, 0.2, 40)"
      ]
    },
    {
      "cell_type": "markdown",
      "metadata": {
        "id": "37i3wmF9Z1I8"
      },
      "source": [
        "## Opening the hood\n",
        "\n",
        "The functions in `modsim.py` are built on top of several widely-used Python libraries, especially NumPy, SciPy, and Pandas.  These libraries are powerful but can be hard to use.  The intent of `modsim.py` is to give you the power of these libraries while making it easy to get started.\n",
        "\n",
        "In the future, you might want to use these libraries directly, rather than using `modsim.py`.  So we will pause occasionally to open the hood and let you see how `modsim.py` works.\n",
        "\n",
        "You don't need to know anything in these sections, so if you are already feeling overwhelmed, you might want to skip them.  But if you are curious, read on."
      ]
    },
    {
      "cell_type": "markdown",
      "metadata": {
        "id": "TnbAJcSuZ1I8"
      },
      "source": [
        "### Pandas\n",
        "\n",
        "This chapter introduces two objects, `State` and `TimeSeries`.  Both are based on the `Series` object defined by Pandas, which is a library primarily used for data science.\n",
        "\n",
        "You can read the documentation of the `Series` object [here](https://pandas.pydata.org/pandas-docs/stable/generated/pandas.Series.html)\n",
        "\n",
        "The primary differences between `TimeSeries` and `Series` are:\n",
        "\n",
        "1. I made it easier to create a new, empty `Series` while avoiding a [confusing inconsistency](https://pandas.pydata.org/pandas-docs/stable/generated/pandas.Series.html).\n",
        "\n",
        "2. I provide a function so the `Series` looks good when displayed in Jupyter.\n",
        "\n",
        "3. I provide a function called `set` that we'll use later.\n",
        "\n",
        "`State` has all of those capabilities; in addition, it provides an easier way to initialize state variables, and it provides functions called `T` and `dt`, which will help us avoid a confusing error later."
      ]
    },
    {
      "cell_type": "markdown",
      "metadata": {
        "id": "LsZgDGhCZ1I9"
      },
      "source": [
        "### Pyplot\n",
        "\n",
        "The `plot` function in `modsim.py` is based on the `plot` function in Pyplot, which is part of Matplotlib.  You can read the documentation of `plot` [here](https://matplotlib.org/api/_as_gen/matplotlib.pyplot.plot.html).\n",
        "\n",
        "`decorate` provides a convenient way to call the `pyplot` functions `title`, `xlabel`, and `ylabel`, and `legend`.  It also avoids an annoying warning message if you try to make a legend when you don't have any labelled lines."
      ]
    },
    {
      "cell_type": "code",
      "execution_count": 44,
      "metadata": {
        "colab": {
          "base_uri": "https://localhost:8080/"
        },
        "id": "6GQqWssdZ1I9",
        "outputId": "2d295fa0-1173-4718-d2f4-e4d1ba87efd7"
      },
      "outputs": [
        {
          "output_type": "stream",
          "name": "stdout",
          "text": [
            "Help on function decorate in module modsim.modsim:\n",
            "\n",
            "decorate(**options)\n",
            "    Decorate the current axes.\n",
            "    \n",
            "    Call decorate with keyword arguments like\n",
            "    \n",
            "    decorate(title='Title',\n",
            "             xlabel='x',\n",
            "             ylabel='y')\n",
            "    \n",
            "    The keyword arguments can be any of the axis properties\n",
            "    \n",
            "    https://matplotlib.org/api/axes_api.html\n",
            "    \n",
            "    In addition, you can use `legend=False` to suppress the legend.\n",
            "    \n",
            "    And you can use `loc` to indicate the location of the legend\n",
            "    (the default value is 'best')\n",
            "\n"
          ]
        }
      ],
      "source": [
        "help(decorate)"
      ]
    },
    {
      "cell_type": "markdown",
      "metadata": {
        "id": "IN8Y159HZ1I9"
      },
      "source": [
        "### NumPy\n",
        "\n",
        "The `flip` function in `modsim.py` uses NumPy's `random` function to generate a random number between 0 and 1.\n",
        "\n",
        "You can get the source code for `flip` by running the following cell."
      ]
    },
    {
      "cell_type": "code",
      "execution_count": 45,
      "metadata": {
        "colab": {
          "base_uri": "https://localhost:8080/"
        },
        "id": "7aKMOIyMZ1I9",
        "outputId": "186c2d79-b148-4d58-b163-61c37fbfa0f8"
      },
      "outputs": [
        {
          "output_type": "stream",
          "name": "stdout",
          "text": [
            "def flip(p=0.5):\n",
            "    \"\"\"Flips a coin with the given probability.\n",
            "\n",
            "    p: float 0-1\n",
            "\n",
            "    returns: boolean (True or False)\n",
            "    \"\"\"\n",
            "    return np.random.random() < p\n",
            "\n"
          ]
        }
      ],
      "source": [
        "source_code(flip)"
      ]
    },
    {
      "cell_type": "code",
      "execution_count": 45,
      "metadata": {
        "id": "KFEK3WInZ1I-"
      },
      "outputs": [],
      "source": []
    }
  ],
  "metadata": {
    "kernelspec": {
      "display_name": "Python 3",
      "language": "python",
      "name": "python3"
    },
    "language_info": {
      "codemirror_mode": {
        "name": "ipython",
        "version": 3
      },
      "file_extension": ".py",
      "mimetype": "text/x-python",
      "name": "python",
      "nbconvert_exporter": "python",
      "pygments_lexer": "ipython3",
      "version": "3.7.3"
    },
    "colab": {
      "provenance": []
    }
  },
  "nbformat": 4,
  "nbformat_minor": 0
}