{
  "cells": [
    {
      "cell_type": "markdown",
      "metadata": {
        "id": "nEA_QE0ELoON"
      },
      "source": [
        "# Modeling and Simulation in Python\n",
        "\n",
        "Chapter 1\n",
        "\n",
        "Copyright 2020 Allen Downey\n",
        "\n",
        "License: [Creative Commons Attribution 4.0 International](https://creativecommons.org/licenses/by/4.0)"
      ]
    },
    {
      "cell_type": "markdown",
      "metadata": {
        "id": "w7BcVpAJLoOQ"
      },
      "source": [
        "## Jupyter\n",
        "\n",
        "Welcome to *Modeling and Simulation*, welcome to Python, and welcome to Jupyter.\n",
        "\n",
        "This is a Jupyter notebook, which is a development environment where you can write and run Python code.  Each notebook is divided into cells.  Each cell contains either text (like this cell) or Python code.\n",
        "\n",
        "### Selecting and running cells\n",
        "\n",
        "To select a cell, click in the left margin next to the cell.  You should see a blue frame surrounding the selected cell.\n",
        "\n",
        "To edit a code cell, click inside the cell.  You should see a green frame around the selected cell, and you should see a cursor inside the cell.\n",
        "\n",
        "To edit a text cell, double-click inside the cell.  Again, you should see a green frame around the selected cell, and you should see a cursor inside the cell.\n",
        "\n",
        "To run a cell, hold down SHIFT and press ENTER.  \n",
        "\n",
        "* If you run a text cell, Jupyter formats the text and displays the result.\n",
        "\n",
        "* If you run a code cell, Jupyter runs the Python code in the cell and displays the result, if any.\n",
        "\n",
        "To try it out, edit this cell, change some of the text, and then press SHIFT-ENTER to format it."
      ]
    },
    {
      "cell_type": "markdown",
      "metadata": {
        "id": "65WhVjpJLoOQ"
      },
      "source": [
        "### Adding and removing cells\n",
        "\n",
        "You can add and remove cells from a notebook using the buttons in the toolbar and the items in the menu, both of which you should see at the top of this notebook.\n",
        "\n",
        "Try the following exercises:\n",
        "\n",
        "1.  From the Insert menu select \"Insert cell below\" to add a cell below this one.  By default, you get a code cell, as you can see in the pulldown menu that says \"Code\".\n",
        "\n",
        "2.  In the new cell, add a print statement like `print('Hello')`, and run it.\n",
        "\n",
        "3.  Add another cell, select the new cell, and then click on the pulldown menu that says \"Code\" and select \"Markdown\".  This makes the new cell a text cell.\n",
        "\n",
        "4.  In the new cell, type some text, and then run it.\n",
        "\n",
        "5.  Use the arrow buttons in the toolbar to move cells up and down.\n",
        "\n",
        "6.  Use the cut, copy, and paste buttons to delete, add, and move cells.\n",
        "\n",
        "7.  As you make changes, Jupyter saves your notebook automatically, but if you want to make sure, you can press the save button, which looks like a floppy disk from the 1990s.\n",
        "\n",
        "8.  Finally, when you are done with a notebook, select \"Close and Halt\" from the File menu."
      ]
    },
    {
      "cell_type": "markdown",
      "metadata": {
        "id": "jkeeA1cnLoOR"
      },
      "source": [
        "### Using the notebooks\n",
        "\n",
        "The notebooks for each chapter contain the code from the chapter along with additional examples, explanatory text, and exercises.  I recommend you \n",
        "\n",
        "1. Read the chapter first to understand the concepts and vocabulary, \n",
        "2. Run the notebook to review what you learned and see it in action, and then\n",
        "3. Attempt the exercises.\n",
        "\n",
        "If you try to work through the notebooks without reading the book, you're gonna have a bad time.  The notebooks contain some explanatory text, but it is probably not enough to make sense if you have not read the book.  If you are working through a notebook and you get stuck, you might want to re-read (or read!) the corresponding section of the book."
      ]
    },
    {
      "cell_type": "markdown",
      "metadata": {
        "id": "xR6Q-UyELoOS"
      },
      "source": [
        "### Installing modules\n",
        "\n",
        "These notebooks use standard Python modules like NumPy and SciPy.  I assume you already have them installed in your environment.\n",
        "\n",
        "They also use two less common modules: Pint, which provides units, and modsim, which contains code I wrote specifically for this book.\n",
        "\n",
        "The following cells check whether you have these modules already and tries to install them if you don't."
      ]
    },
    {
      "cell_type": "code",
      "execution_count": 1,
      "metadata": {
        "colab": {
          "base_uri": "https://localhost:8080/"
        },
        "id": "4h43njcjLoOU",
        "outputId": "540fa99e-2959-4a91-aa76-2495d8aaadfc"
      },
      "outputs": [
        {
          "output_type": "stream",
          "name": "stdout",
          "text": [
            "Looking in indexes: https://pypi.org/simple, https://us-python.pkg.dev/colab-wheels/public/simple/\n",
            "Collecting pint\n",
            "  Downloading Pint-0.22-py3-none-any.whl (294 kB)\n",
            "\u001b[2K     \u001b[90m━━━━━━━━━━━━━━━━━━━━━━━━━━━━━━━━━━━━━━━\u001b[0m \u001b[32m294.0/294.0 kB\u001b[0m \u001b[31m6.0 MB/s\u001b[0m eta \u001b[36m0:00:00\u001b[0m\n",
            "\u001b[?25hRequirement already satisfied: typing-extensions in /usr/local/lib/python3.10/dist-packages (from pint) (4.5.0)\n",
            "Installing collected packages: pint\n",
            "Successfully installed pint-0.22\n"
          ]
        }
      ],
      "source": [
        "try:\n",
        "    import pint\n",
        "except ImportError:\n",
        "    !pip install pint\n",
        "    import pint"
      ]
    },
    {
      "cell_type": "code",
      "execution_count": 2,
      "metadata": {
        "colab": {
          "base_uri": "https://localhost:8080/"
        },
        "id": "V_7bR-d6LoOV",
        "outputId": "e28ed893-77c8-4685-886d-35a904c96fe3"
      },
      "outputs": [
        {
          "output_type": "stream",
          "name": "stdout",
          "text": [
            "Looking in indexes: https://pypi.org/simple, https://us-python.pkg.dev/colab-wheels/public/simple/\n",
            "Collecting modsimpy\n",
            "  Downloading modsimpy-1.1.3.tar.gz (19 kB)\n",
            "  Preparing metadata (setup.py) ... \u001b[?25l\u001b[?25hdone\n",
            "Building wheels for collected packages: modsimpy\n",
            "  Building wheel for modsimpy (setup.py) ... \u001b[?25l\u001b[?25hdone\n",
            "  Created wheel for modsimpy: filename=modsimpy-1.1.3-py3-none-any.whl size=20335 sha256=155c1ae5905527ee24f60413ebcbd206d80cee15614eeac77fc5085ff914eb09\n",
            "  Stored in directory: /root/.cache/pip/wheels/3a/21/22/b652cf3a4fc674c3377fdeb77da04bba02954a4ea5abe331be\n",
            "Successfully built modsimpy\n",
            "Installing collected packages: modsimpy\n",
            "Successfully installed modsimpy-1.1.3\n"
          ]
        }
      ],
      "source": [
        "try:\n",
        "    from modsim import *\n",
        "except ImportError:\n",
        "    !pip install modsimpy\n",
        "    from modsim import *"
      ]
    },
    {
      "cell_type": "markdown",
      "metadata": {
        "id": "7SLmIEAgLoOW"
      },
      "source": [
        "The first time you run this on a new installation of Python, it might produce a warning message in pink.  That's probably ok, but if you get a message that says `modsim.py depends on Python 3.7 features`, that means you have an older version of Python, and some features in `modsim.py` won't work correctly.\n",
        "\n",
        "If you need a newer version of Python, I recommend installing Anaconda.  You'll find more information in the preface of the book.\n",
        "\n",
        "You can find out what version of Python and Jupyter you have by running the following cells."
      ]
    },
    {
      "cell_type": "code",
      "execution_count": 3,
      "metadata": {
        "colab": {
          "base_uri": "https://localhost:8080/"
        },
        "id": "mfJ8KG3CLoOX",
        "outputId": "f265d1e5-cdb4-4816-c8b2-4e5db46880c5"
      },
      "outputs": [
        {
          "output_type": "stream",
          "name": "stdout",
          "text": [
            "Python 3.10.11\n"
          ]
        }
      ],
      "source": [
        "!python --version"
      ]
    },
    {
      "cell_type": "code",
      "execution_count": 4,
      "metadata": {
        "colab": {
          "base_uri": "https://localhost:8080/"
        },
        "id": "kMcNp6vcLoOY",
        "outputId": "5b187892-d4b5-47e4-ae52-88b87ae9d17e"
      },
      "outputs": [
        {
          "output_type": "stream",
          "name": "stdout",
          "text": [
            "6.4.8\n"
          ]
        }
      ],
      "source": [
        "!jupyter-notebook --version"
      ]
    },
    {
      "cell_type": "markdown",
      "metadata": {
        "id": "14lyQ5rQLoOY"
      },
      "source": [
        "### Configuring Jupyter\n",
        "\n",
        "The following cell:\n",
        "\n",
        "1.  Uses a Jupyter \"magic command\" to specify whether figures should appear in the notebook, or pop up in a new window.\n",
        "\n",
        "2.  Configures Jupyter to display some values that would otherwise be invisible.  \n",
        "\n",
        "Select the following cell and press SHIFT-ENTER to run it."
      ]
    },
    {
      "cell_type": "code",
      "execution_count": 5,
      "metadata": {
        "id": "KJ98aMKiLoOZ"
      },
      "outputs": [],
      "source": [
        "# Configure Jupyter so figures appear in the notebook\n",
        "%matplotlib inline\n",
        "\n",
        "# Configure Jupyter to display the assigned value after an assignment\n",
        "%config InteractiveShell.ast_node_interactivity='last_expr_or_assign'"
      ]
    },
    {
      "cell_type": "markdown",
      "metadata": {
        "id": "VsV0818rLoOZ"
      },
      "source": [
        "## The penny myth\n",
        "\n",
        "The following cells contain code from the beginning of Chapter 1.\n",
        "\n",
        "`modsim` defines `UNITS`, which contains variables representing pretty much every unit you've ever heard of.  It uses [Pint](https://pint.readthedocs.io/en/latest/), which is a Python library that provides tools for computing with units.\n",
        "\n",
        "The following lines create new variables named `meter` and `second`."
      ]
    },
    {
      "cell_type": "code",
      "execution_count": 6,
      "metadata": {
        "colab": {
          "base_uri": "https://localhost:8080/",
          "height": 34
        },
        "id": "a1tKY3isLoOa",
        "outputId": "27469040-b87e-42b5-ed0e-852e7eba4521"
      },
      "outputs": [
        {
          "output_type": "execute_result",
          "data": {
            "text/plain": [
              "<Unit('meter')>"
            ],
            "text/html": [
              "meter"
            ],
            "text/latex": "$\\mathrm{meter}$"
          },
          "metadata": {},
          "execution_count": 6
        }
      ],
      "source": [
        "meter = UNITS.meter"
      ]
    },
    {
      "cell_type": "code",
      "execution_count": 7,
      "metadata": {
        "colab": {
          "base_uri": "https://localhost:8080/",
          "height": 34
        },
        "id": "2Ono8UWWLoOa",
        "outputId": "2090199e-2640-43df-a9da-b94e29fc4328"
      },
      "outputs": [
        {
          "output_type": "execute_result",
          "data": {
            "text/plain": [
              "<Unit('second')>"
            ],
            "text/html": [
              "second"
            ],
            "text/latex": "$\\mathrm{second}$"
          },
          "metadata": {},
          "execution_count": 7
        }
      ],
      "source": [
        "second = UNITS.second"
      ]
    },
    {
      "cell_type": "markdown",
      "metadata": {
        "id": "86zaDyRTLoOb"
      },
      "source": [
        "To find out what other units are defined, type `UNITS.` (including the period) in the next cell and then press TAB.  You should see a pop-up menu with a list of units."
      ]
    },
    {
      "cell_type": "code",
      "execution_count": 7,
      "metadata": {
        "id": "yxZ_-_JELoOb"
      },
      "outputs": [],
      "source": []
    },
    {
      "cell_type": "markdown",
      "metadata": {
        "id": "oXW0Ptn9LoOb"
      },
      "source": [
        "Create a variable named `a` and give it the value of acceleration due to gravity."
      ]
    },
    {
      "cell_type": "code",
      "execution_count": 8,
      "metadata": {
        "colab": {
          "base_uri": "https://localhost:8080/",
          "height": 37
        },
        "id": "Tv-hqtHELoOc",
        "outputId": "9af088be-3d47-4dbf-8916-31b64ce08f19"
      },
      "outputs": [
        {
          "output_type": "execute_result",
          "data": {
            "text/plain": [
              "9.8 <Unit('meter / second ** 2')>"
            ],
            "text/html": [
              "9.8 meter/second<sup>2</sup>"
            ],
            "text/latex": "$9.8\\ \\frac{\\mathrm{meter}}{\\mathrm{second}^{2}}$"
          },
          "metadata": {},
          "execution_count": 8
        }
      ],
      "source": [
        "a = 9.8 * meter / second**2"
      ]
    },
    {
      "cell_type": "markdown",
      "metadata": {
        "id": "4a8oXjfyLoOc"
      },
      "source": [
        "Create `t` and give it the value 4 seconds."
      ]
    },
    {
      "cell_type": "code",
      "execution_count": 9,
      "metadata": {
        "colab": {
          "base_uri": "https://localhost:8080/",
          "height": 34
        },
        "id": "C9T6ZWsuLoOc",
        "outputId": "9a3e95de-2f22-40eb-9b61-4f8799b70304"
      },
      "outputs": [
        {
          "output_type": "execute_result",
          "data": {
            "text/plain": [
              "4 <Unit('second')>"
            ],
            "text/html": [
              "4 second"
            ],
            "text/latex": "$4\\ \\mathrm{second}$"
          },
          "metadata": {},
          "execution_count": 9
        }
      ],
      "source": [
        "t = 4 * second"
      ]
    },
    {
      "cell_type": "markdown",
      "metadata": {
        "id": "m-lodOj3LoOd"
      },
      "source": [
        "Compute the distance a penny would fall after `t` seconds with constant acceleration `a`.  Notice that the units of the result are correct."
      ]
    },
    {
      "cell_type": "code",
      "execution_count": 10,
      "metadata": {
        "colab": {
          "base_uri": "https://localhost:8080/",
          "height": 34
        },
        "id": "1o8eO4BILoOd",
        "outputId": "37b3b322-b6b7-4be4-b787-9fed3d1ceaa6"
      },
      "outputs": [
        {
          "output_type": "execute_result",
          "data": {
            "text/plain": [
              "78.4 <Unit('meter')>"
            ],
            "text/html": [
              "78.4 meter"
            ],
            "text/latex": "$78.4\\ \\mathrm{meter}$"
          },
          "metadata": {},
          "execution_count": 10
        }
      ],
      "source": [
        "a * t**2 / 2"
      ]
    },
    {
      "cell_type": "markdown",
      "metadata": {
        "id": "TCYie2TkLoOe"
      },
      "source": [
        "**Exercise**: Compute the velocity of the penny after `t` seconds.  Check that the units of the result are correct."
      ]
    },
    {
      "cell_type": "code",
      "execution_count": 11,
      "metadata": {
        "colab": {
          "base_uri": "https://localhost:8080/",
          "height": 34
        },
        "id": "6r-bst2dLoOe",
        "outputId": "dfd3f17b-4700-4270-986d-aadafa6d9645"
      },
      "outputs": [
        {
          "output_type": "execute_result",
          "data": {
            "text/plain": [
              "39.2 <Unit('meter / second')>"
            ],
            "text/html": [
              "39.2 meter/second"
            ],
            "text/latex": "$39.2\\ \\frac{\\mathrm{meter}}{\\mathrm{second}}$"
          },
          "metadata": {},
          "execution_count": 11
        }
      ],
      "source": [
        "# Calculate the velocity using the formula: v = a * t\n",
        "v = a * t"
      ]
    },
    {
      "cell_type": "markdown",
      "metadata": {
        "id": "-yvPhzoGLoOe"
      },
      "source": [
        "**Exercise**: Why would it be nonsensical to add `a` and `t`? What happens if you try?"
      ]
    },
    {
      "cell_type": "code",
      "execution_count": 12,
      "metadata": {
        "id": "VnN7q2j3LoOf"
      },
      "outputs": [],
      "source": [
        "# Since acceleration and time have different units, it would be non sensical to add them.\n",
        "\n",
        "# result = a + t  # Attempting to add incompatible units\n",
        "# print(result)\n",
        "\n",
        "# if we run above code then we get below error\n",
        "# DimensionalityError: Cannot convert from 'meter / second ** 2' ([length] / [time] ** 2) to 'second' ([time])"
      ]
    },
    {
      "cell_type": "markdown",
      "metadata": {
        "id": "sihrJnh8LoOf"
      },
      "source": [
        "The error messages you get from Python are big and scary, but if you read them carefully, they contain a lot of useful information.\n",
        "\n",
        "1.  Start from the bottom and read up.\n",
        "2.  The last line usually tells you what type of error happened, and sometimes additional information.\n",
        "3.  The previous lines are a \"traceback\" of what was happening when the error occurred.  The first section of the traceback shows the code you wrote.  The following sections are often from Python libraries.\n",
        "\n",
        "In this example, you should get a `DimensionalityError`, which is defined by Pint to indicate that you have violated a rules of dimensional analysis: you cannot add quantities with different dimensions.\n",
        "\n",
        "Before you go on, you might want to delete the erroneous code so the notebook can run without errors."
      ]
    },
    {
      "cell_type": "markdown",
      "metadata": {
        "id": "hiogdSYGLoOg"
      },
      "source": [
        "## Falling pennies\n",
        "\n",
        "Now let's solve the falling penny problem.\n",
        "\n",
        "Set `h` to the height of the Empire State Building:"
      ]
    },
    {
      "cell_type": "code",
      "execution_count": 13,
      "metadata": {
        "colab": {
          "base_uri": "https://localhost:8080/",
          "height": 34
        },
        "id": "oKOYd21vLoOg",
        "outputId": "5f47ee2e-5bb3-44c9-f5b6-1b7f734f8c30"
      },
      "outputs": [
        {
          "output_type": "execute_result",
          "data": {
            "text/plain": [
              "381 <Unit('meter')>"
            ],
            "text/html": [
              "381 meter"
            ],
            "text/latex": "$381\\ \\mathrm{meter}$"
          },
          "metadata": {},
          "execution_count": 13
        }
      ],
      "source": [
        "h = 381 * meter"
      ]
    },
    {
      "cell_type": "markdown",
      "metadata": {
        "id": "wjzSeL9dLoOg"
      },
      "source": [
        "Compute the time it would take a penny to fall, assuming constant acceleration.\n",
        "\n",
        "$ a t^2 / 2 = h $\n",
        "\n",
        "$ t = \\sqrt{2 h / a}$"
      ]
    },
    {
      "cell_type": "code",
      "execution_count": 14,
      "metadata": {
        "colab": {
          "base_uri": "https://localhost:8080/",
          "height": 34
        },
        "id": "Eagd1RWZLoOg",
        "outputId": "3aea82d7-b746-43c8-afe0-330112f87021"
      },
      "outputs": [
        {
          "output_type": "execute_result",
          "data": {
            "text/plain": [
              "8.817885349720552 <Unit('second')>"
            ],
            "text/html": [
              "8.817885349720552 second"
            ],
            "text/latex": "$8.817885349720552\\ \\mathrm{second}$"
          },
          "metadata": {},
          "execution_count": 14
        }
      ],
      "source": [
        "t = sqrt(2 * h / a)"
      ]
    },
    {
      "cell_type": "markdown",
      "metadata": {
        "id": "dvKPN6DbLoOh"
      },
      "source": [
        "Given `t`, we can compute the velocity of the penny when it lands.\n",
        "\n",
        "$v = a t$"
      ]
    },
    {
      "cell_type": "code",
      "execution_count": 15,
      "metadata": {
        "colab": {
          "base_uri": "https://localhost:8080/",
          "height": 34
        },
        "id": "KcE2x-52LoOh",
        "outputId": "9afc92d9-f680-4436-b607-55a339bf8ee4"
      },
      "outputs": [
        {
          "output_type": "execute_result",
          "data": {
            "text/plain": [
              "86.41527642726142 <Unit('meter / second')>"
            ],
            "text/html": [
              "86.41527642726142 meter/second"
            ],
            "text/latex": "$86.41527642726142\\ \\frac{\\mathrm{meter}}{\\mathrm{second}}$"
          },
          "metadata": {},
          "execution_count": 15
        }
      ],
      "source": [
        "v = a * t"
      ]
    },
    {
      "cell_type": "markdown",
      "metadata": {
        "id": "tvZF1I2ZLoOh"
      },
      "source": [
        "We can convert from one set of units to another like this:"
      ]
    },
    {
      "cell_type": "code",
      "execution_count": 16,
      "metadata": {
        "colab": {
          "base_uri": "https://localhost:8080/",
          "height": 34
        },
        "id": "A5D29-Q4LoOh",
        "outputId": "5227da9f-e5b5-4d71-96fc-59a5dc624f24"
      },
      "outputs": [
        {
          "output_type": "execute_result",
          "data": {
            "text/plain": [
              "<Unit('hour')>"
            ],
            "text/html": [
              "hour"
            ],
            "text/latex": "$\\mathrm{hour}$"
          },
          "metadata": {},
          "execution_count": 16
        }
      ],
      "source": [
        "mile = UNITS.mile\n",
        "hour = UNITS.hour"
      ]
    },
    {
      "cell_type": "code",
      "execution_count": 17,
      "metadata": {
        "colab": {
          "base_uri": "https://localhost:8080/",
          "height": 34
        },
        "id": "MwObU6GOLoOi",
        "outputId": "f390cfa0-479e-4798-db20-238716cdf892"
      },
      "outputs": [
        {
          "output_type": "execute_result",
          "data": {
            "text/plain": [
              "193.30546802805432 <Unit('mile / hour')>"
            ],
            "text/html": [
              "193.30546802805432 mile/hour"
            ],
            "text/latex": "$193.30546802805432\\ \\frac{\\mathrm{mile}}{\\mathrm{hour}}$"
          },
          "metadata": {},
          "execution_count": 17
        }
      ],
      "source": [
        "v.to(mile/hour)"
      ]
    },
    {
      "cell_type": "markdown",
      "metadata": {
        "id": "dvi5n8yDLoOi"
      },
      "source": [
        "**Exercise:** Suppose you bring a 10 foot pole to the top of the Empire State Building and use it to drop the penny from `h` plus 10 feet.\n",
        "\n",
        "Define a variable named `foot` that contains the unit `foot` provided by `UNITS`.  Define a variable named `pole_height` and give it the value 10 feet.\n",
        "\n",
        "What happens if you add `h`, which is in units of meters, to `pole_height`, which is in units of feet?  What happens if you write the addition the other way around?"
      ]
    },
    {
      "cell_type": "code",
      "execution_count": 18,
      "metadata": {
        "colab": {
          "base_uri": "https://localhost:8080/"
        },
        "id": "1Clo0Vb6LoOi",
        "outputId": "ad41a7ea-7567-4c2e-b4c4-0c6177c3fdc8"
      },
      "outputs": [
        {
          "output_type": "stream",
          "name": "stdout",
          "text": [
            "384.048 meter\n"
          ]
        }
      ],
      "source": [
        "# What happens if you add h, which is in units of meters, to pole_height, which is in units of feet? \n",
        "\n",
        "# Define a variable named foot that contains the unit foot provided by UNITS. \n",
        "foot = UNITS.foot\n",
        "\n",
        "# Define a variable named pole_height and give it the value 10 feet.\n",
        "pole_height = 10 * foot\n",
        "\n",
        "result = h + pole_height  \n",
        "\n",
        "print(result)\n",
        "# it provides the result in meters"
      ]
    },
    {
      "cell_type": "code",
      "source": [
        "# What happens if you write the addition the other way around?\n",
        "result = pole_height + h  \n",
        "\n",
        "print(result)\n",
        "# it provides the result in foot"
      ],
      "metadata": {
        "colab": {
          "base_uri": "https://localhost:8080/"
        },
        "id": "6QHD0jMzQfW3",
        "outputId": "3bd7d8ce-8a77-4214-9733-5188175b9cbe"
      },
      "execution_count": 19,
      "outputs": [
        {
          "output_type": "stream",
          "name": "stdout",
          "text": [
            "1260.0 foot\n"
          ]
        }
      ]
    },
    {
      "cell_type": "markdown",
      "metadata": {
        "id": "4REoOWmVLoO8"
      },
      "source": [
        "**Exercise:** In reality, air resistance limits the velocity of the penny.  At about 18 m/s, the force of air resistance equals the force of gravity and the penny stops accelerating.\n",
        "\n",
        "As a simplification, let's assume that the acceleration of the penny is `a` until the penny reaches 18 m/s, and then 0 afterwards.  What is the total time for the penny to fall 381 m?\n",
        "\n",
        "You can break this question into three parts:\n",
        "\n",
        "1. How long until the penny reaches 18 m/s with constant acceleration `a`.\n",
        "2. How far would the penny fall during that time?\n",
        "3. How long to fall the remaining distance with constant velocity 18 m/s?\n",
        "\n",
        "Suggestion: Assign each intermediate result to a variable with a meaningful name.  And assign units to all quantities!"
      ]
    },
    {
      "cell_type": "code",
      "execution_count": 20,
      "metadata": {
        "colab": {
          "base_uri": "https://localhost:8080/",
          "height": 34
        },
        "id": "IHPLbsn9LoO8",
        "outputId": "f6faeecd-e7f8-4f11-d2e6-ec48af115d65"
      },
      "outputs": [
        {
          "output_type": "execute_result",
          "data": {
            "text/plain": [
              "1.8367346938775508 <Unit('second')>"
            ],
            "text/html": [
              "1.8367346938775508 second"
            ],
            "text/latex": "$1.8367346938775508\\ \\mathrm{second}$"
          },
          "metadata": {},
          "execution_count": 20
        }
      ],
      "source": [
        "# Part 1: Time to reach the velocity limit\n",
        "v_limit = 18 * meter / second  # Velocity limit\n",
        "t_limit = v_limit / a  # Time to reach the velocity limit"
      ]
    },
    {
      "cell_type": "code",
      "execution_count": 21,
      "metadata": {
        "colab": {
          "base_uri": "https://localhost:8080/",
          "height": 34
        },
        "id": "vaaRCOhaLoO9",
        "outputId": "6c0c1068-580b-4eae-e358-ad42abc489b4"
      },
      "outputs": [
        {
          "output_type": "execute_result",
          "data": {
            "text/plain": [
              "16.530612244897956 <Unit('meter')>"
            ],
            "text/html": [
              "16.530612244897956 meter"
            ],
            "text/latex": "$16.530612244897956\\ \\mathrm{meter}$"
          },
          "metadata": {},
          "execution_count": 21
        }
      ],
      "source": [
        "# Part 2: Distance covered until reaching the velocity limit\n",
        "d_limit = 0.5 * a * t_limit**2  "
      ]
    },
    {
      "cell_type": "code",
      "execution_count": 22,
      "metadata": {
        "colab": {
          "base_uri": "https://localhost:8080/",
          "height": 34
        },
        "id": "G01qfjDVLoO9",
        "outputId": "6986bc7b-4451-4ce4-e8ca-3e80a49052f6"
      },
      "outputs": [
        {
          "output_type": "execute_result",
          "data": {
            "text/plain": [
              "20.24829931972789 <Unit('second')>"
            ],
            "text/html": [
              "20.24829931972789 second"
            ],
            "text/latex": "$20.24829931972789\\ \\mathrm{second}$"
          },
          "metadata": {},
          "execution_count": 22
        }
      ],
      "source": [
        "# Part 3: Time to fall the remaining distance with constant velocity\n",
        "d_remaining = h - d_limit  # Remaining distance\n",
        "t_remaining = d_remaining / v_limit  # Time to fall the remaining distance"
      ]
    },
    {
      "cell_type": "code",
      "execution_count": 23,
      "metadata": {
        "colab": {
          "base_uri": "https://localhost:8080/"
        },
        "id": "DoM7o9o-LoO-",
        "outputId": "e220cd6f-a153-4ed7-e047-339fedc2b6ff"
      },
      "outputs": [
        {
          "output_type": "stream",
          "name": "stdout",
          "text": [
            "Total time: 22.085034013605444 second\n"
          ]
        }
      ],
      "source": [
        "# Total time for the penny to fall 381 meters\n",
        "t_total = t_limit + t_remaining\n",
        "\n",
        "print(\"Total time:\", t_total)"
      ]
    },
    {
      "cell_type": "markdown",
      "metadata": {
        "id": "JVfcJV7cLoO-"
      },
      "source": [
        "### Restart and run all\n",
        "\n",
        "When you change the contents of a cell, you have to run it again for those changes to have an effect.  If you forget to do that, the results can be confusing, because the code you are looking at is not the code you ran.\n",
        "\n",
        "If you ever lose track of which cells have run, and in what order, you should go to the Kernel menu and select \"Restart & Run All\".  Restarting the kernel means that all of your variables get deleted, and running all the cells means all of your code will run again, in the right order.\n",
        "\n",
        "**Exercise:**  Select \"Restart & Run All\" now and confirm that it does what you want."
      ]
    },
    {
      "cell_type": "code",
      "execution_count": 23,
      "metadata": {
        "id": "erIThw92LoO_"
      },
      "outputs": [],
      "source": []
    }
  ],
  "metadata": {
    "kernelspec": {
      "display_name": "Python 3",
      "language": "python",
      "name": "python3"
    },
    "language_info": {
      "codemirror_mode": {
        "name": "ipython",
        "version": 3
      },
      "file_extension": ".py",
      "mimetype": "text/x-python",
      "name": "python",
      "nbconvert_exporter": "python",
      "pygments_lexer": "ipython3",
      "version": "3.7.5"
    },
    "colab": {
      "provenance": []
    }
  },
  "nbformat": 4,
  "nbformat_minor": 0
}