{
  "cells": [
    {
      "cell_type": "markdown",
      "metadata": {
        "id": "J6NM2F9-SD_a"
      },
      "source": [
        "# Modeling and Simulation in Python\n",
        "\n",
        "Chapter 10\n",
        "\n",
        "Copyright 2017 Allen Downey\n",
        "\n",
        "License: [Creative Commons Attribution 4.0 International](https://creativecommons.org/licenses/by/4.0)\n"
      ]
    },
    {
      "cell_type": "code",
      "source": [
        "try:\n",
        "    import pint\n",
        "except ImportError:\n",
        "    !pip install pint\n",
        "    import pint"
      ],
      "metadata": {
        "colab": {
          "base_uri": "https://localhost:8080/"
        },
        "id": "69ffGZRxSNT6",
        "outputId": "cb5d5ae4-9ee6-49f0-d73e-9759d8945aeb"
      },
      "execution_count": 1,
      "outputs": [
        {
          "output_type": "stream",
          "name": "stdout",
          "text": [
            "Collecting pint\n",
            "  Downloading Pint-0.22-py3-none-any.whl (294 kB)\n",
            "\u001b[?25l     \u001b[90m━━━━━━━━━━━━━━━━━━━━━━━━━━━━━━━━━━━━━━━━\u001b[0m \u001b[32m0.0/294.0 kB\u001b[0m \u001b[31m?\u001b[0m eta \u001b[36m-:--:--\u001b[0m\r\u001b[2K     \u001b[91m━━━━━━━━━━━━━━━━━━━━━━━━━━━━━━━━━━━━━━\u001b[0m\u001b[90m╺\u001b[0m \u001b[32m286.7/294.0 kB\u001b[0m \u001b[31m9.2 MB/s\u001b[0m eta \u001b[36m0:00:01\u001b[0m\r\u001b[2K     \u001b[90m━━━━━━━━━━━━━━━━━━━━━━━━━━━━━━━━━━━━━━━\u001b[0m \u001b[32m294.0/294.0 kB\u001b[0m \u001b[31m5.9 MB/s\u001b[0m eta \u001b[36m0:00:00\u001b[0m\n",
            "\u001b[?25hRequirement already satisfied: typing-extensions in /usr/local/lib/python3.10/dist-packages (from pint) (4.6.3)\n",
            "Installing collected packages: pint\n",
            "Successfully installed pint-0.22\n"
          ]
        }
      ]
    },
    {
      "cell_type": "code",
      "source": [
        "try:\n",
        "    from modsim import *\n",
        "except ImportError:\n",
        "    !pip install modsimpy\n",
        "    from modsim import *"
      ],
      "metadata": {
        "colab": {
          "base_uri": "https://localhost:8080/"
        },
        "id": "OM20RYrXSODd",
        "outputId": "53875b1b-c5fb-4085-b075-1c0e2caf7450"
      },
      "execution_count": 2,
      "outputs": [
        {
          "output_type": "stream",
          "name": "stdout",
          "text": [
            "Collecting modsimpy\n",
            "  Downloading modsimpy-1.1.3.tar.gz (19 kB)\n",
            "  Preparing metadata (setup.py) ... \u001b[?25l\u001b[?25hdone\n",
            "Building wheels for collected packages: modsimpy\n",
            "  Building wheel for modsimpy (setup.py) ... \u001b[?25l\u001b[?25hdone\n",
            "  Created wheel for modsimpy: filename=modsimpy-1.1.3-py3-none-any.whl size=20335 sha256=8e5fb9470426206e1b91f2fc66dace84adabb307949770e8ff1ea1cfe319d3b6\n",
            "  Stored in directory: /root/.cache/pip/wheels/3a/21/22/b652cf3a4fc674c3377fdeb77da04bba02954a4ea5abe331be\n",
            "Successfully built modsimpy\n",
            "Installing collected packages: modsimpy\n",
            "Successfully installed modsimpy-1.1.3\n"
          ]
        }
      ]
    },
    {
      "cell_type": "code",
      "execution_count": 3,
      "metadata": {
        "id": "PKs9d9pdSD_h"
      },
      "outputs": [],
      "source": [
        "# Configure Jupyter so figures appear in the notebook\n",
        "%matplotlib inline\n",
        "\n",
        "# Configure Jupyter to display the assigned value after an assignment\n",
        "%config InteractiveShell.ast_node_interactivity='last_expr_or_assign'\n",
        "\n",
        "# import functions from the modsim.py module\n",
        "from modsim import *\n",
        "\n",
        "from pandas import read_html"
      ]
    },
    {
      "cell_type": "markdown",
      "metadata": {
        "id": "8rdQ61l2SD_j"
      },
      "source": [
        "### Under the hood\n",
        "\n",
        "To get a `DataFrame` and a `Series`, I'll read the world population data and select a column.\n",
        "\n",
        "`DataFrame` and `Series` contain a variable called `shape` that indicates the number of rows and columns."
      ]
    },
    {
      "cell_type": "code",
      "execution_count": 4,
      "metadata": {
        "colab": {
          "base_uri": "https://localhost:8080/",
          "height": 238
        },
        "id": "aAj2miR8SD_k",
        "outputId": "194bcc6f-641d-4e85-8ef1-2f23d7895ae9"
      },
      "outputs": [
        {
          "output_type": "execute_result",
          "data": {
            "text/plain": [
              "      Year      census           prb            un      maddison  \\\n",
              "Year                                                               \n",
              "1950  1950  2557628654  2.516000e+09  2.525149e+09  2.544000e+09   \n",
              "1951  1951  2594939877           NaN  2.572851e+09  2.571663e+09   \n",
              "1952  1952  2636772306           NaN  2.619292e+09  2.617949e+09   \n",
              "1953  1953  2682053389           NaN  2.665865e+09  2.665959e+09   \n",
              "1954  1954  2730228104           NaN  2.713172e+09  2.716927e+09   \n",
              "\n",
              "              hyde        tanton       biraben            mj    thomlinson  \\\n",
              "Year                                                                         \n",
              "1950  2.527960e+09  2.400000e+09  2.527000e+09  2.500000e+09  2.400000e+09   \n",
              "1951           NaN           NaN           NaN           NaN           NaN   \n",
              "1952           NaN           NaN           NaN           NaN           NaN   \n",
              "1953           NaN           NaN           NaN           NaN           NaN   \n",
              "1954           NaN           NaN           NaN           NaN           NaN   \n",
              "\n",
              "     durand         clark  \n",
              "Year                       \n",
              "1950    NaN  2.486000e+09  \n",
              "1951    NaN           NaN  \n",
              "1952    NaN           NaN  \n",
              "1953    NaN           NaN  \n",
              "1954    NaN           NaN  "
            ],
            "text/html": [
              "\n",
              "  <div id=\"df-f5db303b-550d-45f1-888d-9eea8621da0d\">\n",
              "    <div class=\"colab-df-container\">\n",
              "      <div>\n",
              "<style scoped>\n",
              "    .dataframe tbody tr th:only-of-type {\n",
              "        vertical-align: middle;\n",
              "    }\n",
              "\n",
              "    .dataframe tbody tr th {\n",
              "        vertical-align: top;\n",
              "    }\n",
              "\n",
              "    .dataframe thead th {\n",
              "        text-align: right;\n",
              "    }\n",
              "</style>\n",
              "<table border=\"1\" class=\"dataframe\">\n",
              "  <thead>\n",
              "    <tr style=\"text-align: right;\">\n",
              "      <th></th>\n",
              "      <th>Year</th>\n",
              "      <th>census</th>\n",
              "      <th>prb</th>\n",
              "      <th>un</th>\n",
              "      <th>maddison</th>\n",
              "      <th>hyde</th>\n",
              "      <th>tanton</th>\n",
              "      <th>biraben</th>\n",
              "      <th>mj</th>\n",
              "      <th>thomlinson</th>\n",
              "      <th>durand</th>\n",
              "      <th>clark</th>\n",
              "    </tr>\n",
              "    <tr>\n",
              "      <th>Year</th>\n",
              "      <th></th>\n",
              "      <th></th>\n",
              "      <th></th>\n",
              "      <th></th>\n",
              "      <th></th>\n",
              "      <th></th>\n",
              "      <th></th>\n",
              "      <th></th>\n",
              "      <th></th>\n",
              "      <th></th>\n",
              "      <th></th>\n",
              "      <th></th>\n",
              "    </tr>\n",
              "  </thead>\n",
              "  <tbody>\n",
              "    <tr>\n",
              "      <th>1950</th>\n",
              "      <td>1950</td>\n",
              "      <td>2557628654</td>\n",
              "      <td>2.516000e+09</td>\n",
              "      <td>2.525149e+09</td>\n",
              "      <td>2.544000e+09</td>\n",
              "      <td>2.527960e+09</td>\n",
              "      <td>2.400000e+09</td>\n",
              "      <td>2.527000e+09</td>\n",
              "      <td>2.500000e+09</td>\n",
              "      <td>2.400000e+09</td>\n",
              "      <td>NaN</td>\n",
              "      <td>2.486000e+09</td>\n",
              "    </tr>\n",
              "    <tr>\n",
              "      <th>1951</th>\n",
              "      <td>1951</td>\n",
              "      <td>2594939877</td>\n",
              "      <td>NaN</td>\n",
              "      <td>2.572851e+09</td>\n",
              "      <td>2.571663e+09</td>\n",
              "      <td>NaN</td>\n",
              "      <td>NaN</td>\n",
              "      <td>NaN</td>\n",
              "      <td>NaN</td>\n",
              "      <td>NaN</td>\n",
              "      <td>NaN</td>\n",
              "      <td>NaN</td>\n",
              "    </tr>\n",
              "    <tr>\n",
              "      <th>1952</th>\n",
              "      <td>1952</td>\n",
              "      <td>2636772306</td>\n",
              "      <td>NaN</td>\n",
              "      <td>2.619292e+09</td>\n",
              "      <td>2.617949e+09</td>\n",
              "      <td>NaN</td>\n",
              "      <td>NaN</td>\n",
              "      <td>NaN</td>\n",
              "      <td>NaN</td>\n",
              "      <td>NaN</td>\n",
              "      <td>NaN</td>\n",
              "      <td>NaN</td>\n",
              "    </tr>\n",
              "    <tr>\n",
              "      <th>1953</th>\n",
              "      <td>1953</td>\n",
              "      <td>2682053389</td>\n",
              "      <td>NaN</td>\n",
              "      <td>2.665865e+09</td>\n",
              "      <td>2.665959e+09</td>\n",
              "      <td>NaN</td>\n",
              "      <td>NaN</td>\n",
              "      <td>NaN</td>\n",
              "      <td>NaN</td>\n",
              "      <td>NaN</td>\n",
              "      <td>NaN</td>\n",
              "      <td>NaN</td>\n",
              "    </tr>\n",
              "    <tr>\n",
              "      <th>1954</th>\n",
              "      <td>1954</td>\n",
              "      <td>2730228104</td>\n",
              "      <td>NaN</td>\n",
              "      <td>2.713172e+09</td>\n",
              "      <td>2.716927e+09</td>\n",
              "      <td>NaN</td>\n",
              "      <td>NaN</td>\n",
              "      <td>NaN</td>\n",
              "      <td>NaN</td>\n",
              "      <td>NaN</td>\n",
              "      <td>NaN</td>\n",
              "      <td>NaN</td>\n",
              "    </tr>\n",
              "  </tbody>\n",
              "</table>\n",
              "</div>\n",
              "      <button class=\"colab-df-convert\" onclick=\"convertToInteractive('df-f5db303b-550d-45f1-888d-9eea8621da0d')\"\n",
              "              title=\"Convert this dataframe to an interactive table.\"\n",
              "              style=\"display:none;\">\n",
              "        \n",
              "  <svg xmlns=\"http://www.w3.org/2000/svg\" height=\"24px\"viewBox=\"0 0 24 24\"\n",
              "       width=\"24px\">\n",
              "    <path d=\"M0 0h24v24H0V0z\" fill=\"none\"/>\n",
              "    <path d=\"M18.56 5.44l.94 2.06.94-2.06 2.06-.94-2.06-.94-.94-2.06-.94 2.06-2.06.94zm-11 1L8.5 8.5l.94-2.06 2.06-.94-2.06-.94L8.5 2.5l-.94 2.06-2.06.94zm10 10l.94 2.06.94-2.06 2.06-.94-2.06-.94-.94-2.06-.94 2.06-2.06.94z\"/><path d=\"M17.41 7.96l-1.37-1.37c-.4-.4-.92-.59-1.43-.59-.52 0-1.04.2-1.43.59L10.3 9.45l-7.72 7.72c-.78.78-.78 2.05 0 2.83L4 21.41c.39.39.9.59 1.41.59.51 0 1.02-.2 1.41-.59l7.78-7.78 2.81-2.81c.8-.78.8-2.07 0-2.86zM5.41 20L4 18.59l7.72-7.72 1.47 1.35L5.41 20z\"/>\n",
              "  </svg>\n",
              "      </button>\n",
              "      \n",
              "  <style>\n",
              "    .colab-df-container {\n",
              "      display:flex;\n",
              "      flex-wrap:wrap;\n",
              "      gap: 12px;\n",
              "    }\n",
              "\n",
              "    .colab-df-convert {\n",
              "      background-color: #E8F0FE;\n",
              "      border: none;\n",
              "      border-radius: 50%;\n",
              "      cursor: pointer;\n",
              "      display: none;\n",
              "      fill: #1967D2;\n",
              "      height: 32px;\n",
              "      padding: 0 0 0 0;\n",
              "      width: 32px;\n",
              "    }\n",
              "\n",
              "    .colab-df-convert:hover {\n",
              "      background-color: #E2EBFA;\n",
              "      box-shadow: 0px 1px 2px rgba(60, 64, 67, 0.3), 0px 1px 3px 1px rgba(60, 64, 67, 0.15);\n",
              "      fill: #174EA6;\n",
              "    }\n",
              "\n",
              "    [theme=dark] .colab-df-convert {\n",
              "      background-color: #3B4455;\n",
              "      fill: #D2E3FC;\n",
              "    }\n",
              "\n",
              "    [theme=dark] .colab-df-convert:hover {\n",
              "      background-color: #434B5C;\n",
              "      box-shadow: 0px 1px 3px 1px rgba(0, 0, 0, 0.15);\n",
              "      filter: drop-shadow(0px 1px 2px rgba(0, 0, 0, 0.3));\n",
              "      fill: #FFFFFF;\n",
              "    }\n",
              "  </style>\n",
              "\n",
              "      <script>\n",
              "        const buttonEl =\n",
              "          document.querySelector('#df-f5db303b-550d-45f1-888d-9eea8621da0d button.colab-df-convert');\n",
              "        buttonEl.style.display =\n",
              "          google.colab.kernel.accessAllowed ? 'block' : 'none';\n",
              "\n",
              "        async function convertToInteractive(key) {\n",
              "          const element = document.querySelector('#df-f5db303b-550d-45f1-888d-9eea8621da0d');\n",
              "          const dataTable =\n",
              "            await google.colab.kernel.invokeFunction('convertToInteractive',\n",
              "                                                     [key], {});\n",
              "          if (!dataTable) return;\n",
              "\n",
              "          const docLinkHtml = 'Like what you see? Visit the ' +\n",
              "            '<a target=\"_blank\" href=https://colab.research.google.com/notebooks/data_table.ipynb>data table notebook</a>'\n",
              "            + ' to learn more about interactive tables.';\n",
              "          element.innerHTML = '';\n",
              "          dataTable['output_type'] = 'display_data';\n",
              "          await google.colab.output.renderOutput(dataTable, element);\n",
              "          const docLink = document.createElement('div');\n",
              "          docLink.innerHTML = docLinkHtml;\n",
              "          element.appendChild(docLink);\n",
              "        }\n",
              "      </script>\n",
              "    </div>\n",
              "  </div>\n",
              "  "
            ]
          },
          "metadata": {},
          "execution_count": 4
        }
      ],
      "source": [
        "#filename = 'data/World_population_estimates.html'\n",
        "\n",
        "filename = 'https://raw.githubusercontent.com/AllenDowney/ModSimPy/master/data/World_population_estimates.html'\n",
        "\n",
        "tables = read_html(filename, header=0, index_col=0, decimal='M')\n",
        "table2 = tables[2]\n",
        "table2.columns = ['census', 'prb', 'un', 'maddison',\n",
        "                  'hyde', 'tanton', 'biraben', 'mj',\n",
        "                  'thomlinson', 'durand', 'clark']\n",
        "\n",
        "table2 = table2.reset_index()\n",
        "table2.index = table2.Year\n",
        "table2.head()"
      ]
    },
    {
      "cell_type": "code",
      "execution_count": 5,
      "metadata": {
        "colab": {
          "base_uri": "https://localhost:8080/"
        },
        "id": "k65zFfhRSD_m",
        "outputId": "f8771053-dfa7-4f54-e34c-df7b3457768b"
      },
      "outputs": [
        {
          "output_type": "execute_result",
          "data": {
            "text/plain": [
              "(67,)"
            ]
          },
          "metadata": {},
          "execution_count": 5
        }
      ],
      "source": [
        "census = table2.census / 1e9\n",
        "census.shape"
      ]
    },
    {
      "cell_type": "code",
      "execution_count": 6,
      "metadata": {
        "colab": {
          "base_uri": "https://localhost:8080/"
        },
        "id": "M_GzsN77SD_n",
        "outputId": "ed343a3f-8b5d-4c19-a825-19d02538057d"
      },
      "outputs": [
        {
          "output_type": "execute_result",
          "data": {
            "text/plain": [
              "(67,)"
            ]
          },
          "metadata": {},
          "execution_count": 6
        }
      ],
      "source": [
        "un = table2.un / 1e9\n",
        "un.shape"
      ]
    },
    {
      "cell_type": "markdown",
      "metadata": {
        "id": "cVNtLwdZSD_n"
      },
      "source": [
        "A `DataFrame` contains `index`, which labels the rows.  It is an `Int64Index`, which is similar to a NumPy array."
      ]
    },
    {
      "cell_type": "code",
      "execution_count": 7,
      "metadata": {
        "scrolled": true,
        "colab": {
          "base_uri": "https://localhost:8080/"
        },
        "id": "KwC56WjUSD_p",
        "outputId": "59528f3e-0741-4df6-c086-3fb212c96bb5"
      },
      "outputs": [
        {
          "output_type": "execute_result",
          "data": {
            "text/plain": [
              "Int64Index([1950, 1951, 1952, 1953, 1954, 1955, 1956, 1957, 1958, 1959, 1960,\n",
              "            1961, 1962, 1963, 1964, 1965, 1966, 1967, 1968, 1969, 1970, 1971,\n",
              "            1972, 1973, 1974, 1975, 1976, 1977, 1978, 1979, 1980, 1981, 1982,\n",
              "            1983, 1984, 1985, 1986, 1987, 1988, 1989, 1990, 1991, 1992, 1993,\n",
              "            1994, 1995, 1996, 1997, 1998, 1999, 2000, 2001, 2002, 2003, 2004,\n",
              "            2005, 2006, 2007, 2008, 2009, 2010, 2011, 2012, 2013, 2014, 2015,\n",
              "            2016],\n",
              "           dtype='int64', name='Year')"
            ]
          },
          "metadata": {},
          "execution_count": 7
        }
      ],
      "source": [
        "table2.index"
      ]
    },
    {
      "cell_type": "markdown",
      "metadata": {
        "id": "VtsOllufSD_p"
      },
      "source": [
        "And `columns`, which labels the columns."
      ]
    },
    {
      "cell_type": "code",
      "execution_count": 8,
      "metadata": {
        "scrolled": true,
        "colab": {
          "base_uri": "https://localhost:8080/"
        },
        "id": "PFt6UAfvSD_q",
        "outputId": "8bdc635b-2a45-4f71-eb70-ce0ef9f72a16"
      },
      "outputs": [
        {
          "output_type": "execute_result",
          "data": {
            "text/plain": [
              "Index(['Year', 'census', 'prb', 'un', 'maddison', 'hyde', 'tanton', 'biraben',\n",
              "       'mj', 'thomlinson', 'durand', 'clark'],\n",
              "      dtype='object')"
            ]
          },
          "metadata": {},
          "execution_count": 8
        }
      ],
      "source": [
        "table2.columns"
      ]
    },
    {
      "cell_type": "markdown",
      "metadata": {
        "id": "znrrW-eHSD_q"
      },
      "source": [
        "And `values`, which is an array of values."
      ]
    },
    {
      "cell_type": "code",
      "execution_count": 9,
      "metadata": {
        "scrolled": false,
        "colab": {
          "base_uri": "https://localhost:8080/"
        },
        "id": "sdtpBkMXSD_r",
        "outputId": "21ae502c-8375-4f9b-bd35-5e9fc96fd23e"
      },
      "outputs": [
        {
          "output_type": "execute_result",
          "data": {
            "text/plain": [
              "array([[1950, 2557628654, 2516000000.0, 2525149000.0, 2544000000.0,\n",
              "        2527960000.0, 2400000000.0, 2527000000.0, 2500000000.0,\n",
              "        2400000000.0, nan, 2486000000.0],\n",
              "       [1951, 2594939877, nan, 2572850917.0, 2571663000.0, nan, nan, nan,\n",
              "        nan, nan, nan, nan],\n",
              "       [1952, 2636772306, nan, 2619292068.0, 2617949000.0, nan, nan, nan,\n",
              "        nan, nan, nan, nan],\n",
              "       [1953, 2682053389, nan, 2665865392.0, 2665959000.0, nan, nan, nan,\n",
              "        nan, nan, nan, nan],\n",
              "       [1954, 2730228104, nan, 2713172027.0, 2716927000.0, nan, nan, nan,\n",
              "        nan, nan, nan, nan],\n",
              "       [1955, 2782098943, nan, 2761650981.0, 2769074000.0, nan, nan, nan,\n",
              "        nan, nan, nan, nan],\n",
              "       [1956, 2835299673, nan, 2811572031.0, 2822502000.0, nan, nan, nan,\n",
              "        nan, nan, nan, nan],\n",
              "       [1957, 2891349717, nan, 2863042795.0, 2879934000.0, nan, nan, nan,\n",
              "        nan, nan, nan, nan],\n",
              "       [1958, 2948137248, nan, 2916030167.0, 2939254000.0, nan, nan, nan,\n",
              "        nan, nan, nan, nan],\n",
              "       [1959, 3000716593, nan, 2970395814.0, 2995909000.0, nan, nan, nan,\n",
              "        nan, nan, nan, nan],\n",
              "       [1960, 3043001508, nan, 3026002942.0, 3041507000.0, 3042000000.0,\n",
              "        nan, nan, nan, nan, nan, nan],\n",
              "       [1961, 3083966929, nan, 3082830266.0, 3082161000.0, nan, nan, nan,\n",
              "        nan, nan, nan, nan],\n",
              "       [1962, 3140093217, nan, 3141071531.0, 3135787000.0, nan, nan, nan,\n",
              "        nan, nan, nan, 3036000000.0],\n",
              "       [1963, 3209827882, nan, 3201178277.0, 3201354000.0, nan, nan, nan,\n",
              "        nan, nan, nan, nan],\n",
              "       [1964, 3281201306, nan, 3263738832.0, 3266477000.0, nan, nan, nan,\n",
              "        nan, nan, nan, nan],\n",
              "       [1965, 3350425793, nan, 3329122479.0, 3333138000.0, nan, nan, nan,\n",
              "        nan, nan, nan, nan],\n",
              "       [1966, 3420677923, nan, 3397475247.0, 3402224000.0, nan, nan, nan,\n",
              "        nan, nan, nan, 3288000000.0],\n",
              "       [1967, 3490333715, nan, 3468521724.0, 3471464000.0, nan, nan, nan,\n",
              "        nan, nan, nan, nan],\n",
              "       [1968, 3562313822, nan, 3541674891.0, 3543086000.0, nan, nan, nan,\n",
              "        nan, nan, nan, nan],\n",
              "       [1969, 3637159050, nan, 3616108749.0, 3615743000.0, nan, nan, nan,\n",
              "        nan, nan, nan, nan],\n",
              "       [1970, 3712697742, nan, 3691172616.0, 3691157000.0, 3710000000.0,\n",
              "        nan, 3637000000.0, nan, 3600000000.0,\n",
              "        '3,600,000,000– 3,700,000,000', 3632000000.0],\n",
              "       [1971, 3790326948, nan, 3766754345.0, 3769818000.0, nan, nan, nan,\n",
              "        nan, nan, nan, nan],\n",
              "       [1972, 3866568653, nan, 3842873611.0, 3846499000.0, nan, nan, nan,\n",
              "        nan, nan, nan, nan],\n",
              "       [1973, 3942096442, nan, 3919182332.0, 3922793000.0, 3923000000.0,\n",
              "        nan, nan, nan, nan, nan, 3860000000.0],\n",
              "       [1974, 4016608813, nan, 3995304922.0, 3997677000.0, nan, nan, nan,\n",
              "        nan, nan, nan, nan],\n",
              "       [1975, 4089083233, nan, 4071020434.0, 4070671000.0, nan, nan, nan,\n",
              "        3900000000.0, 4000000000.0, nan, nan],\n",
              "       [1976, 4160185010, nan, 4146135850.0, 4141445000.0, nan, nan, nan,\n",
              "        nan, nan, nan, nan],\n",
              "       [1977, 4232084578, nan, 4220816737.0, 4213539000.0, nan, nan, nan,\n",
              "        nan, nan, nan, nan],\n",
              "       [1978, 4304105753, nan, 4295664825.0, 4286317000.0, nan, nan, nan,\n",
              "        nan, nan, nan, nan],\n",
              "       [1979, 4379013942, nan, 4371527871.0, 4363144000.0, nan, nan, nan,\n",
              "        nan, nan, nan, nan],\n",
              "       [1980, 4451362735, nan, 4449048798.0, 4439529000.0, 4461000000.0,\n",
              "        nan, nan, nan, nan, nan, nan],\n",
              "       [1981, 4534410125, nan, 4528234634.0, 4514838000.0, nan, nan, nan,\n",
              "        nan, nan, nan, nan],\n",
              "       [1982, 4614566561, nan, 4608962418.0, 4587307000.0, nan, nan, nan,\n",
              "        nan, nan, nan, nan],\n",
              "       [1983, 4695736743, nan, 4691559840.0, 4676388000.0, nan, nan, nan,\n",
              "        nan, nan, nan, nan],\n",
              "       [1984, 4774569391, nan, 4776392828.0, 4756521000.0, nan, nan, nan,\n",
              "        nan, nan, nan, nan],\n",
              "       [1985, 4856462699, nan, 4863601517.0, 4837719000.0, nan,\n",
              "        5000000000.0, nan, nan, nan, nan, nan],\n",
              "       [1986, 4940571232, nan, 4953376710.0, 4920968000.0, nan, nan, nan,\n",
              "        nan, nan, nan, nan],\n",
              "       [1987, 5027200492, nan, 5045315871.0, 5006672000.0, nan, nan, nan,\n",
              "        nan, nan, nan, nan],\n",
              "       [1988, 5114557167, nan, 5138214688.0, 5093306000.0, nan, nan, nan,\n",
              "        nan, nan, nan, nan],\n",
              "       [1989, 5201440110, nan, 5230000000.0, 5180540000.0, nan, nan, nan,\n",
              "        nan, nan, nan, nan],\n",
              "       [1990, 5288955934, nan, 5320816667.0, 5269029000.0, 5308000000.0,\n",
              "        nan, nan, nan, nan, nan, nan],\n",
              "       [1991, 5371585922, nan, 5408908724.0, 5351922000.0, nan, nan, nan,\n",
              "        nan, nan, nan, nan],\n",
              "       [1992, 5456136278, nan, 5494899570.0, 5435722000.0, nan, nan, nan,\n",
              "        nan, nan, nan, nan],\n",
              "       [1993, 5538268316, nan, 5578865109.0, 5518127000.0, nan, nan, nan,\n",
              "        nan, nan, nan, nan],\n",
              "       [1994, 5618682132, nan, 5661086346.0, 5599396000.0, nan, nan, nan,\n",
              "        nan, nan, nan, nan],\n",
              "       [1995, 5699202985, 5760000000.0, 5741822412.0, 5681575000.0, nan,\n",
              "        nan, nan, nan, nan, nan, nan],\n",
              "       [1996, 5779440593, nan, 5821016750.0, 5762212000.0, nan, nan, nan,\n",
              "        nan, nan, nan, nan],\n",
              "       [1997, 5857972543, 5840000000.0, 5898688337.0, 5842122000.0, nan,\n",
              "        nan, nan, nan, nan, nan, nan],\n",
              "       [1998, 5935213248, nan, 5975303657.0, 5921366000.0, nan, nan, nan,\n",
              "        nan, nan, nan, nan],\n",
              "       [1999, 6012074922, nan, 6051478010.0, 5999622000.0, nan, nan, nan,\n",
              "        nan, nan, nan, nan],\n",
              "       [2000, 6088571383, 6067000000.0, 6127700428.0, 6076558000.0,\n",
              "        6145000000.0, nan, nan, 5750000000.0, nan, nan, nan],\n",
              "       [2001, 6165219247, 6137000000.0, 6204147026.0, 6154791000.0, nan,\n",
              "        nan, nan, nan, nan, nan, nan],\n",
              "       [2002, 6242016348, 6215000000.0, 6280853817.0, 6231704000.0, nan,\n",
              "        nan, nan, nan, nan, nan, nan],\n",
              "       [2003, 6318590956, 6314000000.0, 6357991749.0, 6308364000.0, nan,\n",
              "        nan, nan, nan, nan, nan, nan],\n",
              "       [2004, 6395699509, 6396000000.0, 6435705595.0, 6374056000.0, nan,\n",
              "        nan, nan, nan, nan, nan, nan],\n",
              "       [2005, 6473044732, 6477000000.0, 6514094605.0, 6462987000.0, nan,\n",
              "        nan, nan, nan, nan, nan, nan],\n",
              "       [2006, 6551263534, 6555000000.0, 6593227977.0, 6540214000.0, nan,\n",
              "        nan, nan, nan, nan, nan, nan],\n",
              "       [2007, 6629913759, 6625000000.0, 6673105937.0, 6616689000.0, nan,\n",
              "        nan, nan, nan, nan, nan, nan],\n",
              "       [2008, 6709049780, 6705000000.0, 6753649228.0, 6694832000.0, nan,\n",
              "        nan, nan, nan, nan, nan, nan],\n",
              "       [2009, 6788214394, 6809972000.0, 6834721933.0, 6764086000.0, nan,\n",
              "        nan, nan, nan, nan, nan, nan],\n",
              "       [2010, 6858584755, 6892319000.0, 6916183482.0, nan, nan, nan, nan,\n",
              "        nan, nan, nan, nan],\n",
              "       [2011, 6935999491, 6986951000.0, 6997998760.0, nan, nan, nan, nan,\n",
              "        nan, nan, nan, nan],\n",
              "       [2012, 7013871313, 7057075000.0, 7080072417.0, nan, nan, nan, nan,\n",
              "        nan, nan, nan, nan],\n",
              "       [2013, 7092128094, 7136796000.0, 7162119434.0, nan, nan, nan, nan,\n",
              "        nan, nan, nan, nan],\n",
              "       [2014, 7169968185, 7238184000.0, 7243784000.0, nan, nan, nan, nan,\n",
              "        nan, nan, nan, nan],\n",
              "       [2015, 7247892788, 7336435000.0, 7349472000.0, nan, nan, nan, nan,\n",
              "        nan, nan, nan, nan],\n",
              "       [2016, 7325996709, 7418151841.0, nan, nan, nan, nan, nan, nan,\n",
              "        nan, nan, nan]], dtype=object)"
            ]
          },
          "metadata": {},
          "execution_count": 9
        }
      ],
      "source": [
        "table2.values"
      ]
    },
    {
      "cell_type": "markdown",
      "metadata": {
        "id": "v3G6L67uSD_r"
      },
      "source": [
        "A `Series` does not have `columns`, but it does have `name`."
      ]
    },
    {
      "cell_type": "code",
      "execution_count": 10,
      "metadata": {
        "scrolled": true,
        "colab": {
          "base_uri": "https://localhost:8080/",
          "height": 35
        },
        "id": "ERaU4na0SD_r",
        "outputId": "d2b7be12-0a1a-4bd5-d71e-97286d0480d5"
      },
      "outputs": [
        {
          "output_type": "execute_result",
          "data": {
            "text/plain": [
              "'census'"
            ],
            "application/vnd.google.colaboratory.intrinsic+json": {
              "type": "string"
            }
          },
          "metadata": {},
          "execution_count": 10
        }
      ],
      "source": [
        "census.name"
      ]
    },
    {
      "cell_type": "markdown",
      "metadata": {
        "id": "U8vXl3rtSD_r"
      },
      "source": [
        "It contains `values`, which is an array."
      ]
    },
    {
      "cell_type": "code",
      "execution_count": 11,
      "metadata": {
        "colab": {
          "base_uri": "https://localhost:8080/"
        },
        "id": "nNDsdFsASD_s",
        "outputId": "fc8dd3bd-9e81-4f1c-fa7e-09a2b933ac0a"
      },
      "outputs": [
        {
          "output_type": "execute_result",
          "data": {
            "text/plain": [
              "array([2.55762865, 2.59493988, 2.63677231, 2.68205339, 2.7302281 ,\n",
              "       2.78209894, 2.83529967, 2.89134972, 2.94813725, 3.00071659,\n",
              "       3.04300151, 3.08396693, 3.14009322, 3.20982788, 3.28120131,\n",
              "       3.35042579, 3.42067792, 3.49033371, 3.56231382, 3.63715905,\n",
              "       3.71269774, 3.79032695, 3.86656865, 3.94209644, 4.01660881,\n",
              "       4.08908323, 4.16018501, 4.23208458, 4.30410575, 4.37901394,\n",
              "       4.45136274, 4.53441012, 4.61456656, 4.69573674, 4.77456939,\n",
              "       4.8564627 , 4.94057123, 5.02720049, 5.11455717, 5.20144011,\n",
              "       5.28895593, 5.37158592, 5.45613628, 5.53826832, 5.61868213,\n",
              "       5.69920299, 5.77944059, 5.85797254, 5.93521325, 6.01207492,\n",
              "       6.08857138, 6.16521925, 6.24201635, 6.31859096, 6.39569951,\n",
              "       6.47304473, 6.55126353, 6.62991376, 6.70904978, 6.78821439,\n",
              "       6.85858475, 6.93599949, 7.01387131, 7.09212809, 7.16996819,\n",
              "       7.24789279, 7.32599671])"
            ]
          },
          "metadata": {},
          "execution_count": 11
        }
      ],
      "source": [
        "census.values"
      ]
    },
    {
      "cell_type": "markdown",
      "metadata": {
        "id": "nLnC4iDZSD_s"
      },
      "source": [
        "And it contains `index`:"
      ]
    },
    {
      "cell_type": "code",
      "execution_count": 12,
      "metadata": {
        "colab": {
          "base_uri": "https://localhost:8080/"
        },
        "id": "VFC_0fwgSD_s",
        "outputId": "7544cda8-67cb-4f0e-ee1f-35c0ec7e30a6"
      },
      "outputs": [
        {
          "output_type": "execute_result",
          "data": {
            "text/plain": [
              "Int64Index([1950, 1951, 1952, 1953, 1954, 1955, 1956, 1957, 1958, 1959, 1960,\n",
              "            1961, 1962, 1963, 1964, 1965, 1966, 1967, 1968, 1969, 1970, 1971,\n",
              "            1972, 1973, 1974, 1975, 1976, 1977, 1978, 1979, 1980, 1981, 1982,\n",
              "            1983, 1984, 1985, 1986, 1987, 1988, 1989, 1990, 1991, 1992, 1993,\n",
              "            1994, 1995, 1996, 1997, 1998, 1999, 2000, 2001, 2002, 2003, 2004,\n",
              "            2005, 2006, 2007, 2008, 2009, 2010, 2011, 2012, 2013, 2014, 2015,\n",
              "            2016],\n",
              "           dtype='int64', name='Year')"
            ]
          },
          "metadata": {},
          "execution_count": 12
        }
      ],
      "source": [
        "census.index"
      ]
    },
    {
      "cell_type": "markdown",
      "metadata": {
        "id": "R84Z0LcMSD_s"
      },
      "source": [
        "If you ever wonder what kind of object a variable refers to, you can use the `type` function.  The result indicates what type the object is, and the module where that type is defined.\n",
        "\n",
        "`DataFrame`, `Int64Index`, `Index`, and `Series` are defined by Pandas.\n",
        "\n",
        "`ndarray` is defined by NumPy."
      ]
    },
    {
      "cell_type": "code",
      "execution_count": 13,
      "metadata": {
        "colab": {
          "base_uri": "https://localhost:8080/"
        },
        "id": "-Oam-DMBSD_s",
        "outputId": "2fd35eb0-eb0e-41e3-9655-18776b921572"
      },
      "outputs": [
        {
          "output_type": "execute_result",
          "data": {
            "text/plain": [
              "pandas.core.frame.DataFrame"
            ]
          },
          "metadata": {},
          "execution_count": 13
        }
      ],
      "source": [
        "type(table2)"
      ]
    },
    {
      "cell_type": "code",
      "execution_count": 14,
      "metadata": {
        "colab": {
          "base_uri": "https://localhost:8080/"
        },
        "id": "y7N43gUGSD_t",
        "outputId": "d6b02794-419a-4b90-a7c5-f3e1583ffda4"
      },
      "outputs": [
        {
          "output_type": "execute_result",
          "data": {
            "text/plain": [
              "pandas.core.indexes.numeric.Int64Index"
            ]
          },
          "metadata": {},
          "execution_count": 14
        }
      ],
      "source": [
        "type(table2.index)"
      ]
    },
    {
      "cell_type": "code",
      "execution_count": 15,
      "metadata": {
        "colab": {
          "base_uri": "https://localhost:8080/"
        },
        "id": "ftw22apYSD_t",
        "outputId": "21b7c7a1-e429-4791-ebf2-68ca610e35b4"
      },
      "outputs": [
        {
          "output_type": "execute_result",
          "data": {
            "text/plain": [
              "pandas.core.indexes.base.Index"
            ]
          },
          "metadata": {},
          "execution_count": 15
        }
      ],
      "source": [
        "type(table2.columns)"
      ]
    },
    {
      "cell_type": "code",
      "execution_count": 16,
      "metadata": {
        "colab": {
          "base_uri": "https://localhost:8080/"
        },
        "id": "R40-BeXkSD_t",
        "outputId": "41d23ae1-a015-456c-d6e1-7ba49e6c6192"
      },
      "outputs": [
        {
          "output_type": "execute_result",
          "data": {
            "text/plain": [
              "numpy.ndarray"
            ]
          },
          "metadata": {},
          "execution_count": 16
        }
      ],
      "source": [
        "type(table2.values)"
      ]
    },
    {
      "cell_type": "code",
      "execution_count": 17,
      "metadata": {
        "colab": {
          "base_uri": "https://localhost:8080/"
        },
        "id": "LlG0TxnGSD_t",
        "outputId": "a13cbd36-0c94-48ec-b5f9-2af51ebec3d0"
      },
      "outputs": [
        {
          "output_type": "execute_result",
          "data": {
            "text/plain": [
              "pandas.core.series.Series"
            ]
          },
          "metadata": {},
          "execution_count": 17
        }
      ],
      "source": [
        "type(census)"
      ]
    },
    {
      "cell_type": "code",
      "execution_count": 18,
      "metadata": {
        "colab": {
          "base_uri": "https://localhost:8080/"
        },
        "id": "vfoeyyT5SD_u",
        "outputId": "8d6487c0-2c14-47da-e8e3-e90a00a48387"
      },
      "outputs": [
        {
          "output_type": "execute_result",
          "data": {
            "text/plain": [
              "pandas.core.indexes.numeric.Int64Index"
            ]
          },
          "metadata": {},
          "execution_count": 18
        }
      ],
      "source": [
        "type(census.index)"
      ]
    },
    {
      "cell_type": "code",
      "execution_count": 19,
      "metadata": {
        "scrolled": true,
        "colab": {
          "base_uri": "https://localhost:8080/"
        },
        "id": "5DWPGIWASD_u",
        "outputId": "71721289-8d12-4330-de53-5cd854cae7cc"
      },
      "outputs": [
        {
          "output_type": "execute_result",
          "data": {
            "text/plain": [
              "numpy.ndarray"
            ]
          },
          "metadata": {},
          "execution_count": 19
        }
      ],
      "source": [
        "type(census.values)"
      ]
    },
    {
      "cell_type": "markdown",
      "metadata": {
        "id": "_bAN9oLWSD_u"
      },
      "source": [
        "## Optional exercise\n",
        "\n",
        "The following exercise provides a chance to practice what you have learned so far, and maybe develop a different growth model.  If you feel comfortable with what we have done so far, you might want to give it a try.\n",
        "\n",
        "**Optional Exercise:** On the Wikipedia page about world population estimates, the first table contains estimates for prehistoric populations.  The following cells process this table and plot some of the results."
      ]
    },
    {
      "cell_type": "code",
      "execution_count": 20,
      "metadata": {
        "colab": {
          "base_uri": "https://localhost:8080/"
        },
        "id": "4fybFbbOSD_u",
        "outputId": "1cbb505e-e0af-47bf-c45e-f664b303d96a"
      },
      "outputs": [
        {
          "output_type": "execute_result",
          "data": {
            "text/plain": [
              "6"
            ]
          },
          "metadata": {},
          "execution_count": 20
        }
      ],
      "source": [
        "#filename = 'data/World_population_estimates.html'\n",
        "filename = 'https://raw.githubusercontent.com/AllenDowney/ModSimPy/master/data/World_population_estimates.html'\n",
        "tables = read_html(filename, header=0, index_col=0, decimal='M')\n",
        "len(tables)"
      ]
    },
    {
      "cell_type": "markdown",
      "metadata": {
        "id": "8BBMtsfMSD_u"
      },
      "source": [
        "Select `tables[1]`, which is the second table on the page."
      ]
    },
    {
      "cell_type": "code",
      "execution_count": 21,
      "metadata": {
        "colab": {
          "base_uri": "https://localhost:8080/",
          "height": 299
        },
        "id": "URhWmOBhSD_v",
        "outputId": "d79468c6-9496-4398-c4bb-58a57c7e8a0b"
      },
      "outputs": [
        {
          "output_type": "execute_result",
          "data": {
            "text/plain": [
              "       Population Reference Bureau (1973–2016)[15]  \\\n",
              "Year                                                 \n",
              "-10000                                         NaN   \n",
              "-9000                                          NaN   \n",
              "-8000                                           5.   \n",
              "-7000                                          NaN   \n",
              "-6000                                          NaN   \n",
              "\n",
              "        United Nations Department of Economic and Social Affairs (2015)[16]  \\\n",
              "Year                                                                          \n",
              "-10000                                                NaN                     \n",
              "-9000                                                 NaN                     \n",
              "-8000                                                 NaN                     \n",
              "-7000                                                 NaN                     \n",
              "-6000                                                 NaN                     \n",
              "\n",
              "       Maddison (2008)[17] HYDE (2010)[citation needed]  Tanton (1994)[18]  \\\n",
              "Year                                                                         \n",
              "-10000                 NaN                       2M[24]                NaN   \n",
              "-9000                  NaN                           4.                NaN   \n",
              "-8000                  NaN                           5.                NaN   \n",
              "-7000                  NaN                           8.                NaN   \n",
              "-6000                  NaN                          11.                NaN   \n",
              "\n",
              "        Biraben (1980)[19]  McEvedy & Jones (1978)[20] Thomlinson (1975)[21]  \\\n",
              "Year                                                                           \n",
              "-10000                 NaN                         4.0                 1–10M   \n",
              "-9000                  NaN                         NaN                   NaN   \n",
              "-8000                  NaN                         NaN                   NaN   \n",
              "-7000                  NaN                         NaN                   NaN   \n",
              "-6000                  NaN                         NaN                   NaN   \n",
              "\n",
              "       Durand (1974)[22] Clark (1967)[23]  \n",
              "Year                                       \n",
              "-10000               NaN              NaN  \n",
              "-9000                NaN              NaN  \n",
              "-8000              5–10M              NaN  \n",
              "-7000                NaN              NaN  \n",
              "-6000                NaN              NaN  "
            ],
            "text/html": [
              "\n",
              "  <div id=\"df-a4c0e785-94ed-4539-ae98-67eb3d16e382\">\n",
              "    <div class=\"colab-df-container\">\n",
              "      <div>\n",
              "<style scoped>\n",
              "    .dataframe tbody tr th:only-of-type {\n",
              "        vertical-align: middle;\n",
              "    }\n",
              "\n",
              "    .dataframe tbody tr th {\n",
              "        vertical-align: top;\n",
              "    }\n",
              "\n",
              "    .dataframe thead th {\n",
              "        text-align: right;\n",
              "    }\n",
              "</style>\n",
              "<table border=\"1\" class=\"dataframe\">\n",
              "  <thead>\n",
              "    <tr style=\"text-align: right;\">\n",
              "      <th></th>\n",
              "      <th>Population Reference Bureau (1973–2016)[15]</th>\n",
              "      <th>United Nations Department of Economic and Social Affairs (2015)[16]</th>\n",
              "      <th>Maddison (2008)[17]</th>\n",
              "      <th>HYDE (2010)[citation needed]</th>\n",
              "      <th>Tanton (1994)[18]</th>\n",
              "      <th>Biraben (1980)[19]</th>\n",
              "      <th>McEvedy &amp; Jones (1978)[20]</th>\n",
              "      <th>Thomlinson (1975)[21]</th>\n",
              "      <th>Durand (1974)[22]</th>\n",
              "      <th>Clark (1967)[23]</th>\n",
              "    </tr>\n",
              "    <tr>\n",
              "      <th>Year</th>\n",
              "      <th></th>\n",
              "      <th></th>\n",
              "      <th></th>\n",
              "      <th></th>\n",
              "      <th></th>\n",
              "      <th></th>\n",
              "      <th></th>\n",
              "      <th></th>\n",
              "      <th></th>\n",
              "      <th></th>\n",
              "    </tr>\n",
              "  </thead>\n",
              "  <tbody>\n",
              "    <tr>\n",
              "      <th>-10000</th>\n",
              "      <td>NaN</td>\n",
              "      <td>NaN</td>\n",
              "      <td>NaN</td>\n",
              "      <td>2M[24]</td>\n",
              "      <td>NaN</td>\n",
              "      <td>NaN</td>\n",
              "      <td>4.0</td>\n",
              "      <td>1–10M</td>\n",
              "      <td>NaN</td>\n",
              "      <td>NaN</td>\n",
              "    </tr>\n",
              "    <tr>\n",
              "      <th>-9000</th>\n",
              "      <td>NaN</td>\n",
              "      <td>NaN</td>\n",
              "      <td>NaN</td>\n",
              "      <td>4.</td>\n",
              "      <td>NaN</td>\n",
              "      <td>NaN</td>\n",
              "      <td>NaN</td>\n",
              "      <td>NaN</td>\n",
              "      <td>NaN</td>\n",
              "      <td>NaN</td>\n",
              "    </tr>\n",
              "    <tr>\n",
              "      <th>-8000</th>\n",
              "      <td>5.</td>\n",
              "      <td>NaN</td>\n",
              "      <td>NaN</td>\n",
              "      <td>5.</td>\n",
              "      <td>NaN</td>\n",
              "      <td>NaN</td>\n",
              "      <td>NaN</td>\n",
              "      <td>NaN</td>\n",
              "      <td>5–10M</td>\n",
              "      <td>NaN</td>\n",
              "    </tr>\n",
              "    <tr>\n",
              "      <th>-7000</th>\n",
              "      <td>NaN</td>\n",
              "      <td>NaN</td>\n",
              "      <td>NaN</td>\n",
              "      <td>8.</td>\n",
              "      <td>NaN</td>\n",
              "      <td>NaN</td>\n",
              "      <td>NaN</td>\n",
              "      <td>NaN</td>\n",
              "      <td>NaN</td>\n",
              "      <td>NaN</td>\n",
              "    </tr>\n",
              "    <tr>\n",
              "      <th>-6000</th>\n",
              "      <td>NaN</td>\n",
              "      <td>NaN</td>\n",
              "      <td>NaN</td>\n",
              "      <td>11.</td>\n",
              "      <td>NaN</td>\n",
              "      <td>NaN</td>\n",
              "      <td>NaN</td>\n",
              "      <td>NaN</td>\n",
              "      <td>NaN</td>\n",
              "      <td>NaN</td>\n",
              "    </tr>\n",
              "  </tbody>\n",
              "</table>\n",
              "</div>\n",
              "      <button class=\"colab-df-convert\" onclick=\"convertToInteractive('df-a4c0e785-94ed-4539-ae98-67eb3d16e382')\"\n",
              "              title=\"Convert this dataframe to an interactive table.\"\n",
              "              style=\"display:none;\">\n",
              "        \n",
              "  <svg xmlns=\"http://www.w3.org/2000/svg\" height=\"24px\"viewBox=\"0 0 24 24\"\n",
              "       width=\"24px\">\n",
              "    <path d=\"M0 0h24v24H0V0z\" fill=\"none\"/>\n",
              "    <path d=\"M18.56 5.44l.94 2.06.94-2.06 2.06-.94-2.06-.94-.94-2.06-.94 2.06-2.06.94zm-11 1L8.5 8.5l.94-2.06 2.06-.94-2.06-.94L8.5 2.5l-.94 2.06-2.06.94zm10 10l.94 2.06.94-2.06 2.06-.94-2.06-.94-.94-2.06-.94 2.06-2.06.94z\"/><path d=\"M17.41 7.96l-1.37-1.37c-.4-.4-.92-.59-1.43-.59-.52 0-1.04.2-1.43.59L10.3 9.45l-7.72 7.72c-.78.78-.78 2.05 0 2.83L4 21.41c.39.39.9.59 1.41.59.51 0 1.02-.2 1.41-.59l7.78-7.78 2.81-2.81c.8-.78.8-2.07 0-2.86zM5.41 20L4 18.59l7.72-7.72 1.47 1.35L5.41 20z\"/>\n",
              "  </svg>\n",
              "      </button>\n",
              "      \n",
              "  <style>\n",
              "    .colab-df-container {\n",
              "      display:flex;\n",
              "      flex-wrap:wrap;\n",
              "      gap: 12px;\n",
              "    }\n",
              "\n",
              "    .colab-df-convert {\n",
              "      background-color: #E8F0FE;\n",
              "      border: none;\n",
              "      border-radius: 50%;\n",
              "      cursor: pointer;\n",
              "      display: none;\n",
              "      fill: #1967D2;\n",
              "      height: 32px;\n",
              "      padding: 0 0 0 0;\n",
              "      width: 32px;\n",
              "    }\n",
              "\n",
              "    .colab-df-convert:hover {\n",
              "      background-color: #E2EBFA;\n",
              "      box-shadow: 0px 1px 2px rgba(60, 64, 67, 0.3), 0px 1px 3px 1px rgba(60, 64, 67, 0.15);\n",
              "      fill: #174EA6;\n",
              "    }\n",
              "\n",
              "    [theme=dark] .colab-df-convert {\n",
              "      background-color: #3B4455;\n",
              "      fill: #D2E3FC;\n",
              "    }\n",
              "\n",
              "    [theme=dark] .colab-df-convert:hover {\n",
              "      background-color: #434B5C;\n",
              "      box-shadow: 0px 1px 3px 1px rgba(0, 0, 0, 0.15);\n",
              "      filter: drop-shadow(0px 1px 2px rgba(0, 0, 0, 0.3));\n",
              "      fill: #FFFFFF;\n",
              "    }\n",
              "  </style>\n",
              "\n",
              "      <script>\n",
              "        const buttonEl =\n",
              "          document.querySelector('#df-a4c0e785-94ed-4539-ae98-67eb3d16e382 button.colab-df-convert');\n",
              "        buttonEl.style.display =\n",
              "          google.colab.kernel.accessAllowed ? 'block' : 'none';\n",
              "\n",
              "        async function convertToInteractive(key) {\n",
              "          const element = document.querySelector('#df-a4c0e785-94ed-4539-ae98-67eb3d16e382');\n",
              "          const dataTable =\n",
              "            await google.colab.kernel.invokeFunction('convertToInteractive',\n",
              "                                                     [key], {});\n",
              "          if (!dataTable) return;\n",
              "\n",
              "          const docLinkHtml = 'Like what you see? Visit the ' +\n",
              "            '<a target=\"_blank\" href=https://colab.research.google.com/notebooks/data_table.ipynb>data table notebook</a>'\n",
              "            + ' to learn more about interactive tables.';\n",
              "          element.innerHTML = '';\n",
              "          dataTable['output_type'] = 'display_data';\n",
              "          await google.colab.output.renderOutput(dataTable, element);\n",
              "          const docLink = document.createElement('div');\n",
              "          docLink.innerHTML = docLinkHtml;\n",
              "          element.appendChild(docLink);\n",
              "        }\n",
              "      </script>\n",
              "    </div>\n",
              "  </div>\n",
              "  "
            ]
          },
          "metadata": {},
          "execution_count": 21
        }
      ],
      "source": [
        "table1 = tables[1]\n",
        "table1.head()"
      ]
    },
    {
      "cell_type": "markdown",
      "metadata": {
        "id": "Ft_ejJaQSD_v"
      },
      "source": [
        "Not all agencies and researchers provided estimates for the same dates.  Again `NaN` is the special value that indicates missing data."
      ]
    },
    {
      "cell_type": "code",
      "execution_count": 22,
      "metadata": {
        "colab": {
          "base_uri": "https://localhost:8080/",
          "height": 299
        },
        "id": "hx6Zq1jTSD_v",
        "outputId": "fe0882ee-4403-4bd7-9783-d2321a741e8b"
      },
      "outputs": [
        {
          "output_type": "execute_result",
          "data": {
            "text/plain": [
              "     Population Reference Bureau (1973–2016)[15]  \\\n",
              "Year                                               \n",
              "1913                                         NaN   \n",
              "1920                                         NaN   \n",
              "1925                                         NaN   \n",
              "1930                                         NaN   \n",
              "1940                                         NaN   \n",
              "\n",
              "      United Nations Department of Economic and Social Affairs (2015)[16]  \\\n",
              "Year                                                                        \n",
              "1913                                                NaN                     \n",
              "1920                                             1860.0                     \n",
              "1925                                                NaN                     \n",
              "1930                                             2070.0                     \n",
              "1940                                             2300.0                     \n",
              "\n",
              "     Maddison (2008)[17] HYDE (2010)[citation needed]  Tanton (1994)[18]  \\\n",
              "Year                                                                       \n",
              "1913               1793.                          NaN                NaN   \n",
              "1920               1863.                        1912.                NaN   \n",
              "1925                 NaN                          NaN                NaN   \n",
              "1930                 NaN                        2092.                NaN   \n",
              "1940               2299.                        2307.                NaN   \n",
              "\n",
              "      Biraben (1980)[19]  McEvedy & Jones (1978)[20] Thomlinson (1975)[21]  \\\n",
              "Year                                                                         \n",
              "1913                 NaN                         NaN                   NaN   \n",
              "1920                 NaN                         NaN                   NaN   \n",
              "1925                 NaN                      2000.0                   NaN   \n",
              "1930                 NaN                         NaN                   NaN   \n",
              "1940                 NaN                         NaN                   NaN   \n",
              "\n",
              "     Durand (1974)[22] Clark (1967)[23]  \n",
              "Year                                     \n",
              "1913               NaN              NaN  \n",
              "1920               NaN            1968.  \n",
              "1925               NaN              NaN  \n",
              "1930               NaN            2145.  \n",
              "1940               NaN            2340.  "
            ],
            "text/html": [
              "\n",
              "  <div id=\"df-e061d089-e65f-4e2a-a688-b115a324c4ac\">\n",
              "    <div class=\"colab-df-container\">\n",
              "      <div>\n",
              "<style scoped>\n",
              "    .dataframe tbody tr th:only-of-type {\n",
              "        vertical-align: middle;\n",
              "    }\n",
              "\n",
              "    .dataframe tbody tr th {\n",
              "        vertical-align: top;\n",
              "    }\n",
              "\n",
              "    .dataframe thead th {\n",
              "        text-align: right;\n",
              "    }\n",
              "</style>\n",
              "<table border=\"1\" class=\"dataframe\">\n",
              "  <thead>\n",
              "    <tr style=\"text-align: right;\">\n",
              "      <th></th>\n",
              "      <th>Population Reference Bureau (1973–2016)[15]</th>\n",
              "      <th>United Nations Department of Economic and Social Affairs (2015)[16]</th>\n",
              "      <th>Maddison (2008)[17]</th>\n",
              "      <th>HYDE (2010)[citation needed]</th>\n",
              "      <th>Tanton (1994)[18]</th>\n",
              "      <th>Biraben (1980)[19]</th>\n",
              "      <th>McEvedy &amp; Jones (1978)[20]</th>\n",
              "      <th>Thomlinson (1975)[21]</th>\n",
              "      <th>Durand (1974)[22]</th>\n",
              "      <th>Clark (1967)[23]</th>\n",
              "    </tr>\n",
              "    <tr>\n",
              "      <th>Year</th>\n",
              "      <th></th>\n",
              "      <th></th>\n",
              "      <th></th>\n",
              "      <th></th>\n",
              "      <th></th>\n",
              "      <th></th>\n",
              "      <th></th>\n",
              "      <th></th>\n",
              "      <th></th>\n",
              "      <th></th>\n",
              "    </tr>\n",
              "  </thead>\n",
              "  <tbody>\n",
              "    <tr>\n",
              "      <th>1913</th>\n",
              "      <td>NaN</td>\n",
              "      <td>NaN</td>\n",
              "      <td>1793.</td>\n",
              "      <td>NaN</td>\n",
              "      <td>NaN</td>\n",
              "      <td>NaN</td>\n",
              "      <td>NaN</td>\n",
              "      <td>NaN</td>\n",
              "      <td>NaN</td>\n",
              "      <td>NaN</td>\n",
              "    </tr>\n",
              "    <tr>\n",
              "      <th>1920</th>\n",
              "      <td>NaN</td>\n",
              "      <td>1860.0</td>\n",
              "      <td>1863.</td>\n",
              "      <td>1912.</td>\n",
              "      <td>NaN</td>\n",
              "      <td>NaN</td>\n",
              "      <td>NaN</td>\n",
              "      <td>NaN</td>\n",
              "      <td>NaN</td>\n",
              "      <td>1968.</td>\n",
              "    </tr>\n",
              "    <tr>\n",
              "      <th>1925</th>\n",
              "      <td>NaN</td>\n",
              "      <td>NaN</td>\n",
              "      <td>NaN</td>\n",
              "      <td>NaN</td>\n",
              "      <td>NaN</td>\n",
              "      <td>NaN</td>\n",
              "      <td>2000.0</td>\n",
              "      <td>NaN</td>\n",
              "      <td>NaN</td>\n",
              "      <td>NaN</td>\n",
              "    </tr>\n",
              "    <tr>\n",
              "      <th>1930</th>\n",
              "      <td>NaN</td>\n",
              "      <td>2070.0</td>\n",
              "      <td>NaN</td>\n",
              "      <td>2092.</td>\n",
              "      <td>NaN</td>\n",
              "      <td>NaN</td>\n",
              "      <td>NaN</td>\n",
              "      <td>NaN</td>\n",
              "      <td>NaN</td>\n",
              "      <td>2145.</td>\n",
              "    </tr>\n",
              "    <tr>\n",
              "      <th>1940</th>\n",
              "      <td>NaN</td>\n",
              "      <td>2300.0</td>\n",
              "      <td>2299.</td>\n",
              "      <td>2307.</td>\n",
              "      <td>NaN</td>\n",
              "      <td>NaN</td>\n",
              "      <td>NaN</td>\n",
              "      <td>NaN</td>\n",
              "      <td>NaN</td>\n",
              "      <td>2340.</td>\n",
              "    </tr>\n",
              "  </tbody>\n",
              "</table>\n",
              "</div>\n",
              "      <button class=\"colab-df-convert\" onclick=\"convertToInteractive('df-e061d089-e65f-4e2a-a688-b115a324c4ac')\"\n",
              "              title=\"Convert this dataframe to an interactive table.\"\n",
              "              style=\"display:none;\">\n",
              "        \n",
              "  <svg xmlns=\"http://www.w3.org/2000/svg\" height=\"24px\"viewBox=\"0 0 24 24\"\n",
              "       width=\"24px\">\n",
              "    <path d=\"M0 0h24v24H0V0z\" fill=\"none\"/>\n",
              "    <path d=\"M18.56 5.44l.94 2.06.94-2.06 2.06-.94-2.06-.94-.94-2.06-.94 2.06-2.06.94zm-11 1L8.5 8.5l.94-2.06 2.06-.94-2.06-.94L8.5 2.5l-.94 2.06-2.06.94zm10 10l.94 2.06.94-2.06 2.06-.94-2.06-.94-.94-2.06-.94 2.06-2.06.94z\"/><path d=\"M17.41 7.96l-1.37-1.37c-.4-.4-.92-.59-1.43-.59-.52 0-1.04.2-1.43.59L10.3 9.45l-7.72 7.72c-.78.78-.78 2.05 0 2.83L4 21.41c.39.39.9.59 1.41.59.51 0 1.02-.2 1.41-.59l7.78-7.78 2.81-2.81c.8-.78.8-2.07 0-2.86zM5.41 20L4 18.59l7.72-7.72 1.47 1.35L5.41 20z\"/>\n",
              "  </svg>\n",
              "      </button>\n",
              "      \n",
              "  <style>\n",
              "    .colab-df-container {\n",
              "      display:flex;\n",
              "      flex-wrap:wrap;\n",
              "      gap: 12px;\n",
              "    }\n",
              "\n",
              "    .colab-df-convert {\n",
              "      background-color: #E8F0FE;\n",
              "      border: none;\n",
              "      border-radius: 50%;\n",
              "      cursor: pointer;\n",
              "      display: none;\n",
              "      fill: #1967D2;\n",
              "      height: 32px;\n",
              "      padding: 0 0 0 0;\n",
              "      width: 32px;\n",
              "    }\n",
              "\n",
              "    .colab-df-convert:hover {\n",
              "      background-color: #E2EBFA;\n",
              "      box-shadow: 0px 1px 2px rgba(60, 64, 67, 0.3), 0px 1px 3px 1px rgba(60, 64, 67, 0.15);\n",
              "      fill: #174EA6;\n",
              "    }\n",
              "\n",
              "    [theme=dark] .colab-df-convert {\n",
              "      background-color: #3B4455;\n",
              "      fill: #D2E3FC;\n",
              "    }\n",
              "\n",
              "    [theme=dark] .colab-df-convert:hover {\n",
              "      background-color: #434B5C;\n",
              "      box-shadow: 0px 1px 3px 1px rgba(0, 0, 0, 0.15);\n",
              "      filter: drop-shadow(0px 1px 2px rgba(0, 0, 0, 0.3));\n",
              "      fill: #FFFFFF;\n",
              "    }\n",
              "  </style>\n",
              "\n",
              "      <script>\n",
              "        const buttonEl =\n",
              "          document.querySelector('#df-e061d089-e65f-4e2a-a688-b115a324c4ac button.colab-df-convert');\n",
              "        buttonEl.style.display =\n",
              "          google.colab.kernel.accessAllowed ? 'block' : 'none';\n",
              "\n",
              "        async function convertToInteractive(key) {\n",
              "          const element = document.querySelector('#df-e061d089-e65f-4e2a-a688-b115a324c4ac');\n",
              "          const dataTable =\n",
              "            await google.colab.kernel.invokeFunction('convertToInteractive',\n",
              "                                                     [key], {});\n",
              "          if (!dataTable) return;\n",
              "\n",
              "          const docLinkHtml = 'Like what you see? Visit the ' +\n",
              "            '<a target=\"_blank\" href=https://colab.research.google.com/notebooks/data_table.ipynb>data table notebook</a>'\n",
              "            + ' to learn more about interactive tables.';\n",
              "          element.innerHTML = '';\n",
              "          dataTable['output_type'] = 'display_data';\n",
              "          await google.colab.output.renderOutput(dataTable, element);\n",
              "          const docLink = document.createElement('div');\n",
              "          docLink.innerHTML = docLinkHtml;\n",
              "          element.appendChild(docLink);\n",
              "        }\n",
              "      </script>\n",
              "    </div>\n",
              "  </div>\n",
              "  "
            ]
          },
          "metadata": {},
          "execution_count": 22
        }
      ],
      "source": [
        "table1.tail()"
      ]
    },
    {
      "cell_type": "markdown",
      "metadata": {
        "id": "xeJjC5oUSD_v"
      },
      "source": [
        "Again, we'll replace the long column names with more convenient abbreviations."
      ]
    },
    {
      "cell_type": "code",
      "execution_count": 23,
      "metadata": {
        "id": "izC9csGcSD_v"
      },
      "outputs": [],
      "source": [
        "table1.columns = ['PRB', 'UN', 'Maddison', 'HYDE', 'Tanton',\n",
        "                  'Biraben', 'McEvedy & Jones', 'Thomlinson', 'Durand', 'Clark']"
      ]
    },
    {
      "cell_type": "markdown",
      "metadata": {
        "id": "onGe9teLSD_v"
      },
      "source": [
        "Some of the estimates are in a form Pandas doesn't recognize as numbers, but we can coerce them to be numeric."
      ]
    },
    {
      "cell_type": "code",
      "execution_count": 24,
      "metadata": {
        "id": "_nprdWhJSD_v"
      },
      "outputs": [],
      "source": [
        "for col in table1.columns:\n",
        "    table1[col] = pd.to_numeric(table1[col], errors='coerce')"
      ]
    },
    {
      "cell_type": "markdown",
      "metadata": {
        "id": "RBOXGv56SD_w"
      },
      "source": [
        "Here are the results.  Notice that we are working in millions now, not billions."
      ]
    },
    {
      "cell_type": "code",
      "execution_count": 25,
      "metadata": {
        "scrolled": false,
        "colab": {
          "base_uri": "https://localhost:8080/",
          "height": 473
        },
        "id": "rRtP9l7DSD_w",
        "outputId": "4b375157-732f-4ee2-820d-ddfa74e7150a"
      },
      "outputs": [
        {
          "output_type": "display_data",
          "data": {
            "text/plain": [
              "<Figure size 640x480 with 1 Axes>"
            ],
            "image/png": "[encoded data removed]"
          },
          "metadata": {}
        }
      ],
      "source": [
        "table1.plot()\n",
        "decorate(xlim=[-10000, 2000], xlabel='Year',\n",
        "         ylabel='World population (millions)',\n",
        "         title='Prehistoric population estimates')\n",
        "plt.legend(fontsize='small');"
      ]
    },
    {
      "cell_type": "markdown",
      "metadata": {
        "id": "2T-qwQ37SD_w"
      },
      "source": [
        "We can use `xlim` to zoom in on everything after Year 0."
      ]
    },
    {
      "cell_type": "code",
      "execution_count": 26,
      "metadata": {
        "colab": {
          "base_uri": "https://localhost:8080/",
          "height": 473
        },
        "id": "wOeEFnVDSD_2",
        "outputId": "b2bbe5fd-01b0-4dc3-a660-ae1994867cbf"
      },
      "outputs": [
        {
          "output_type": "display_data",
          "data": {
            "text/plain": [
              "<Figure size 640x480 with 1 Axes>"
            ],
            "image/png": "[encoded data removed]"
          },
          "metadata": {}
        }
      ],
      "source": [
        "table1.plot()\n",
        "decorate(xlim=[0, 2000], xlabel='Year',\n",
        "         ylabel='World population (millions)',\n",
        "         title='CE population estimates')\n",
        "plt.legend(fontsize='small');"
      ]
    },
    {
      "cell_type": "markdown",
      "metadata": {
        "id": "EA0XDrGuSD_3"
      },
      "source": [
        "See if you can find a model that fits these data well from Year 0 to 1950.\n",
        "\n",
        "How well does your best model predict actual population growth from 1950 to the present?"
      ]
    },
    {
      "cell_type": "code",
      "execution_count": 27,
      "metadata": {
        "colab": {
          "base_uri": "https://localhost:8080/",
          "height": 473
        },
        "id": "sVrgHPasSD_3",
        "outputId": "1ecf609d-d361-4355-c100-bbea921f04e4"
      },
      "outputs": [
        {
          "output_type": "display_data",
          "data": {
            "text/plain": [
              "<Figure size 640x480 with 1 Axes>"
            ],
            "image/png": "[encoded data removed]"
          },
          "metadata": {}
        }
      ],
      "source": [
        "# Define the function that represents the model\n",
        "\n",
        "'''\n",
        "The data exhibited a convex curve pattern, where the population increased as the year increased.\n",
        "Based on this observation, I hypothesized that a model with an inverse relationship between the population and the difference between the year and a constant value might fit well.\n",
        "I performed trial and error to determine the values of the parameters a, b, and c that resulted in the best fit to the data.\n",
        "The chosen model return a + b / (c - x) captures the convex curve pattern\n",
        "by allowing the population to increase more rapidly as the year gets closer to the constant value c, resulting in a good fit to the observed data.\n",
        "'''\n",
        "def model_func(x, a, b, c):\n",
        "    return a + b / (c - x)\n",
        "\n",
        "# Generate x values\n",
        "xs = np.linspace(100, 1950)\n",
        "\n",
        "# Compute y values using the model function and the desired parameter values\n",
        "ys = model_func(xs, 100, 220000, 2050)\n",
        "\n",
        "# Plot the original data and the model\n",
        "table1.plot()\n",
        "plt.plot(xs, ys, color='blue', label='Model')\n",
        "plt.xlabel('Year')\n",
        "plt.ylabel('World Population (millions)')\n",
        "plt.title('CE Population Estimates')\n",
        "plt.legend(fontsize='small')\n",
        "\n",
        "# Apply the decorate function\n",
        "decorate(xlim=[0, 1950], xlabel='Year', ylabel='World Population (millions)', title='CE Population Estimates')\n",
        "\n",
        "plt.show()"
      ]
    },
    {
      "cell_type": "code",
      "source": [
        "# Plot the US Census data\n",
        "plt.plot(census, ':', label='US Census')\n",
        "\n",
        "# Plot the UN DESA data\n",
        "plt.plot(un, '--', label='UN DESA')\n",
        "\n",
        "# Generate x values for the model\n",
        "xs = np.linspace(1950, 2020)\n",
        "\n",
        "# Compute y values for the model\n",
        "ys = 100 + 220000 / (2050 - xs)\n",
        "\n",
        "# Plot the model\n",
        "plt.plot(xs, ys/1000, color='gray', label='Model')\n",
        "\n",
        "# Apply decorations to the plot\n",
        "decorate(xlim=[1950, 2016], xlabel='Year',\n",
        "         ylabel='World population (billions)',\n",
        "         title='Prehistoric population estimates')\n",
        "\n",
        "# the chart suggests that the model is not a good fit after 1950."
      ],
      "metadata": {
        "colab": {
          "base_uri": "https://localhost:8080/",
          "height": 473
        },
        "id": "fJj3wblj0OeH",
        "outputId": "4f5a7c05-e2a9-451c-e914-075f952e89fd"
      },
      "execution_count": 28,
      "outputs": [
        {
          "output_type": "display_data",
          "data": {
            "text/plain": [
              "<Figure size 640x480 with 1 Axes>"
            ],
            "image/png": "[encoded data removed]"
          },
          "metadata": {}
        }
      ]
    }
  ],
  "metadata": {
    "kernelspec": {
      "display_name": "Python 3",
      "language": "python",
      "name": "python3"
    },
    "language_info": {
      "codemirror_mode": {
        "name": "ipython",
        "version": 3
      },
      "file_extension": ".py",
      "mimetype": "text/x-python",
      "name": "python",
      "nbconvert_exporter": "python",
      "pygments_lexer": "ipython3",
      "version": "3.7.3"
    },
    "colab": {
      "provenance": []
    }
  },
  "nbformat": 4,
  "nbformat_minor": 0
}