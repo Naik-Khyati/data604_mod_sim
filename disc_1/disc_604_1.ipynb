{
  "nbformat": 4,
  "nbformat_minor": 0,
  "metadata": {
    "colab": {
      "provenance": []
    },
    "kernelspec": {
      "name": "python3",
      "display_name": "Python 3"
    },
    "language_info": {
      "name": "python"
    }
  },
  "cells": [
    {
      "cell_type": "code",
      "execution_count": 1,
      "metadata": {
        "colab": {
          "base_uri": "https://localhost:8080/"
        },
        "id": "fYikXxozf3qQ",
        "outputId": "4fda4c31-3a76-4cac-bda7-2eaab5b44c9c"
      },
      "outputs": [
        {
          "output_type": "stream",
          "name": "stdout",
          "text": [
            "Outcome: 8 occurred 142 times, with a probability of 14.20%\n",
            "Outcome: 5 occurred 118 times, with a probability of 11.80%\n",
            "Outcome: 2 occurred 26 times, with a probability of 2.60%\n",
            "Outcome: 10 occurred 89 times, with a probability of 8.90%\n",
            "Outcome: 6 occurred 124 times, with a probability of 12.40%\n",
            "Outcome: 4 occurred 104 times, with a probability of 10.40%\n",
            "Outcome: 11 occurred 55 times, with a probability of 5.50%\n",
            "Outcome: 3 occurred 43 times, with a probability of 4.30%\n",
            "Outcome: 12 occurred 35 times, with a probability of 3.50%\n",
            "Outcome: 7 occurred 141 times, with a probability of 14.10%\n",
            "Outcome: 9 occurred 123 times, with a probability of 12.30%\n"
          ]
        }
      ],
      "source": [
        "import random\n",
        "\n",
        "num_simulations = 1000\n",
        "outcomes = {}\n",
        "\n",
        "for _ in range(num_simulations):\n",
        "    dice1 = random.randint(1, 6)\n",
        "    dice2 = random.randint(1, 6)\n",
        "    total = dice1 + dice2\n",
        "\n",
        "    if total in outcomes:\n",
        "        outcomes[total] += 1\n",
        "    else:\n",
        "        outcomes[total] = 1\n",
        "\n",
        "for result, count in outcomes.items():\n",
        "    probability = count / num_simulations\n",
        "    print(\"Outcome: {} occurred {} times, with a probability of {:.2%}\".format(result, count, probability))"
      ]
    },
    {
      "cell_type": "markdown",
      "source": [
        "the simulation suggests that rolling a total of 7 or 8 is the most probable outcome, while rolling a total of 12 or 2 is the least probable. The other outcomes fall within varying levels of probabilities, ranging from around 3% to 15%."
      ],
      "metadata": {
        "id": "UxA0t3f0gbib"
      }
    },
    {
      "cell_type": "markdown",
      "source": [
        "To improve the simulation, we can allow the number of dice and the number of sides on each die to be customizable. This flexibility will enable user to simulate different games or variations of the dice rolling game."
      ],
      "metadata": {
        "id": "2DPeI7cNg2h0"
      }
    }
  ]
}